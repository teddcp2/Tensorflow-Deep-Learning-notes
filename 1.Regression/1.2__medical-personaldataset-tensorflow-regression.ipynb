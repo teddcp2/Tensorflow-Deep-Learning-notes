{
 "cells": [
  {
   "cell_type": "code",
   "execution_count": 1,
   "id": "meaningful-mileage",
   "metadata": {
    "_cell_guid": "b1076dfc-b9ad-4769-8c92-a6c4dae69d19",
    "_uuid": "8f2839f25d086af736a60e9eeb907d3b93b6e0e5",
    "execution": {
     "iopub.execute_input": "2021-06-20T14:02:14.684276Z",
     "iopub.status.busy": "2021-06-20T14:02:14.683636Z",
     "iopub.status.idle": "2021-06-20T14:02:14.695776Z",
     "shell.execute_reply": "2021-06-20T14:02:14.694956Z",
     "shell.execute_reply.started": "2021-06-20T12:09:21.605444Z"
    },
    "papermill": {
     "duration": 0.059927,
     "end_time": "2021-06-20T14:02:14.695951",
     "exception": false,
     "start_time": "2021-06-20T14:02:14.636024",
     "status": "completed"
    },
    "tags": []
   },
   "outputs": [
    {
     "name": "stdout",
     "output_type": "stream",
     "text": [
      "/kaggle/input/insurance/insurance.csv\n"
     ]
    }
   ],
   "source": [
    "# Input data files are available in the read-only \"../input/\" directory\n",
    "# For example, running this (by clicking run or pressing Shift+Enter) will list all files under the input directory\n",
    "\n",
    "import os\n",
    "for dirname, _, filenames in os.walk('/kaggle/input'):\n",
    "    for filename in filenames:\n",
    "        print(os.path.join(dirname, filename))"
   ]
  },
  {
   "cell_type": "code",
   "execution_count": 2,
   "id": "southern-criterion",
   "metadata": {
    "execution": {
     "iopub.execute_input": "2021-06-20T14:02:14.777959Z",
     "iopub.status.busy": "2021-06-20T14:02:14.777195Z",
     "iopub.status.idle": "2021-06-20T14:02:21.591882Z",
     "shell.execute_reply": "2021-06-20T14:02:21.591166Z",
     "shell.execute_reply.started": "2021-06-20T13:29:52.783938Z"
    },
    "papermill": {
     "duration": 6.857647,
     "end_time": "2021-06-20T14:02:21.592032",
     "exception": false,
     "start_time": "2021-06-20T14:02:14.734385",
     "status": "completed"
    },
    "tags": []
   },
   "outputs": [],
   "source": [
    "import numpy as np\n",
    "import pandas as pd\n",
    "import matplotlib.pyplot as plt\n",
    "import seaborn as sns\n",
    "import tensorflow as tf\n",
    "from tensorflow import keras\n",
    "from keras.metrics import mean_absolute_error"
   ]
  },
  {
   "cell_type": "code",
   "execution_count": null,
   "id": "injured-forestry",
   "metadata": {
    "papermill": {
     "duration": 0.037286,
     "end_time": "2021-06-20T14:02:21.667110",
     "exception": false,
     "start_time": "2021-06-20T14:02:21.629824",
     "status": "completed"
    },
    "tags": []
   },
   "outputs": [],
   "source": []
  },
  {
   "cell_type": "code",
   "execution_count": 3,
   "id": "competitive-orlando",
   "metadata": {
    "execution": {
     "iopub.execute_input": "2021-06-20T14:02:21.746729Z",
     "iopub.status.busy": "2021-06-20T14:02:21.745712Z",
     "iopub.status.idle": "2021-06-20T14:02:21.820004Z",
     "shell.execute_reply": "2021-06-20T14:02:21.820546Z",
     "shell.execute_reply.started": "2021-06-20T12:09:22.100010Z"
    },
    "papermill": {
     "duration": 0.115916,
     "end_time": "2021-06-20T14:02:21.820725",
     "exception": false,
     "start_time": "2021-06-20T14:02:21.704809",
     "status": "completed"
    },
    "tags": []
   },
   "outputs": [
    {
     "data": {
      "text/html": [
       "<div>\n",
       "<style scoped>\n",
       "    .dataframe tbody tr th:only-of-type {\n",
       "        vertical-align: middle;\n",
       "    }\n",
       "\n",
       "    .dataframe tbody tr th {\n",
       "        vertical-align: top;\n",
       "    }\n",
       "\n",
       "    .dataframe thead th {\n",
       "        text-align: right;\n",
       "    }\n",
       "</style>\n",
       "<table border=\"1\" class=\"dataframe\">\n",
       "  <thead>\n",
       "    <tr style=\"text-align: right;\">\n",
       "      <th></th>\n",
       "      <th>age</th>\n",
       "      <th>sex</th>\n",
       "      <th>bmi</th>\n",
       "      <th>children</th>\n",
       "      <th>smoker</th>\n",
       "      <th>region</th>\n",
       "      <th>charges</th>\n",
       "    </tr>\n",
       "  </thead>\n",
       "  <tbody>\n",
       "    <tr>\n",
       "      <th>0</th>\n",
       "      <td>19</td>\n",
       "      <td>female</td>\n",
       "      <td>27.900</td>\n",
       "      <td>0</td>\n",
       "      <td>yes</td>\n",
       "      <td>southwest</td>\n",
       "      <td>16884.92400</td>\n",
       "    </tr>\n",
       "    <tr>\n",
       "      <th>1</th>\n",
       "      <td>18</td>\n",
       "      <td>male</td>\n",
       "      <td>33.770</td>\n",
       "      <td>1</td>\n",
       "      <td>no</td>\n",
       "      <td>southeast</td>\n",
       "      <td>1725.55230</td>\n",
       "    </tr>\n",
       "    <tr>\n",
       "      <th>2</th>\n",
       "      <td>28</td>\n",
       "      <td>male</td>\n",
       "      <td>33.000</td>\n",
       "      <td>3</td>\n",
       "      <td>no</td>\n",
       "      <td>southeast</td>\n",
       "      <td>4449.46200</td>\n",
       "    </tr>\n",
       "    <tr>\n",
       "      <th>3</th>\n",
       "      <td>33</td>\n",
       "      <td>male</td>\n",
       "      <td>22.705</td>\n",
       "      <td>0</td>\n",
       "      <td>no</td>\n",
       "      <td>northwest</td>\n",
       "      <td>21984.47061</td>\n",
       "    </tr>\n",
       "    <tr>\n",
       "      <th>4</th>\n",
       "      <td>32</td>\n",
       "      <td>male</td>\n",
       "      <td>28.880</td>\n",
       "      <td>0</td>\n",
       "      <td>no</td>\n",
       "      <td>northwest</td>\n",
       "      <td>3866.85520</td>\n",
       "    </tr>\n",
       "  </tbody>\n",
       "</table>\n",
       "</div>"
      ],
      "text/plain": [
       "   age     sex     bmi  children smoker     region      charges\n",
       "0   19  female  27.900         0    yes  southwest  16884.92400\n",
       "1   18    male  33.770         1     no  southeast   1725.55230\n",
       "2   28    male  33.000         3     no  southeast   4449.46200\n",
       "3   33    male  22.705         0     no  northwest  21984.47061\n",
       "4   32    male  28.880         0     no  northwest   3866.85520"
      ]
     },
     "execution_count": 3,
     "metadata": {},
     "output_type": "execute_result"
    }
   ],
   "source": [
    "path= \"/kaggle/input/insurance/insurance.csv\"\n",
    "data= pd.read_csv(path)\n",
    "data.head()"
   ]
  },
  {
   "cell_type": "code",
   "execution_count": 4,
   "id": "entitled-unknown",
   "metadata": {
    "execution": {
     "iopub.execute_input": "2021-06-20T14:02:21.902137Z",
     "iopub.status.busy": "2021-06-20T14:02:21.901147Z",
     "iopub.status.idle": "2021-06-20T14:02:21.923154Z",
     "shell.execute_reply": "2021-06-20T14:02:21.922497Z",
     "shell.execute_reply.started": "2021-06-20T12:09:23.279528Z"
    },
    "papermill": {
     "duration": 0.064041,
     "end_time": "2021-06-20T14:02:21.923309",
     "exception": false,
     "start_time": "2021-06-20T14:02:21.859268",
     "status": "completed"
    },
    "tags": []
   },
   "outputs": [
    {
     "name": "stdout",
     "output_type": "stream",
     "text": [
      "<class 'pandas.core.frame.DataFrame'>\n",
      "RangeIndex: 1338 entries, 0 to 1337\n",
      "Data columns (total 7 columns):\n",
      " #   Column    Non-Null Count  Dtype  \n",
      "---  ------    --------------  -----  \n",
      " 0   age       1338 non-null   int64  \n",
      " 1   sex       1338 non-null   object \n",
      " 2   bmi       1338 non-null   float64\n",
      " 3   children  1338 non-null   int64  \n",
      " 4   smoker    1338 non-null   object \n",
      " 5   region    1338 non-null   object \n",
      " 6   charges   1338 non-null   float64\n",
      "dtypes: float64(2), int64(2), object(3)\n",
      "memory usage: 73.3+ KB\n"
     ]
    }
   ],
   "source": [
    "data.info()"
   ]
  },
  {
   "cell_type": "code",
   "execution_count": 5,
   "id": "composite-elephant",
   "metadata": {
    "execution": {
     "iopub.execute_input": "2021-06-20T14:02:22.006264Z",
     "iopub.status.busy": "2021-06-20T14:02:22.005549Z",
     "iopub.status.idle": "2021-06-20T14:02:22.012706Z",
     "shell.execute_reply": "2021-06-20T14:02:22.013217Z",
     "shell.execute_reply.started": "2021-06-20T12:09:24.159400Z"
    },
    "papermill": {
     "duration": 0.050825,
     "end_time": "2021-06-20T14:02:22.013399",
     "exception": false,
     "start_time": "2021-06-20T14:02:21.962574",
     "status": "completed"
    },
    "tags": []
   },
   "outputs": [
    {
     "data": {
      "text/plain": [
       "object     3\n",
       "float64    2\n",
       "int64      2\n",
       "dtype: int64"
      ]
     },
     "execution_count": 5,
     "metadata": {},
     "output_type": "execute_result"
    }
   ],
   "source": [
    "data.dtypes.value_counts()"
   ]
  },
  {
   "cell_type": "code",
   "execution_count": 6,
   "id": "arctic-blind",
   "metadata": {
    "execution": {
     "iopub.execute_input": "2021-06-20T14:02:22.098653Z",
     "iopub.status.busy": "2021-06-20T14:02:22.097626Z",
     "iopub.status.idle": "2021-06-20T14:02:22.525390Z",
     "shell.execute_reply": "2021-06-20T14:02:22.525916Z",
     "shell.execute_reply.started": "2021-06-20T12:09:26.859439Z"
    },
    "papermill": {
     "duration": 0.473471,
     "end_time": "2021-06-20T14:02:22.526112",
     "exception": false,
     "start_time": "2021-06-20T14:02:22.052641",
     "status": "completed"
    },
    "tags": []
   },
   "outputs": [
    {
     "data": {
      "text/plain": [
       "<AxesSubplot:>"
      ]
     },
     "execution_count": 6,
     "metadata": {},
     "output_type": "execute_result"
    },
    {
     "data": {
      "image/png": "[encoded data removed]",
      "text/plain": [
       "<Figure size 432x288 with 2 Axes>"
      ]
     },
     "metadata": {
      "needs_background": "light"
     },
     "output_type": "display_data"
    }
   ],
   "source": [
    "sns.heatmap(data.isnull())"
   ]
  },
  {
   "cell_type": "code",
   "execution_count": 7,
   "id": "compatible-writer",
   "metadata": {
    "execution": {
     "iopub.execute_input": "2021-06-20T14:02:22.612704Z",
     "iopub.status.busy": "2021-06-20T14:02:22.611917Z",
     "iopub.status.idle": "2021-06-20T14:02:23.279167Z",
     "shell.execute_reply": "2021-06-20T14:02:23.278045Z",
     "shell.execute_reply.started": "2021-06-20T13:52:09.326528Z"
    },
    "papermill": {
     "duration": 0.712849,
     "end_time": "2021-06-20T14:02:23.279318",
     "exception": false,
     "start_time": "2021-06-20T14:02:22.566469",
     "status": "completed"
    },
    "tags": []
   },
   "outputs": [
    {
     "name": "stderr",
     "output_type": "stream",
     "text": [
      "/opt/conda/lib/python3.7/site-packages/pandas/plotting/_matplotlib/tools.py:400: MatplotlibDeprecationWarning: \n",
      "The is_first_col function was deprecated in Matplotlib 3.4 and will be removed two minor releases later. Use ax.get_subplotspec().is_first_col() instead.\n",
      "  if ax.is_first_col():\n"
     ]
    },
    {
     "data": {
      "text/plain": [
       "array([[<AxesSubplot:title={'center':'age'}>,\n",
       "        <AxesSubplot:title={'center':'bmi'}>],\n",
       "       [<AxesSubplot:title={'center':'children'}>,\n",
       "        <AxesSubplot:title={'center':'charges'}>]], dtype=object)"
      ]
     },
     "execution_count": 7,
     "metadata": {},
     "output_type": "execute_result"
    },
    {
     "data": {
      "image/png": "[encoded data removed]",
      "text/plain": [
       "<Figure size 1080x720 with 4 Axes>"
      ]
     },
     "metadata": {
      "needs_background": "light"
     },
     "output_type": "display_data"
    }
   ],
   "source": [
    "data.hist(figsize=(15,10))"
   ]
  },
  {
   "cell_type": "code",
   "execution_count": 8,
   "id": "formal-battery",
   "metadata": {
    "execution": {
     "iopub.execute_input": "2021-06-20T14:02:23.371714Z",
     "iopub.status.busy": "2021-06-20T14:02:23.371023Z",
     "iopub.status.idle": "2021-06-20T14:02:23.565832Z",
     "shell.execute_reply": "2021-06-20T14:02:23.565262Z",
     "shell.execute_reply.started": "2021-06-20T13:52:26.462130Z"
    },
    "papermill": {
     "duration": 0.244775,
     "end_time": "2021-06-20T14:02:23.565973",
     "exception": false,
     "start_time": "2021-06-20T14:02:23.321198",
     "status": "completed"
    },
    "tags": []
   },
   "outputs": [
    {
     "data": {
      "text/plain": [
       "<AxesSubplot:>"
      ]
     },
     "execution_count": 8,
     "metadata": {},
     "output_type": "execute_result"
    },
    {
     "data": {
      "image/png": "[encoded data removed]",
      "text/plain": [
       "<Figure size 432x288 with 1 Axes>"
      ]
     },
     "metadata": {
      "needs_background": "light"
     },
     "output_type": "display_data"
    }
   ],
   "source": [
    "data.plot(kind=\"box\")"
   ]
  },
  {
   "cell_type": "code",
   "execution_count": 9,
   "id": "roman-mission",
   "metadata": {
    "execution": {
     "iopub.execute_input": "2021-06-20T14:02:23.837324Z",
     "iopub.status.busy": "2021-06-20T14:02:23.833820Z",
     "iopub.status.idle": "2021-06-20T14:02:24.120786Z",
     "shell.execute_reply": "2021-06-20T14:02:24.120011Z",
     "shell.execute_reply.started": "2021-06-20T13:57:12.841575Z"
    },
    "papermill": {
     "duration": 0.512478,
     "end_time": "2021-06-20T14:02:24.120932",
     "exception": false,
     "start_time": "2021-06-20T14:02:23.608454",
     "status": "completed"
    },
    "tags": []
   },
   "outputs": [
    {
     "data": {
      "text/plain": [
       "<AxesSubplot:>"
      ]
     },
     "execution_count": 9,
     "metadata": {},
     "output_type": "execute_result"
    },
    {
     "data": {
      "image/png": "[encoded data removed]",
      "text/plain": [
       "<Figure size 432x288 with 2 Axes>"
      ]
     },
     "metadata": {
      "needs_background": "light"
     },
     "output_type": "display_data"
    }
   ],
   "source": [
    "sns.heatmap(data.corr(), annot=True)"
   ]
  },
  {
   "cell_type": "code",
   "execution_count": 10,
   "id": "exclusive-stationery",
   "metadata": {
    "execution": {
     "iopub.execute_input": "2021-06-20T14:02:24.243210Z",
     "iopub.status.busy": "2021-06-20T14:02:24.217603Z",
     "iopub.status.idle": "2021-06-20T14:02:24.644049Z",
     "shell.execute_reply": "2021-06-20T14:02:24.643453Z",
     "shell.execute_reply.started": "2021-06-20T13:58:14.777689Z"
    },
    "papermill": {
     "duration": 0.47879,
     "end_time": "2021-06-20T14:02:24.644195",
     "exception": false,
     "start_time": "2021-06-20T14:02:24.165405",
     "status": "completed"
    },
    "tags": []
   },
   "outputs": [
    {
     "data": {
      "text/plain": [
       "<AxesSubplot:xlabel='age', ylabel='charges'>"
      ]
     },
     "execution_count": 10,
     "metadata": {},
     "output_type": "execute_result"
    },
    {
     "data": {
      "image/png": "[encoded data removed]",
      "text/plain": [
       "<Figure size 432x288 with 1 Axes>"
      ]
     },
     "metadata": {
      "needs_background": "light"
     },
     "output_type": "display_data"
    }
   ],
   "source": [
    "sns.scatterplot(x= \"age\", y=\"charges\", data= data, hue=\"region\")"
   ]
  },
  {
   "cell_type": "code",
   "execution_count": 11,
   "id": "falling-bones",
   "metadata": {
    "execution": {
     "iopub.execute_input": "2021-06-20T14:02:24.784914Z",
     "iopub.status.busy": "2021-06-20T14:02:24.768005Z",
     "iopub.status.idle": "2021-06-20T14:02:25.052666Z",
     "shell.execute_reply": "2021-06-20T14:02:25.051576Z",
     "shell.execute_reply.started": "2021-06-20T13:57:49.946128Z"
    },
    "papermill": {
     "duration": 0.361749,
     "end_time": "2021-06-20T14:02:25.052844",
     "exception": false,
     "start_time": "2021-06-20T14:02:24.691095",
     "status": "completed"
    },
    "tags": []
   },
   "outputs": [
    {
     "data": {
      "text/plain": [
       "<AxesSubplot:xlabel='bmi', ylabel='charges'>"
      ]
     },
     "execution_count": 11,
     "metadata": {},
     "output_type": "execute_result"
    },
    {
     "data": {
      "image/png": "[encoded data removed]",
      "text/plain": [
       "<Figure size 432x288 with 1 Axes>"
      ]
     },
     "metadata": {
      "needs_background": "light"
     },
     "output_type": "display_data"
    }
   ],
   "source": [
    "sns.scatterplot(x= \"bmi\", y=\"charges\", data= data, hue=\"sex\")"
   ]
  },
  {
   "cell_type": "code",
   "execution_count": 12,
   "id": "downtown-nature",
   "metadata": {
    "execution": {
     "iopub.execute_input": "2021-06-20T14:02:25.165097Z",
     "iopub.status.busy": "2021-06-20T14:02:25.164360Z",
     "iopub.status.idle": "2021-06-20T14:02:25.444145Z",
     "shell.execute_reply": "2021-06-20T14:02:25.444672Z",
     "shell.execute_reply.started": "2021-06-20T13:58:44.522870Z"
    },
    "papermill": {
     "duration": 0.342673,
     "end_time": "2021-06-20T14:02:25.444869",
     "exception": false,
     "start_time": "2021-06-20T14:02:25.102196",
     "status": "completed"
    },
    "tags": []
   },
   "outputs": [
    {
     "data": {
      "text/plain": [
       "<AxesSubplot:xlabel='bmi', ylabel='charges'>"
      ]
     },
     "execution_count": 12,
     "metadata": {},
     "output_type": "execute_result"
    },
    {
     "data": {
      "image/png": "[encoded data removed]",
      "text/plain": [
       "<Figure size 432x288 with 1 Axes>"
      ]
     },
     "metadata": {
      "needs_background": "light"
     },
     "output_type": "display_data"
    }
   ],
   "source": [
    "sns.scatterplot(x= \"bmi\", y=\"charges\", data= data, size=\"smoker\")"
   ]
  },
  {
   "cell_type": "code",
   "execution_count": 13,
   "id": "played-junior",
   "metadata": {
    "execution": {
     "iopub.execute_input": "2021-06-20T14:02:25.555351Z",
     "iopub.status.busy": "2021-06-20T14:02:25.554651Z",
     "iopub.status.idle": "2021-06-20T14:02:25.563815Z",
     "shell.execute_reply": "2021-06-20T14:02:25.563209Z",
     "shell.execute_reply.started": "2021-06-20T12:09:27.659360Z"
    },
    "papermill": {
     "duration": 0.066635,
     "end_time": "2021-06-20T14:02:25.563977",
     "exception": false,
     "start_time": "2021-06-20T14:02:25.497342",
     "status": "completed"
    },
    "tags": []
   },
   "outputs": [
    {
     "data": {
      "text/plain": [
       "((1338, 6), (1338,))"
      ]
     },
     "execution_count": 13,
     "metadata": {},
     "output_type": "execute_result"
    }
   ],
   "source": [
    "x= data.drop(\"charges\", axis= 1)\n",
    "y= data.charges\n",
    "\n",
    "x.shape, y.shape"
   ]
  },
  {
   "cell_type": "code",
   "execution_count": 14,
   "id": "fourth-happiness",
   "metadata": {
    "execution": {
     "iopub.execute_input": "2021-06-20T14:02:25.673683Z",
     "iopub.status.busy": "2021-06-20T14:02:25.672998Z",
     "iopub.status.idle": "2021-06-20T14:02:25.931814Z",
     "shell.execute_reply": "2021-06-20T14:02:25.931128Z",
     "shell.execute_reply.started": "2021-06-20T12:09:29.024844Z"
    },
    "papermill": {
     "duration": 0.315072,
     "end_time": "2021-06-20T14:02:25.932030",
     "exception": false,
     "start_time": "2021-06-20T14:02:25.616958",
     "status": "completed"
    },
    "tags": []
   },
   "outputs": [],
   "source": [
    "from sklearn.model_selection import train_test_split\n",
    "\n",
    "x_train, x_test, y_train, y_tes= train_test_split(x,y,test_size= 0.3, random_state= 42)"
   ]
  },
  {
   "cell_type": "code",
   "execution_count": 15,
   "id": "affecting-charity",
   "metadata": {
    "execution": {
     "iopub.execute_input": "2021-06-20T14:02:26.050101Z",
     "iopub.status.busy": "2021-06-20T14:02:26.049295Z",
     "iopub.status.idle": "2021-06-20T14:02:26.053872Z",
     "shell.execute_reply": "2021-06-20T14:02:26.053355Z",
     "shell.execute_reply.started": "2021-06-20T12:27:48.923121Z"
    },
    "papermill": {
     "duration": 0.06975,
     "end_time": "2021-06-20T14:02:26.054017",
     "exception": false,
     "start_time": "2021-06-20T14:02:25.984267",
     "status": "completed"
    },
    "tags": []
   },
   "outputs": [
    {
     "data": {
      "text/plain": [
       "(Index(['sex', 'smoker', 'region'], dtype='object'),\n",
       " Index(['age', 'bmi', 'children', 'charges'], dtype='object'))"
      ]
     },
     "execution_count": 15,
     "metadata": {},
     "output_type": "execute_result"
    }
   ],
   "source": [
    "cat_cols= data.select_dtypes(include=\"object\").columns\n",
    "num_cols= data.select_dtypes(exclude=\"object\").columns\n",
    "\n",
    "cat_cols, num_cols"
   ]
  },
  {
   "cell_type": "code",
   "execution_count": 16,
   "id": "sticky-steam",
   "metadata": {
    "execution": {
     "iopub.execute_input": "2021-06-20T14:02:26.162273Z",
     "iopub.status.busy": "2021-06-20T14:02:26.161580Z",
     "iopub.status.idle": "2021-06-20T14:02:26.167186Z",
     "shell.execute_reply": "2021-06-20T14:02:26.166533Z",
     "shell.execute_reply.started": "2021-06-20T12:28:39.733101Z"
    },
    "papermill": {
     "duration": 0.061005,
     "end_time": "2021-06-20T14:02:26.167332",
     "exception": false,
     "start_time": "2021-06-20T14:02:26.106327",
     "status": "completed"
    },
    "tags": []
   },
   "outputs": [],
   "source": [
    "num_cols= num_cols.drop(\"charges\")"
   ]
  },
  {
   "cell_type": "code",
   "execution_count": 17,
   "id": "absent-remainder",
   "metadata": {
    "execution": {
     "iopub.execute_input": "2021-06-20T14:02:26.277677Z",
     "iopub.status.busy": "2021-06-20T14:02:26.276734Z",
     "iopub.status.idle": "2021-06-20T14:02:26.288566Z",
     "shell.execute_reply": "2021-06-20T14:02:26.289123Z",
     "shell.execute_reply.started": "2021-06-20T12:28:41.200064Z"
    },
    "papermill": {
     "duration": 0.069326,
     "end_time": "2021-06-20T14:02:26.289322",
     "exception": false,
     "start_time": "2021-06-20T14:02:26.219996",
     "status": "completed"
    },
    "tags": []
   },
   "outputs": [],
   "source": [
    "from sklearn.compose import make_column_transformer\n",
    "from sklearn.preprocessing import MinMaxScaler, OneHotEncoder"
   ]
  },
  {
   "cell_type": "code",
   "execution_count": 18,
   "id": "welcome-testimony",
   "metadata": {
    "execution": {
     "iopub.execute_input": "2021-06-20T14:02:26.398331Z",
     "iopub.status.busy": "2021-06-20T14:02:26.397334Z",
     "iopub.status.idle": "2021-06-20T14:02:26.416600Z",
     "shell.execute_reply": "2021-06-20T14:02:26.417140Z",
     "shell.execute_reply.started": "2021-06-20T12:28:44.462382Z"
    },
    "papermill": {
     "duration": 0.075759,
     "end_time": "2021-06-20T14:02:26.417344",
     "exception": false,
     "start_time": "2021-06-20T14:02:26.341585",
     "status": "completed"
    },
    "tags": []
   },
   "outputs": [
    {
     "data": {
      "text/plain": [
       "(      age     sex     bmi  children smoker     region\n",
       " 332    61  female  31.160         0     no  northwest\n",
       " 355    46    male  27.600         0     no  southwest\n",
       " 138    54  female  31.900         3     no  southeast\n",
       " 381    55    male  30.685         0    yes  northeast\n",
       " 292    25    male  45.540         2    yes  southeast\n",
       " ...   ...     ...     ...       ...    ...        ...\n",
       " 1095   18  female  31.350         4     no  northeast\n",
       " 1130   39  female  23.870         5     no  southeast\n",
       " 1294   58    male  25.175         0     no  northeast\n",
       " 860    37  female  47.600         2    yes  southwest\n",
       " 1126   55    male  29.900         0     no  southwest\n",
       " \n",
       " [936 rows x 6 columns],\n",
       "       age     sex     bmi  children smoker     region\n",
       " 764    45  female  25.175         2     no  northeast\n",
       " 887    36  female  30.020         0     no  northwest\n",
       " 890    64  female  26.885         0    yes  northwest\n",
       " 1293   46    male  25.745         3     no  northwest\n",
       " 259    19    male  31.920         0    yes  northwest\n",
       " ...   ...     ...     ...       ...    ...        ...\n",
       " 701    50  female  44.745         0     no  northeast\n",
       " 672    36    male  29.700         0     no  southeast\n",
       " 1163   18  female  28.215         0     no  northeast\n",
       " 1103   58    male  36.080         0     no  southeast\n",
       " 1295   20    male  22.000         1     no  southwest\n",
       " \n",
       " [402 rows x 6 columns])"
      ]
     },
     "execution_count": 18,
     "metadata": {},
     "output_type": "execute_result"
    }
   ],
   "source": [
    "x_train, x_test"
   ]
  },
  {
   "cell_type": "code",
   "execution_count": 19,
   "id": "convinced-mortgage",
   "metadata": {
    "execution": {
     "iopub.execute_input": "2021-06-20T14:02:26.531657Z",
     "iopub.status.busy": "2021-06-20T14:02:26.530682Z",
     "iopub.status.idle": "2021-06-20T14:02:26.551341Z",
     "shell.execute_reply": "2021-06-20T14:02:26.551857Z",
     "shell.execute_reply.started": "2021-06-20T12:33:02.652266Z"
    },
    "papermill": {
     "duration": 0.077354,
     "end_time": "2021-06-20T14:02:26.552043",
     "exception": false,
     "start_time": "2021-06-20T14:02:26.474689",
     "status": "completed"
    },
    "tags": []
   },
   "outputs": [],
   "source": [
    "transformer= make_column_transformer( (OneHotEncoder(handle_unknown=\"ignore\"), cat_cols),\n",
    "                                      (MinMaxScaler(), num_cols),\n",
    "                                     remainder= \"passthrough\"\n",
    "                                    )\n",
    "\n",
    "x_train= transformer.fit_transform(x_train)\n",
    "x_test= transformer.transform(x_test)"
   ]
  },
  {
   "cell_type": "code",
   "execution_count": 20,
   "id": "american-separate",
   "metadata": {
    "execution": {
     "iopub.execute_input": "2021-06-20T14:02:26.664768Z",
     "iopub.status.busy": "2021-06-20T14:02:26.663670Z",
     "iopub.status.idle": "2021-06-20T14:02:26.671562Z",
     "shell.execute_reply": "2021-06-20T14:02:26.670977Z",
     "shell.execute_reply.started": "2021-06-20T12:33:39.352924Z"
    },
    "papermill": {
     "duration": 0.06665,
     "end_time": "2021-06-20T14:02:26.671724",
     "exception": false,
     "start_time": "2021-06-20T14:02:26.605074",
     "status": "completed"
    },
    "tags": []
   },
   "outputs": [
    {
     "data": {
      "text/plain": [
       "((11,), (936, 11))"
      ]
     },
     "execution_count": 20,
     "metadata": {},
     "output_type": "execute_result"
    }
   ],
   "source": [
    "x_train[0].shape, x_train.shape"
   ]
  },
  {
   "cell_type": "code",
   "execution_count": 21,
   "id": "alive-hunger",
   "metadata": {
    "execution": {
     "iopub.execute_input": "2021-06-20T14:02:26.784794Z",
     "iopub.status.busy": "2021-06-20T14:02:26.784012Z",
     "iopub.status.idle": "2021-06-20T14:02:26.787628Z",
     "shell.execute_reply": "2021-06-20T14:02:26.786884Z",
     "shell.execute_reply.started": "2021-06-20T12:39:04.192459Z"
    },
    "papermill": {
     "duration": 0.061522,
     "end_time": "2021-06-20T14:02:26.787831",
     "exception": false,
     "start_time": "2021-06-20T14:02:26.726309",
     "status": "completed"
    },
    "tags": []
   },
   "outputs": [],
   "source": [
    "tf.random.set_seed(42)"
   ]
  },
  {
   "cell_type": "code",
   "execution_count": 22,
   "id": "aquatic-preference",
   "metadata": {
    "execution": {
     "iopub.execute_input": "2021-06-20T14:02:26.906782Z",
     "iopub.status.busy": "2021-06-20T14:02:26.905529Z",
     "iopub.status.idle": "2021-06-20T14:02:27.005216Z",
     "shell.execute_reply": "2021-06-20T14:02:27.005692Z",
     "shell.execute_reply.started": "2021-06-20T12:39:54.379658Z"
    },
    "papermill": {
     "duration": 0.15919,
     "end_time": "2021-06-20T14:02:27.005906",
     "exception": false,
     "start_time": "2021-06-20T14:02:26.846716",
     "status": "completed"
    },
    "tags": []
   },
   "outputs": [],
   "source": [
    "model_1= keras.Sequential([\n",
    "    keras.layers.Dense(4, input_shape=(11,)),\n",
    "    keras.layers.Dense(8, activation=\"relu\"),\n",
    "    keras.layers.Dense(1)\n",
    "], name=\"model-1\")"
   ]
  },
  {
   "cell_type": "code",
   "execution_count": 23,
   "id": "bottom-denmark",
   "metadata": {
    "execution": {
     "iopub.execute_input": "2021-06-20T14:02:27.119279Z",
     "iopub.status.busy": "2021-06-20T14:02:27.118554Z",
     "iopub.status.idle": "2021-06-20T14:02:27.134418Z",
     "shell.execute_reply": "2021-06-20T14:02:27.133673Z",
     "shell.execute_reply.started": "2021-06-20T12:39:54.708239Z"
    },
    "papermill": {
     "duration": 0.075331,
     "end_time": "2021-06-20T14:02:27.134568",
     "exception": false,
     "start_time": "2021-06-20T14:02:27.059237",
     "status": "completed"
    },
    "tags": []
   },
   "outputs": [],
   "source": [
    "model_1.compile(loss= \"mae\",\n",
    "              optimizer= tf.keras.optimizers.SGD(),\n",
    "              metrics=[\"mae\"]\n",
    "             )"
   ]
  },
  {
   "cell_type": "code",
   "execution_count": 24,
   "id": "economic-porter",
   "metadata": {
    "execution": {
     "iopub.execute_input": "2021-06-20T14:02:27.247380Z",
     "iopub.status.busy": "2021-06-20T14:02:27.246663Z",
     "iopub.status.idle": "2021-06-20T14:02:31.520271Z",
     "shell.execute_reply": "2021-06-20T14:02:31.520734Z",
     "shell.execute_reply.started": "2021-06-20T12:39:55.592241Z"
    },
    "papermill": {
     "duration": 4.332857,
     "end_time": "2021-06-20T14:02:31.520932",
     "exception": false,
     "start_time": "2021-06-20T14:02:27.188075",
     "status": "completed"
    },
    "tags": []
   },
   "outputs": [
    {
     "name": "stdout",
     "output_type": "stream",
     "text": [
      "Epoch 1/100\n",
      "30/30 [==============================] - 0s 1ms/step - loss: 13352.2564 - mae: 13352.2564\n",
      "Epoch 2/100\n",
      "30/30 [==============================] - 0s 1ms/step - loss: 13779.0640 - mae: 13779.0640\n",
      "Epoch 3/100\n",
      "30/30 [==============================] - 0s 1ms/step - loss: 13106.2327 - mae: 13106.2327\n",
      "Epoch 4/100\n",
      "30/30 [==============================] - 0s 1ms/step - loss: 13087.5226 - mae: 13087.5226\n",
      "Epoch 5/100\n",
      "30/30 [==============================] - 0s 1ms/step - loss: 12084.1629 - mae: 12084.1629\n",
      "Epoch 6/100\n",
      "30/30 [==============================] - 0s 1ms/step - loss: 6313.1632 - mae: 6313.1632\n",
      "Epoch 7/100\n",
      "30/30 [==============================] - 0s 1ms/step - loss: 5662.5235 - mae: 5662.5235\n",
      "Epoch 8/100\n",
      "30/30 [==============================] - 0s 1ms/step - loss: 6054.5323 - mae: 6054.5323\n",
      "Epoch 9/100\n",
      "30/30 [==============================] - 0s 1ms/step - loss: 5699.2202 - mae: 5699.2202\n",
      "Epoch 10/100\n",
      "30/30 [==============================] - 0s 1ms/step - loss: 5162.0169 - mae: 5162.0169\n",
      "Epoch 11/100\n",
      "30/30 [==============================] - 0s 1ms/step - loss: 4743.5648 - mae: 4743.5648\n",
      "Epoch 12/100\n",
      "30/30 [==============================] - 0s 1ms/step - loss: 4345.8820 - mae: 4345.8820\n",
      "Epoch 13/100\n",
      "30/30 [==============================] - 0s 1ms/step - loss: 4344.2377 - mae: 4344.2377\n",
      "Epoch 14/100\n",
      "30/30 [==============================] - 0s 1ms/step - loss: 4987.0126 - mae: 4987.0126\n",
      "Epoch 15/100\n",
      "30/30 [==============================] - 0s 1ms/step - loss: 5733.5833 - mae: 5733.5833\n",
      "Epoch 16/100\n",
      "30/30 [==============================] - 0s 1ms/step - loss: 5597.9706 - mae: 5597.9706\n",
      "Epoch 17/100\n",
      "30/30 [==============================] - 0s 1ms/step - loss: 5380.9335 - mae: 5380.9335\n",
      "Epoch 18/100\n",
      "30/30 [==============================] - 0s 1ms/step - loss: 7772.3359 - mae: 7772.3359\n",
      "Epoch 19/100\n",
      "30/30 [==============================] - 0s 1ms/step - loss: 5744.8794 - mae: 5744.8794\n",
      "Epoch 20/100\n",
      "30/30 [==============================] - 0s 1ms/step - loss: 5132.2370 - mae: 5132.2370\n",
      "Epoch 21/100\n",
      "30/30 [==============================] - 0s 1ms/step - loss: 4618.5792 - mae: 4618.5792\n",
      "Epoch 22/100\n",
      "30/30 [==============================] - 0s 1ms/step - loss: 5732.5935 - mae: 5732.5935\n",
      "Epoch 23/100\n",
      "30/30 [==============================] - 0s 1ms/step - loss: 4507.6652 - mae: 4507.6652\n",
      "Epoch 24/100\n",
      "30/30 [==============================] - 0s 1ms/step - loss: 5517.7980 - mae: 5517.7980\n",
      "Epoch 25/100\n",
      "30/30 [==============================] - 0s 1ms/step - loss: 5223.5123 - mae: 5223.5123\n",
      "Epoch 26/100\n",
      "30/30 [==============================] - 0s 1ms/step - loss: 5590.4960 - mae: 5590.4960\n",
      "Epoch 27/100\n",
      "30/30 [==============================] - 0s 1ms/step - loss: 5269.1919 - mae: 5269.1919\n",
      "Epoch 28/100\n",
      "30/30 [==============================] - 0s 1ms/step - loss: 5071.8446 - mae: 5071.8446\n",
      "Epoch 29/100\n",
      "30/30 [==============================] - 0s 1ms/step - loss: 4742.0589 - mae: 4742.0589\n",
      "Epoch 30/100\n",
      "30/30 [==============================] - 0s 1ms/step - loss: 4925.2858 - mae: 4925.2858\n",
      "Epoch 31/100\n",
      "30/30 [==============================] - 0s 1ms/step - loss: 4879.0687 - mae: 4879.0687\n",
      "Epoch 32/100\n",
      "30/30 [==============================] - 0s 1ms/step - loss: 5148.7912 - mae: 5148.7912\n",
      "Epoch 33/100\n",
      "30/30 [==============================] - 0s 1ms/step - loss: 5439.0935 - mae: 5439.0935\n",
      "Epoch 34/100\n",
      "30/30 [==============================] - 0s 1ms/step - loss: 4351.7952 - mae: 4351.7952\n",
      "Epoch 35/100\n",
      "30/30 [==============================] - 0s 1ms/step - loss: 4627.0125 - mae: 4627.0125\n",
      "Epoch 36/100\n",
      "30/30 [==============================] - 0s 1ms/step - loss: 4559.0751 - mae: 4559.0751\n",
      "Epoch 37/100\n",
      "30/30 [==============================] - 0s 1ms/step - loss: 5239.6425 - mae: 5239.6425\n",
      "Epoch 38/100\n",
      "30/30 [==============================] - 0s 1ms/step - loss: 5543.7041 - mae: 5543.7041\n",
      "Epoch 39/100\n",
      "30/30 [==============================] - 0s 1ms/step - loss: 5040.5030 - mae: 5040.5030\n",
      "Epoch 40/100\n",
      "30/30 [==============================] - 0s 1ms/step - loss: 4529.1274 - mae: 4529.1274\n",
      "Epoch 41/100\n",
      "30/30 [==============================] - 0s 1ms/step - loss: 5201.1986 - mae: 5201.1986\n",
      "Epoch 42/100\n",
      "30/30 [==============================] - 0s 1ms/step - loss: 4928.1200 - mae: 4928.1200\n",
      "Epoch 43/100\n",
      "30/30 [==============================] - 0s 1ms/step - loss: 5096.2225 - mae: 5096.2225\n",
      "Epoch 44/100\n",
      "30/30 [==============================] - 0s 1ms/step - loss: 5273.8844 - mae: 5273.8844\n",
      "Epoch 45/100\n",
      "30/30 [==============================] - 0s 1ms/step - loss: 5425.0517 - mae: 5425.0517\n",
      "Epoch 46/100\n",
      "30/30 [==============================] - 0s 1ms/step - loss: 4882.7700 - mae: 4882.7700\n",
      "Epoch 47/100\n",
      "30/30 [==============================] - 0s 1ms/step - loss: 5068.1307 - mae: 5068.1307\n",
      "Epoch 48/100\n",
      "30/30 [==============================] - 0s 1ms/step - loss: 5683.1115 - mae: 5683.1115\n",
      "Epoch 49/100\n",
      "30/30 [==============================] - 0s 1ms/step - loss: 4775.7930 - mae: 4775.7930\n",
      "Epoch 50/100\n",
      "30/30 [==============================] - 0s 1ms/step - loss: 4557.7181 - mae: 4557.7181\n",
      "Epoch 51/100\n",
      "30/30 [==============================] - 0s 1ms/step - loss: 5619.3247 - mae: 5619.3247\n",
      "Epoch 52/100\n",
      "30/30 [==============================] - 0s 1ms/step - loss: 5139.9435 - mae: 5139.9435\n",
      "Epoch 53/100\n",
      "30/30 [==============================] - 0s 1ms/step - loss: 5561.9492 - mae: 5561.9492\n",
      "Epoch 54/100\n",
      "30/30 [==============================] - 0s 1ms/step - loss: 4763.6995 - mae: 4763.6995\n",
      "Epoch 55/100\n",
      "30/30 [==============================] - 0s 1ms/step - loss: 5738.2572 - mae: 5738.2572\n",
      "Epoch 56/100\n",
      "30/30 [==============================] - 0s 1ms/step - loss: 4796.2018 - mae: 4796.2018\n",
      "Epoch 57/100\n",
      "30/30 [==============================] - 0s 1ms/step - loss: 4855.6807 - mae: 4855.6807\n",
      "Epoch 58/100\n",
      "30/30 [==============================] - 0s 1ms/step - loss: 4267.1977 - mae: 4267.1977\n",
      "Epoch 59/100\n",
      "30/30 [==============================] - 0s 1ms/step - loss: 6187.3405 - mae: 6187.3405\n",
      "Epoch 60/100\n",
      "30/30 [==============================] - 0s 1ms/step - loss: 6135.0138 - mae: 6135.0138\n",
      "Epoch 61/100\n",
      "30/30 [==============================] - 0s 1ms/step - loss: 4277.8981 - mae: 4277.8981\n",
      "Epoch 62/100\n",
      "30/30 [==============================] - 0s 1ms/step - loss: 4872.1123 - mae: 4872.1123\n",
      "Epoch 63/100\n",
      "30/30 [==============================] - 0s 1ms/step - loss: 4981.6855 - mae: 4981.6855\n",
      "Epoch 64/100\n",
      "30/30 [==============================] - 0s 1ms/step - loss: 5077.6949 - mae: 5077.6949\n",
      "Epoch 65/100\n",
      "30/30 [==============================] - 0s 1ms/step - loss: 5591.8692 - mae: 5591.8692\n",
      "Epoch 66/100\n",
      "30/30 [==============================] - 0s 1ms/step - loss: 5416.1438 - mae: 5416.1438\n",
      "Epoch 67/100\n",
      "30/30 [==============================] - 0s 1ms/step - loss: 4423.5018 - mae: 4423.5018\n",
      "Epoch 68/100\n",
      "30/30 [==============================] - 0s 1ms/step - loss: 5020.2259 - mae: 5020.2259\n",
      "Epoch 69/100\n",
      "30/30 [==============================] - 0s 1ms/step - loss: 5112.4879 - mae: 5112.4879\n",
      "Epoch 70/100\n",
      "30/30 [==============================] - 0s 1ms/step - loss: 5949.6392 - mae: 5949.6392\n",
      "Epoch 71/100\n",
      "30/30 [==============================] - 0s 1ms/step - loss: 5307.5067 - mae: 5307.5067\n",
      "Epoch 72/100\n",
      "30/30 [==============================] - 0s 1ms/step - loss: 4546.8157 - mae: 4546.8157\n",
      "Epoch 73/100\n",
      "30/30 [==============================] - 0s 1ms/step - loss: 5115.4656 - mae: 5115.4656\n",
      "Epoch 74/100\n",
      "30/30 [==============================] - 0s 1ms/step - loss: 4587.3076 - mae: 4587.3076\n",
      "Epoch 75/100\n",
      "30/30 [==============================] - 0s 1ms/step - loss: 5099.2284 - mae: 5099.2284\n",
      "Epoch 76/100\n",
      "30/30 [==============================] - 0s 1ms/step - loss: 4759.3598 - mae: 4759.3598\n",
      "Epoch 77/100\n",
      "30/30 [==============================] - 0s 1ms/step - loss: 5208.6759 - mae: 5208.6759\n",
      "Epoch 78/100\n",
      "30/30 [==============================] - 0s 1ms/step - loss: 4720.7037 - mae: 4720.7037\n",
      "Epoch 79/100\n",
      "30/30 [==============================] - 0s 1ms/step - loss: 6006.7730 - mae: 6006.7730\n",
      "Epoch 80/100\n",
      "30/30 [==============================] - 0s 1ms/step - loss: 5171.3880 - mae: 5171.3880\n",
      "Epoch 81/100\n",
      "30/30 [==============================] - 0s 1ms/step - loss: 4654.8221 - mae: 4654.8221\n",
      "Epoch 82/100\n",
      "30/30 [==============================] - 0s 1ms/step - loss: 5994.6616 - mae: 5994.6616\n",
      "Epoch 83/100\n",
      "30/30 [==============================] - 0s 1ms/step - loss: 5313.9629 - mae: 5313.9629\n",
      "Epoch 84/100\n",
      "30/30 [==============================] - 0s 1ms/step - loss: 4883.4432 - mae: 4883.4432\n",
      "Epoch 85/100\n",
      "30/30 [==============================] - 0s 1ms/step - loss: 5107.7911 - mae: 5107.7911\n",
      "Epoch 86/100\n",
      "30/30 [==============================] - 0s 1ms/step - loss: 4693.2122 - mae: 4693.2122\n",
      "Epoch 87/100\n",
      "30/30 [==============================] - 0s 1ms/step - loss: 4674.7315 - mae: 4674.7315\n",
      "Epoch 88/100\n",
      "30/30 [==============================] - 0s 1ms/step - loss: 4437.9216 - mae: 4437.9216\n",
      "Epoch 89/100\n",
      "30/30 [==============================] - 0s 1ms/step - loss: 4654.1330 - mae: 4654.1330\n",
      "Epoch 90/100\n",
      "30/30 [==============================] - 0s 1ms/step - loss: 4888.5253 - mae: 4888.5253\n",
      "Epoch 91/100\n",
      "30/30 [==============================] - 0s 1ms/step - loss: 4578.5468 - mae: 4578.5468\n",
      "Epoch 92/100\n",
      "30/30 [==============================] - 0s 1ms/step - loss: 5320.0561 - mae: 5320.0561\n",
      "Epoch 93/100\n",
      "30/30 [==============================] - 0s 989us/step - loss: 4629.1088 - mae: 4629.1088\n",
      "Epoch 94/100\n",
      "30/30 [==============================] - 0s 1ms/step - loss: 4468.2612 - mae: 4468.2612\n",
      "Epoch 95/100\n",
      "30/30 [==============================] - 0s 1ms/step - loss: 4890.5954 - mae: 4890.5954\n",
      "Epoch 96/100\n",
      "30/30 [==============================] - 0s 1ms/step - loss: 4114.2309 - mae: 4114.2309\n",
      "Epoch 97/100\n",
      "30/30 [==============================] - 0s 1ms/step - loss: 4852.6764 - mae: 4852.6764\n",
      "Epoch 98/100\n",
      "30/30 [==============================] - 0s 1ms/step - loss: 4337.8901 - mae: 4337.8901\n",
      "Epoch 99/100\n",
      "30/30 [==============================] - 0s 1ms/step - loss: 4786.1509 - mae: 4786.1509\n",
      "Epoch 100/100\n",
      "30/30 [==============================] - 0s 1ms/step - loss: 4131.7426 - mae: 4131.7426\n"
     ]
    }
   ],
   "source": [
    "model_1_history= model_1.fit(x_train, y_train, epochs=100)"
   ]
  },
  {
   "cell_type": "code",
   "execution_count": 25,
   "id": "unusual-phrase",
   "metadata": {
    "execution": {
     "iopub.execute_input": "2021-06-20T14:02:31.787005Z",
     "iopub.status.busy": "2021-06-20T14:02:31.785745Z",
     "iopub.status.idle": "2021-06-20T14:02:31.943396Z",
     "shell.execute_reply": "2021-06-20T14:02:31.942813Z",
     "shell.execute_reply.started": "2021-06-20T12:40:30.052166Z"
    },
    "papermill": {
     "duration": 0.302719,
     "end_time": "2021-06-20T14:02:31.943555",
     "exception": false,
     "start_time": "2021-06-20T14:02:31.640836",
     "status": "completed"
    },
    "tags": []
   },
   "outputs": [
    {
     "data": {
      "text/plain": [
       "<AxesSubplot:>"
      ]
     },
     "execution_count": 25,
     "metadata": {},
     "output_type": "execute_result"
    },
    {
     "data": {
      "image/png": "[encoded data removed]",
      "text/plain": [
       "<Figure size 432x288 with 1 Axes>"
      ]
     },
     "metadata": {
      "needs_background": "light"
     },
     "output_type": "display_data"
    }
   ],
   "source": [
    "pd.DataFrame(model_1_history.history).plot()"
   ]
  },
  {
   "cell_type": "code",
   "execution_count": 26,
   "id": "framed-stadium",
   "metadata": {
    "execution": {
     "iopub.execute_input": "2021-06-20T14:02:32.183445Z",
     "iopub.status.busy": "2021-06-20T14:02:32.182677Z",
     "iopub.status.idle": "2021-06-20T14:02:32.369375Z",
     "shell.execute_reply": "2021-06-20T14:02:32.368777Z",
     "shell.execute_reply.started": "2021-06-20T12:41:42.133856Z"
    },
    "papermill": {
     "duration": 0.307708,
     "end_time": "2021-06-20T14:02:32.369519",
     "exception": false,
     "start_time": "2021-06-20T14:02:32.061811",
     "status": "completed"
    },
    "tags": []
   },
   "outputs": [
    {
     "name": "stdout",
     "output_type": "stream",
     "text": [
      "13/13 [==============================] - 0s 1ms/step - loss: 4555.5898 - mae: 4555.5898\n"
     ]
    },
    {
     "data": {
      "text/plain": [
       "[4555.58984375, 4555.58984375]"
      ]
     },
     "execution_count": 26,
     "metadata": {},
     "output_type": "execute_result"
    }
   ],
   "source": [
    "model_1.evaluate(x_test, y_tes)\n",
    "\n",
    "# Overfitting "
   ]
  },
  {
   "cell_type": "code",
   "execution_count": 27,
   "id": "duplicate-fireplace",
   "metadata": {
    "execution": {
     "iopub.execute_input": "2021-06-20T14:02:32.609856Z",
     "iopub.status.busy": "2021-06-20T14:02:32.609165Z",
     "iopub.status.idle": "2021-06-20T14:02:32.950457Z",
     "shell.execute_reply": "2021-06-20T14:02:32.951045Z",
     "shell.execute_reply.started": "2021-06-20T13:31:06.928037Z"
    },
    "papermill": {
     "duration": 0.464228,
     "end_time": "2021-06-20T14:02:32.951293",
     "exception": false,
     "start_time": "2021-06-20T14:02:32.487065",
     "status": "completed"
    },
    "tags": []
   },
   "outputs": [
    {
     "ename": "NameError",
     "evalue": "name 'y_pred' is not defined",
     "output_type": "error",
     "traceback": [
      "\u001b[0;31m---------------------------------------------------------------------------\u001b[0m",
      "\u001b[0;31mNameError\u001b[0m                                 Traceback (most recent call last)",
      "\u001b[0;32m<ipython-input-27-14efe51c3128>\u001b[0m in \u001b[0;36m<module>\u001b[0;34m\u001b[0m\n\u001b[0;32m----> 1\u001b[0;31m \u001b[0my_tes\u001b[0m\u001b[0;34m.\u001b[0m\u001b[0mshape\u001b[0m\u001b[0;34m,\u001b[0m \u001b[0my_pred\u001b[0m\u001b[0;34m.\u001b[0m\u001b[0mshape\u001b[0m\u001b[0;34m\u001b[0m\u001b[0;34m\u001b[0m\u001b[0m\n\u001b[0m",
      "\u001b[0;31mNameError\u001b[0m: name 'y_pred' is not defined"
     ]
    }
   ],
   "source": [
    "y_tes.shape, y_pred.shape"
   ]
  },
  {
   "cell_type": "code",
   "execution_count": 28,
   "id": "devoted-coalition",
   "metadata": {
    "execution": {
     "iopub.execute_input": "2021-06-20T14:02:33.189487Z",
     "iopub.status.busy": "2021-06-20T14:02:33.188853Z",
     "iopub.status.idle": "2021-06-20T14:02:33.336998Z",
     "shell.execute_reply": "2021-06-20T14:02:33.335897Z",
     "shell.execute_reply.started": "2021-06-20T13:31:44.929236Z"
    },
    "papermill": {
     "duration": 0.267281,
     "end_time": "2021-06-20T14:02:33.337157",
     "exception": false,
     "start_time": "2021-06-20T14:02:33.069876",
     "status": "completed"
    },
    "tags": []
   },
   "outputs": [
    {
     "data": {
      "text/plain": [
       "4555.5894"
      ]
     },
     "execution_count": 28,
     "metadata": {},
     "output_type": "execute_result"
    }
   ],
   "source": [
    "y_pred= model_1.predict(x_test)\n",
    "loss_1= mean_absolute_error(y_tes, tf.squeeze(y_pred)).numpy()\n",
    "loss_1"
   ]
  },
  {
   "cell_type": "markdown",
   "id": "signal-young",
   "metadata": {
    "papermill": {
     "duration": 0.141534,
     "end_time": "2021-06-20T14:02:33.614682",
     "exception": false,
     "start_time": "2021-06-20T14:02:33.473148",
     "status": "completed"
    },
    "tags": []
   },
   "source": [
    "> Model1 - training : 3493, testing : 5644\n",
    "\n",
    "### Building model-2"
   ]
  },
  {
   "cell_type": "code",
   "execution_count": 29,
   "id": "individual-norwegian",
   "metadata": {
    "execution": {
     "iopub.execute_input": "2021-06-20T14:02:33.873022Z",
     "iopub.status.busy": "2021-06-20T14:02:33.870794Z",
     "iopub.status.idle": "2021-06-20T14:02:38.525020Z",
     "shell.execute_reply": "2021-06-20T14:02:38.525706Z",
     "shell.execute_reply.started": "2021-06-20T12:54:12.253082Z"
    },
    "papermill": {
     "duration": 4.793192,
     "end_time": "2021-06-20T14:02:38.525934",
     "exception": false,
     "start_time": "2021-06-20T14:02:33.732742",
     "status": "completed"
    },
    "tags": []
   },
   "outputs": [
    {
     "name": "stdout",
     "output_type": "stream",
     "text": [
      "Epoch 1/100\n",
      "30/30 [==============================] - 0s 1ms/step - loss: 13349.7446 - mae: 13349.7446\n",
      "Epoch 2/100\n",
      "30/30 [==============================] - 0s 1ms/step - loss: 13487.8277 - mae: 13487.8277\n",
      "Epoch 3/100\n",
      "30/30 [==============================] - 0s 1ms/step - loss: 8807.9497 - mae: 8807.9497\n",
      "Epoch 4/100\n",
      "30/30 [==============================] - 0s 1ms/step - loss: 7524.6766 - mae: 7524.6766\n",
      "Epoch 5/100\n",
      "30/30 [==============================] - 0s 1ms/step - loss: 6448.3679 - mae: 6448.3679\n",
      "Epoch 6/100\n",
      "30/30 [==============================] - 0s 1ms/step - loss: 5295.7222 - mae: 5295.7222\n",
      "Epoch 7/100\n",
      "30/30 [==============================] - 0s 1ms/step - loss: 3994.3130 - mae: 3994.3130\n",
      "Epoch 8/100\n",
      "30/30 [==============================] - 0s 1ms/step - loss: 3462.5944 - mae: 3462.5944\n",
      "Epoch 9/100\n",
      "30/30 [==============================] - 0s 1ms/step - loss: 3568.4409 - mae: 3568.4409\n",
      "Epoch 10/100\n",
      "30/30 [==============================] - 0s 1ms/step - loss: 3149.4547 - mae: 3149.4547\n",
      "Epoch 11/100\n",
      "30/30 [==============================] - 0s 1ms/step - loss: 3465.1032 - mae: 3465.1032\n",
      "Epoch 12/100\n",
      "30/30 [==============================] - 0s 1ms/step - loss: 3254.9590 - mae: 3254.9590\n",
      "Epoch 13/100\n",
      "30/30 [==============================] - 0s 1ms/step - loss: 3098.5297 - mae: 3098.5297\n",
      "Epoch 14/100\n",
      "30/30 [==============================] - 0s 1ms/step - loss: 3178.5756 - mae: 3178.5756\n",
      "Epoch 15/100\n",
      "30/30 [==============================] - 0s 1ms/step - loss: 3373.6927 - mae: 3373.6927\n",
      "Epoch 16/100\n",
      "30/30 [==============================] - 0s 1ms/step - loss: 3290.6775 - mae: 3290.6775\n",
      "Epoch 17/100\n",
      "30/30 [==============================] - 0s 1ms/step - loss: 3367.0725 - mae: 3367.0725\n",
      "Epoch 18/100\n",
      "30/30 [==============================] - 0s 1ms/step - loss: 3298.0266 - mae: 3298.0266\n",
      "Epoch 19/100\n",
      "30/30 [==============================] - 0s 1ms/step - loss: 3247.7843 - mae: 3247.7843\n",
      "Epoch 20/100\n",
      "30/30 [==============================] - 0s 1ms/step - loss: 3055.3912 - mae: 3055.3912\n",
      "Epoch 21/100\n",
      "30/30 [==============================] - 0s 1ms/step - loss: 3304.6667 - mae: 3304.6667\n",
      "Epoch 22/100\n",
      "30/30 [==============================] - 0s 1ms/step - loss: 3558.0815 - mae: 3558.0815\n",
      "Epoch 23/100\n",
      "30/30 [==============================] - 0s 1ms/step - loss: 3028.9834 - mae: 3028.9834\n",
      "Epoch 24/100\n",
      "30/30 [==============================] - 0s 1ms/step - loss: 3386.6391 - mae: 3386.6391\n",
      "Epoch 25/100\n",
      "30/30 [==============================] - 0s 1ms/step - loss: 3191.6163 - mae: 3191.6163\n",
      "Epoch 26/100\n",
      "30/30 [==============================] - 0s 1ms/step - loss: 2868.2406 - mae: 2868.2406\n",
      "Epoch 27/100\n",
      "30/30 [==============================] - 0s 1ms/step - loss: 3156.6300 - mae: 3156.6300\n",
      "Epoch 28/100\n",
      "30/30 [==============================] - 0s 1ms/step - loss: 3351.0224 - mae: 3351.0224\n",
      "Epoch 29/100\n",
      "30/30 [==============================] - 0s 1ms/step - loss: 2955.3259 - mae: 2955.3259\n",
      "Epoch 30/100\n",
      "30/30 [==============================] - 0s 1ms/step - loss: 3149.2415 - mae: 3149.2415\n",
      "Epoch 31/100\n",
      "30/30 [==============================] - 0s 1ms/step - loss: 3209.1004 - mae: 3209.1004\n",
      "Epoch 32/100\n",
      "30/30 [==============================] - 0s 1ms/step - loss: 3272.5625 - mae: 3272.5625\n",
      "Epoch 33/100\n",
      "30/30 [==============================] - 0s 1ms/step - loss: 3190.2462 - mae: 3190.2462\n",
      "Epoch 34/100\n",
      "30/30 [==============================] - 0s 1ms/step - loss: 3162.9414 - mae: 3162.9414\n",
      "Epoch 35/100\n",
      "30/30 [==============================] - 0s 1ms/step - loss: 3150.1598 - mae: 3150.1598\n",
      "Epoch 36/100\n",
      "30/30 [==============================] - 0s 1ms/step - loss: 3251.3469 - mae: 3251.3469\n",
      "Epoch 37/100\n",
      "30/30 [==============================] - 0s 1ms/step - loss: 2965.1313 - mae: 2965.1313\n",
      "Epoch 38/100\n",
      "30/30 [==============================] - 0s 1ms/step - loss: 3111.8361 - mae: 3111.8361\n",
      "Epoch 39/100\n",
      "30/30 [==============================] - 0s 1ms/step - loss: 3312.9345 - mae: 3312.9345\n",
      "Epoch 40/100\n",
      "30/30 [==============================] - 0s 1ms/step - loss: 3050.7934 - mae: 3050.7934\n",
      "Epoch 41/100\n",
      "30/30 [==============================] - 0s 1ms/step - loss: 3068.2733 - mae: 3068.2733\n",
      "Epoch 42/100\n",
      "30/30 [==============================] - 0s 1ms/step - loss: 2829.0455 - mae: 2829.0455\n",
      "Epoch 43/100\n",
      "30/30 [==============================] - 0s 1ms/step - loss: 3407.5695 - mae: 3407.5695\n",
      "Epoch 44/100\n",
      "30/30 [==============================] - 0s 1ms/step - loss: 3056.3471 - mae: 3056.3471\n",
      "Epoch 45/100\n",
      "30/30 [==============================] - 0s 1ms/step - loss: 3008.4657 - mae: 3008.4657\n",
      "Epoch 46/100\n",
      "30/30 [==============================] - 0s 1ms/step - loss: 2794.0357 - mae: 2794.0357\n",
      "Epoch 47/100\n",
      "30/30 [==============================] - 0s 1ms/step - loss: 2864.3342 - mae: 2864.3342\n",
      "Epoch 48/100\n",
      "30/30 [==============================] - 0s 1ms/step - loss: 2630.4046 - mae: 2630.4046\n",
      "Epoch 49/100\n",
      "30/30 [==============================] - 0s 1ms/step - loss: 2980.6578 - mae: 2980.6578\n",
      "Epoch 50/100\n",
      "30/30 [==============================] - 0s 1ms/step - loss: 2668.9217 - mae: 2668.9217\n",
      "Epoch 51/100\n",
      "30/30 [==============================] - 0s 1ms/step - loss: 2621.5720 - mae: 2621.5720\n",
      "Epoch 52/100\n",
      "30/30 [==============================] - 0s 1ms/step - loss: 2901.6796 - mae: 2901.6796\n",
      "Epoch 53/100\n",
      "30/30 [==============================] - 0s 1ms/step - loss: 2903.6871 - mae: 2903.6871\n",
      "Epoch 54/100\n",
      "30/30 [==============================] - 0s 1ms/step - loss: 2581.2281 - mae: 2581.2281\n",
      "Epoch 55/100\n",
      "30/30 [==============================] - 0s 1ms/step - loss: 2711.7834 - mae: 2711.7834\n",
      "Epoch 56/100\n",
      "30/30 [==============================] - 0s 1ms/step - loss: 2382.1602 - mae: 2382.1602\n",
      "Epoch 57/100\n",
      "30/30 [==============================] - 0s 1ms/step - loss: 2588.3301 - mae: 2588.3301\n",
      "Epoch 58/100\n",
      "30/30 [==============================] - 0s 1ms/step - loss: 2445.0597 - mae: 2445.0597\n",
      "Epoch 59/100\n",
      "30/30 [==============================] - 0s 1ms/step - loss: 2533.5337 - mae: 2533.5337\n",
      "Epoch 60/100\n",
      "30/30 [==============================] - 0s 1ms/step - loss: 2492.3536 - mae: 2492.3536\n",
      "Epoch 61/100\n",
      "30/30 [==============================] - 0s 1ms/step - loss: 2407.3671 - mae: 2407.3671\n",
      "Epoch 62/100\n",
      "30/30 [==============================] - 0s 1ms/step - loss: 2626.2739 - mae: 2626.2739\n",
      "Epoch 63/100\n",
      "30/30 [==============================] - 0s 1ms/step - loss: 2367.9940 - mae: 2367.9940\n",
      "Epoch 64/100\n",
      "30/30 [==============================] - 0s 1ms/step - loss: 2280.4414 - mae: 2280.4414\n",
      "Epoch 65/100\n",
      "30/30 [==============================] - 0s 1ms/step - loss: 2521.6681 - mae: 2521.6681\n",
      "Epoch 66/100\n",
      "30/30 [==============================] - 0s 1ms/step - loss: 2428.4636 - mae: 2428.4636\n",
      "Epoch 67/100\n",
      "30/30 [==============================] - 0s 1ms/step - loss: 2235.9805 - mae: 2235.9805\n",
      "Epoch 68/100\n",
      "30/30 [==============================] - 0s 1ms/step - loss: 2387.6549 - mae: 2387.6549\n",
      "Epoch 69/100\n",
      "30/30 [==============================] - 0s 1ms/step - loss: 2394.7134 - mae: 2394.7134\n",
      "Epoch 70/100\n",
      "30/30 [==============================] - 0s 1ms/step - loss: 2236.2712 - mae: 2236.2712\n",
      "Epoch 71/100\n",
      "30/30 [==============================] - 0s 1ms/step - loss: 2150.6834 - mae: 2150.6834\n",
      "Epoch 72/100\n",
      "30/30 [==============================] - 0s 1ms/step - loss: 2314.3404 - mae: 2314.3404\n",
      "Epoch 73/100\n",
      "30/30 [==============================] - 0s 1ms/step - loss: 2089.2857 - mae: 2089.2857\n",
      "Epoch 74/100\n",
      "30/30 [==============================] - 0s 1ms/step - loss: 2114.1853 - mae: 2114.1853\n",
      "Epoch 75/100\n",
      "30/30 [==============================] - 0s 1ms/step - loss: 2002.8953 - mae: 2002.8953\n",
      "Epoch 76/100\n",
      "30/30 [==============================] - 0s 1ms/step - loss: 2114.5482 - mae: 2114.5482\n",
      "Epoch 77/100\n",
      "30/30 [==============================] - 0s 1ms/step - loss: 2050.4404 - mae: 2050.4404\n",
      "Epoch 78/100\n",
      "30/30 [==============================] - 0s 1ms/step - loss: 1876.7136 - mae: 1876.7136\n",
      "Epoch 79/100\n",
      "30/30 [==============================] - 0s 1ms/step - loss: 2225.3968 - mae: 2225.3968\n",
      "Epoch 80/100\n",
      "30/30 [==============================] - 0s 1ms/step - loss: 2175.0744 - mae: 2175.0744\n",
      "Epoch 81/100\n",
      "30/30 [==============================] - 0s 1ms/step - loss: 2078.1795 - mae: 2078.1795\n",
      "Epoch 82/100\n",
      "30/30 [==============================] - 0s 1ms/step - loss: 2056.8438 - mae: 2056.8438\n",
      "Epoch 83/100\n",
      "30/30 [==============================] - 0s 1ms/step - loss: 2248.3499 - mae: 2248.3499\n",
      "Epoch 84/100\n",
      "30/30 [==============================] - 0s 1ms/step - loss: 2109.4124 - mae: 2109.4124\n",
      "Epoch 85/100\n",
      "30/30 [==============================] - 0s 1ms/step - loss: 2146.7168 - mae: 2146.7168\n",
      "Epoch 86/100\n",
      "30/30 [==============================] - 0s 1ms/step - loss: 1957.3097 - mae: 1957.3097\n",
      "Epoch 87/100\n",
      "30/30 [==============================] - 0s 1ms/step - loss: 1987.5795 - mae: 1987.5795\n",
      "Epoch 88/100\n",
      "30/30 [==============================] - 0s 1ms/step - loss: 2001.2784 - mae: 2001.2784\n",
      "Epoch 89/100\n",
      "30/30 [==============================] - 0s 1ms/step - loss: 2001.7418 - mae: 2001.7418\n",
      "Epoch 90/100\n",
      "30/30 [==============================] - 0s 1ms/step - loss: 2008.4946 - mae: 2008.4946\n",
      "Epoch 91/100\n",
      "30/30 [==============================] - 0s 1ms/step - loss: 2024.4153 - mae: 2024.4153\n",
      "Epoch 92/100\n",
      "30/30 [==============================] - 0s 1ms/step - loss: 2059.7672 - mae: 2059.7672\n",
      "Epoch 93/100\n",
      "30/30 [==============================] - 0s 1ms/step - loss: 2128.2054 - mae: 2128.2054\n",
      "Epoch 94/100\n",
      "30/30 [==============================] - 0s 1ms/step - loss: 2207.1032 - mae: 2207.1032\n",
      "Epoch 95/100\n",
      "30/30 [==============================] - 0s 1ms/step - loss: 2059.3184 - mae: 2059.3184\n",
      "Epoch 96/100\n",
      "30/30 [==============================] - 0s 1ms/step - loss: 1960.3203 - mae: 1960.3203\n",
      "Epoch 97/100\n",
      "30/30 [==============================] - 0s 1ms/step - loss: 2025.9700 - mae: 2025.9700\n",
      "Epoch 98/100\n",
      "30/30 [==============================] - 0s 1ms/step - loss: 1963.6833 - mae: 1963.6833\n",
      "Epoch 99/100\n",
      "30/30 [==============================] - 0s 1ms/step - loss: 2120.2822 - mae: 2120.2822\n",
      "Epoch 100/100\n",
      "30/30 [==============================] - 0s 1ms/step - loss: 2170.3339 - mae: 2170.3339\n"
     ]
    }
   ],
   "source": [
    "model_2= keras.Sequential([\n",
    "    keras.layers.Dense(8, input_shape=(11,),  activation=\"relu\"),\n",
    "    keras.layers.Dense(16, activation=\"relu\"),\n",
    "    keras.layers.Dense(16, activation=\"relu\"),\n",
    "    keras.layers.Dense(8, activation=\"relu\"),\n",
    "    keras.layers.Dense(1)\n",
    "], name=\"model-2\")\n",
    "\n",
    "model_2.compile(loss= \"mae\",\n",
    "              optimizer= tf.keras.optimizers.Adam(lr=0.01),\n",
    "              metrics=[\"mae\"]\n",
    "             )\n",
    "\n",
    "model_2_history= model_2.fit(x_train, y_train, epochs=100)"
   ]
  },
  {
   "cell_type": "code",
   "execution_count": 30,
   "id": "extensive-southeast",
   "metadata": {
    "execution": {
     "iopub.execute_input": "2021-06-20T14:02:38.921740Z",
     "iopub.status.busy": "2021-06-20T14:02:38.920688Z",
     "iopub.status.idle": "2021-06-20T14:02:39.090471Z",
     "shell.execute_reply": "2021-06-20T14:02:39.089743Z",
     "shell.execute_reply.started": "2021-06-20T12:56:39.072797Z"
    },
    "papermill": {
     "duration": 0.379108,
     "end_time": "2021-06-20T14:02:39.090617",
     "exception": false,
     "start_time": "2021-06-20T14:02:38.711509",
     "status": "completed"
    },
    "tags": []
   },
   "outputs": [
    {
     "data": {
      "text/plain": [
       "<AxesSubplot:>"
      ]
     },
     "execution_count": 30,
     "metadata": {},
     "output_type": "execute_result"
    },
    {
     "data": {
      "image/png": "[encoded data removed]",
      "text/plain": [
       "<Figure size 432x288 with 1 Axes>"
      ]
     },
     "metadata": {
      "needs_background": "light"
     },
     "output_type": "display_data"
    }
   ],
   "source": [
    "pd.DataFrame(model_2_history.history).plot()"
   ]
  },
  {
   "cell_type": "code",
   "execution_count": 31,
   "id": "different-private",
   "metadata": {
    "execution": {
     "iopub.execute_input": "2021-06-20T14:02:39.461896Z",
     "iopub.status.busy": "2021-06-20T14:02:39.461148Z",
     "iopub.status.idle": "2021-06-20T14:02:39.618989Z",
     "shell.execute_reply": "2021-06-20T14:02:39.619469Z",
     "shell.execute_reply.started": "2021-06-20T12:54:40.892444Z"
    },
    "papermill": {
     "duration": 0.346007,
     "end_time": "2021-06-20T14:02:39.619657",
     "exception": false,
     "start_time": "2021-06-20T14:02:39.273650",
     "status": "completed"
    },
    "tags": []
   },
   "outputs": [
    {
     "name": "stdout",
     "output_type": "stream",
     "text": [
      "13/13 [==============================] - 0s 1ms/step - loss: 1767.6630 - mae: 1767.6630\n"
     ]
    },
    {
     "data": {
      "text/plain": [
       "[1767.6629638671875, 1767.6629638671875]"
      ]
     },
     "execution_count": 31,
     "metadata": {},
     "output_type": "execute_result"
    }
   ],
   "source": [
    "model_2.evaluate(x_test, y_tes)"
   ]
  },
  {
   "cell_type": "code",
   "execution_count": 32,
   "id": "proper-ministry",
   "metadata": {
    "execution": {
     "iopub.execute_input": "2021-06-20T14:02:40.028249Z",
     "iopub.status.busy": "2021-06-20T14:02:40.027195Z",
     "iopub.status.idle": "2021-06-20T14:02:40.119721Z",
     "shell.execute_reply": "2021-06-20T14:02:40.120440Z",
     "shell.execute_reply.started": "2021-06-20T13:32:18.758896Z"
    },
    "papermill": {
     "duration": 0.307726,
     "end_time": "2021-06-20T14:02:40.120649",
     "exception": false,
     "start_time": "2021-06-20T14:02:39.812923",
     "status": "completed"
    },
    "tags": []
   },
   "outputs": [
    {
     "data": {
      "text/plain": [
       "1767.663"
      ]
     },
     "execution_count": 32,
     "metadata": {},
     "output_type": "execute_result"
    }
   ],
   "source": [
    "y_pred= model_2.predict(x_test)\n",
    "loss_2= mean_absolute_error(y_tes, tf.squeeze(y_pred)).numpy()\n",
    "loss_2"
   ]
  },
  {
   "cell_type": "markdown",
   "id": "enabling-savannah",
   "metadata": {
    "papermill": {
     "duration": 0.184195,
     "end_time": "2021-06-20T14:02:40.490427",
     "exception": false,
     "start_time": "2021-06-20T14:02:40.306232",
     "status": "completed"
    },
    "tags": []
   },
   "source": [
    "> Model-2 - Training : 2231, Testing : 1835\n",
    "\n",
    "### Building Model-3"
   ]
  },
  {
   "cell_type": "code",
   "execution_count": 33,
   "id": "cordless-reaction",
   "metadata": {
    "execution": {
     "iopub.execute_input": "2021-06-20T14:02:40.875110Z",
     "iopub.status.busy": "2021-06-20T14:02:40.873817Z",
     "iopub.status.idle": "2021-06-20T14:02:46.298050Z",
     "shell.execute_reply": "2021-06-20T14:02:46.297344Z",
     "shell.execute_reply.started": "2021-06-20T13:13:04.592999Z"
    },
    "papermill": {
     "duration": 5.623576,
     "end_time": "2021-06-20T14:02:46.298212",
     "exception": false,
     "start_time": "2021-06-20T14:02:40.674636",
     "status": "completed"
    },
    "tags": []
   },
   "outputs": [
    {
     "name": "stdout",
     "output_type": "stream",
     "text": [
      "Epoch 1/120\n",
      "30/30 [==============================] - 0s 1ms/step - loss: 13342.9334 - mae: 13342.9334\n",
      "Epoch 2/120\n",
      "30/30 [==============================] - 0s 1ms/step - loss: 13116.2111 - mae: 13116.2111\n",
      "Epoch 3/120\n",
      "30/30 [==============================] - 0s 1ms/step - loss: 8043.5116 - mae: 8043.5116\n",
      "Epoch 4/120\n",
      "30/30 [==============================] - 0s 1ms/step - loss: 7615.7450 - mae: 7615.7450\n",
      "Epoch 5/120\n",
      "30/30 [==============================] - 0s 1ms/step - loss: 6760.4330 - mae: 6760.4330\n",
      "Epoch 6/120\n",
      "30/30 [==============================] - 0s 1ms/step - loss: 5937.2550 - mae: 5937.2550\n",
      "Epoch 7/120\n",
      "30/30 [==============================] - 0s 1ms/step - loss: 4278.4130 - mae: 4278.4130\n",
      "Epoch 8/120\n",
      "30/30 [==============================] - 0s 1ms/step - loss: 3470.1063 - mae: 3470.1063\n",
      "Epoch 9/120\n",
      "30/30 [==============================] - 0s 1ms/step - loss: 3630.1212 - mae: 3630.1212\n",
      "Epoch 10/120\n",
      "30/30 [==============================] - 0s 1ms/step - loss: 3191.6988 - mae: 3191.6988\n",
      "Epoch 11/120\n",
      "30/30 [==============================] - 0s 1ms/step - loss: 3509.8690 - mae: 3509.8690\n",
      "Epoch 12/120\n",
      "30/30 [==============================] - 0s 1ms/step - loss: 3241.8455 - mae: 3241.8455\n",
      "Epoch 13/120\n",
      "30/30 [==============================] - 0s 1ms/step - loss: 3131.7350 - mae: 3131.7350\n",
      "Epoch 14/120\n",
      "30/30 [==============================] - 0s 1ms/step - loss: 3212.9817 - mae: 3212.9817\n",
      "Epoch 15/120\n",
      "30/30 [==============================] - 0s 1ms/step - loss: 3366.0449 - mae: 3366.0449\n",
      "Epoch 16/120\n",
      "30/30 [==============================] - 0s 1ms/step - loss: 3224.5153 - mae: 3224.5153\n",
      "Epoch 17/120\n",
      "30/30 [==============================] - 0s 1ms/step - loss: 3374.1367 - mae: 3374.1367\n",
      "Epoch 18/120\n",
      "30/30 [==============================] - 0s 1ms/step - loss: 3330.2595 - mae: 3330.2595\n",
      "Epoch 19/120\n",
      "30/30 [==============================] - 0s 1ms/step - loss: 3257.0502 - mae: 3257.0502\n",
      "Epoch 20/120\n",
      "30/30 [==============================] - 0s 1ms/step - loss: 3054.0546 - mae: 3054.0546\n",
      "Epoch 21/120\n",
      "30/30 [==============================] - 0s 1ms/step - loss: 3324.8940 - mae: 3324.8940\n",
      "Epoch 22/120\n",
      "30/30 [==============================] - 0s 1ms/step - loss: 3586.0035 - mae: 3586.0035\n",
      "Epoch 23/120\n",
      "30/30 [==============================] - 0s 1ms/step - loss: 3036.5923 - mae: 3036.5923\n",
      "Epoch 24/120\n",
      "30/30 [==============================] - 0s 1ms/step - loss: 3377.5918 - mae: 3377.5918\n",
      "Epoch 25/120\n",
      "30/30 [==============================] - 0s 1ms/step - loss: 3177.6857 - mae: 3177.6857\n",
      "Epoch 26/120\n",
      "30/30 [==============================] - 0s 1ms/step - loss: 2848.7170 - mae: 2848.7170\n",
      "Epoch 27/120\n",
      "30/30 [==============================] - 0s 1ms/step - loss: 3153.8879 - mae: 3153.8879\n",
      "Epoch 28/120\n",
      "30/30 [==============================] - 0s 1ms/step - loss: 3341.4923 - mae: 3341.4923\n",
      "Epoch 29/120\n",
      "30/30 [==============================] - 0s 1ms/step - loss: 2924.3447 - mae: 2924.3447\n",
      "Epoch 30/120\n",
      "30/30 [==============================] - 0s 1ms/step - loss: 3113.8947 - mae: 3113.8947\n",
      "Epoch 31/120\n",
      "30/30 [==============================] - 0s 1ms/step - loss: 3174.7503 - mae: 3174.7503\n",
      "Epoch 32/120\n",
      "30/30 [==============================] - 0s 1ms/step - loss: 3215.7701 - mae: 3215.7701\n",
      "Epoch 33/120\n",
      "30/30 [==============================] - 0s 1ms/step - loss: 3159.7730 - mae: 3159.7730\n",
      "Epoch 34/120\n",
      "30/30 [==============================] - 0s 1ms/step - loss: 3133.5756 - mae: 3133.5756\n",
      "Epoch 35/120\n",
      "30/30 [==============================] - 0s 1ms/step - loss: 3123.8930 - mae: 3123.8930\n",
      "Epoch 36/120\n",
      "30/30 [==============================] - 0s 1ms/step - loss: 3205.5121 - mae: 3205.5121\n",
      "Epoch 37/120\n",
      "30/30 [==============================] - 0s 1ms/step - loss: 2907.2764 - mae: 2907.2764\n",
      "Epoch 38/120\n",
      "30/30 [==============================] - 0s 1ms/step - loss: 3083.0132 - mae: 3083.0132\n",
      "Epoch 39/120\n",
      "30/30 [==============================] - 0s 1ms/step - loss: 3245.6799 - mae: 3245.6799\n",
      "Epoch 40/120\n",
      "30/30 [==============================] - 0s 1ms/step - loss: 3011.9309 - mae: 3011.9309\n",
      "Epoch 41/120\n",
      "30/30 [==============================] - 0s 1ms/step - loss: 3039.7209 - mae: 3039.7209\n",
      "Epoch 42/120\n",
      "30/30 [==============================] - 0s 1ms/step - loss: 2771.3765 - mae: 2771.3765\n",
      "Epoch 43/120\n",
      "30/30 [==============================] - 0s 1ms/step - loss: 3333.4329 - mae: 3333.4329\n",
      "Epoch 44/120\n",
      "30/30 [==============================] - 0s 1ms/step - loss: 2997.4620 - mae: 2997.4620\n",
      "Epoch 45/120\n",
      "30/30 [==============================] - 0s 1ms/step - loss: 2934.6036 - mae: 2934.6036\n",
      "Epoch 46/120\n",
      "30/30 [==============================] - 0s 1ms/step - loss: 2754.4420 - mae: 2754.4420\n",
      "Epoch 47/120\n",
      "30/30 [==============================] - 0s 1ms/step - loss: 2790.0055 - mae: 2790.0055\n",
      "Epoch 48/120\n",
      "30/30 [==============================] - 0s 1ms/step - loss: 2588.9770 - mae: 2588.9770\n",
      "Epoch 49/120\n",
      "30/30 [==============================] - 0s 1ms/step - loss: 2929.3642 - mae: 2929.3642\n",
      "Epoch 50/120\n",
      "30/30 [==============================] - 0s 1ms/step - loss: 2618.6561 - mae: 2618.6561\n",
      "Epoch 51/120\n",
      "30/30 [==============================] - 0s 1ms/step - loss: 2551.1600 - mae: 2551.1600\n",
      "Epoch 52/120\n",
      "30/30 [==============================] - 0s 1ms/step - loss: 2820.7068 - mae: 2820.7068\n",
      "Epoch 53/120\n",
      "30/30 [==============================] - 0s 1ms/step - loss: 2789.0339 - mae: 2789.0339\n",
      "Epoch 54/120\n",
      "30/30 [==============================] - 0s 1ms/step - loss: 2506.5826 - mae: 2506.5826\n",
      "Epoch 55/120\n",
      "30/30 [==============================] - 0s 1ms/step - loss: 2670.0371 - mae: 2670.0371\n",
      "Epoch 56/120\n",
      "30/30 [==============================] - 0s 1ms/step - loss: 2292.5819 - mae: 2292.5819\n",
      "Epoch 57/120\n",
      "30/30 [==============================] - 0s 1ms/step - loss: 2491.3097 - mae: 2491.3097\n",
      "Epoch 58/120\n",
      "30/30 [==============================] - 0s 1ms/step - loss: 2441.6007 - mae: 2441.6007\n",
      "Epoch 59/120\n",
      "30/30 [==============================] - 0s 1ms/step - loss: 2404.0928 - mae: 2404.0928\n",
      "Epoch 60/120\n",
      "30/30 [==============================] - 0s 1ms/step - loss: 2417.8119 - mae: 2417.8119\n",
      "Epoch 61/120\n",
      "30/30 [==============================] - 0s 1ms/step - loss: 2332.9318 - mae: 2332.9318\n",
      "Epoch 62/120\n",
      "30/30 [==============================] - 0s 1ms/step - loss: 2539.1806 - mae: 2539.1806\n",
      "Epoch 63/120\n",
      "30/30 [==============================] - 0s 1ms/step - loss: 2283.5959 - mae: 2283.5959\n",
      "Epoch 64/120\n",
      "30/30 [==============================] - 0s 1ms/step - loss: 2190.1289 - mae: 2190.1289\n",
      "Epoch 65/120\n",
      "30/30 [==============================] - 0s 1ms/step - loss: 2517.8241 - mae: 2517.8241\n",
      "Epoch 66/120\n",
      "30/30 [==============================] - 0s 1ms/step - loss: 2389.1250 - mae: 2389.1250\n",
      "Epoch 67/120\n",
      "30/30 [==============================] - 0s 1ms/step - loss: 2182.6454 - mae: 2182.6454\n",
      "Epoch 68/120\n",
      "30/30 [==============================] - 0s 1ms/step - loss: 2369.3351 - mae: 2369.3351\n",
      "Epoch 69/120\n",
      "30/30 [==============================] - 0s 1ms/step - loss: 2335.8930 - mae: 2335.8930\n",
      "Epoch 70/120\n",
      "30/30 [==============================] - 0s 1ms/step - loss: 2242.8530 - mae: 2242.8530\n",
      "Epoch 71/120\n",
      "30/30 [==============================] - 0s 1ms/step - loss: 2131.8989 - mae: 2131.8989\n",
      "Epoch 72/120\n",
      "30/30 [==============================] - 0s 1ms/step - loss: 2279.3965 - mae: 2279.3965\n",
      "Epoch 73/120\n",
      "30/30 [==============================] - 0s 1ms/step - loss: 2081.7959 - mae: 2081.7959\n",
      "Epoch 74/120\n",
      "30/30 [==============================] - 0s 1ms/step - loss: 2110.7252 - mae: 2110.7252\n",
      "Epoch 75/120\n",
      "30/30 [==============================] - 0s 1ms/step - loss: 1985.3363 - mae: 1985.3363\n",
      "Epoch 76/120\n",
      "30/30 [==============================] - 0s 1ms/step - loss: 2102.6992 - mae: 2102.6992\n",
      "Epoch 77/120\n",
      "30/30 [==============================] - 0s 1ms/step - loss: 2070.8278 - mae: 2070.8278\n",
      "Epoch 78/120\n",
      "30/30 [==============================] - 0s 1ms/step - loss: 1862.7276 - mae: 1862.7276\n",
      "Epoch 79/120\n",
      "30/30 [==============================] - 0s 1ms/step - loss: 2191.6587 - mae: 2191.6587\n",
      "Epoch 80/120\n",
      "30/30 [==============================] - 0s 1ms/step - loss: 2194.3578 - mae: 2194.3578\n",
      "Epoch 81/120\n",
      "30/30 [==============================] - 0s 1ms/step - loss: 2081.4645 - mae: 2081.4645\n",
      "Epoch 82/120\n",
      "30/30 [==============================] - 0s 1ms/step - loss: 2059.3839 - mae: 2059.3839\n",
      "Epoch 83/120\n",
      "30/30 [==============================] - 0s 1ms/step - loss: 2202.8372 - mae: 2202.8372\n",
      "Epoch 84/120\n",
      "30/30 [==============================] - 0s 1ms/step - loss: 2106.8506 - mae: 2106.8506\n",
      "Epoch 85/120\n",
      "30/30 [==============================] - 0s 1ms/step - loss: 2161.9897 - mae: 2161.9897\n",
      "Epoch 86/120\n",
      "30/30 [==============================] - 0s 1ms/step - loss: 2012.6773 - mae: 2012.6773\n",
      "Epoch 87/120\n",
      "30/30 [==============================] - 0s 1ms/step - loss: 1951.7150 - mae: 1951.7150\n",
      "Epoch 88/120\n",
      "30/30 [==============================] - 0s 1ms/step - loss: 2015.1626 - mae: 2015.1626\n",
      "Epoch 89/120\n",
      "30/30 [==============================] - 0s 1ms/step - loss: 1997.2044 - mae: 1997.2044\n",
      "Epoch 90/120\n",
      "30/30 [==============================] - 0s 1ms/step - loss: 2042.7611 - mae: 2042.7611\n",
      "Epoch 91/120\n",
      "30/30 [==============================] - 0s 1ms/step - loss: 2029.3269 - mae: 2029.3269\n",
      "Epoch 92/120\n",
      "30/30 [==============================] - 0s 1ms/step - loss: 2063.6585 - mae: 2063.6585\n",
      "Epoch 93/120\n",
      "30/30 [==============================] - 0s 1ms/step - loss: 2131.4011 - mae: 2131.4011\n",
      "Epoch 94/120\n",
      "30/30 [==============================] - 0s 1ms/step - loss: 2168.0253 - mae: 2168.0253\n",
      "Epoch 95/120\n",
      "30/30 [==============================] - 0s 1ms/step - loss: 2062.0729 - mae: 2062.0729\n",
      "Epoch 96/120\n",
      "30/30 [==============================] - 0s 1ms/step - loss: 1974.1297 - mae: 1974.1297\n",
      "Epoch 97/120\n",
      "30/30 [==============================] - 0s 1ms/step - loss: 2035.2628 - mae: 2035.2628\n",
      "Epoch 98/120\n",
      "30/30 [==============================] - 0s 1ms/step - loss: 1948.4243 - mae: 1948.4243\n",
      "Epoch 99/120\n",
      "30/30 [==============================] - 0s 1ms/step - loss: 2148.3795 - mae: 2148.3795\n",
      "Epoch 100/120\n",
      "30/30 [==============================] - 0s 1ms/step - loss: 2184.7331 - mae: 2184.7331\n",
      "Epoch 101/120\n",
      "30/30 [==============================] - 0s 1ms/step - loss: 2016.8057 - mae: 2016.8057\n",
      "Epoch 102/120\n",
      "30/30 [==============================] - 0s 1ms/step - loss: 1801.7812 - mae: 1801.7812\n",
      "Epoch 103/120\n",
      "30/30 [==============================] - 0s 1ms/step - loss: 2061.2102 - mae: 2061.2102\n",
      "Epoch 104/120\n",
      "30/30 [==============================] - 0s 1ms/step - loss: 2104.6986 - mae: 2104.6986\n",
      "Epoch 105/120\n",
      "30/30 [==============================] - 0s 1ms/step - loss: 2085.7506 - mae: 2085.7506\n",
      "Epoch 106/120\n",
      "30/30 [==============================] - 0s 1ms/step - loss: 2004.2824 - mae: 2004.2824\n",
      "Epoch 107/120\n",
      "30/30 [==============================] - 0s 1ms/step - loss: 2211.5417 - mae: 2211.5417\n",
      "Epoch 108/120\n",
      "30/30 [==============================] - 0s 1ms/step - loss: 1936.3744 - mae: 1936.3744\n",
      "Epoch 109/120\n",
      "30/30 [==============================] - 0s 1ms/step - loss: 2033.0354 - mae: 2033.0354\n",
      "Epoch 110/120\n",
      "30/30 [==============================] - 0s 1ms/step - loss: 2154.7430 - mae: 2154.7430\n",
      "Epoch 111/120\n",
      "30/30 [==============================] - 0s 1ms/step - loss: 2056.7993 - mae: 2056.7993\n",
      "Epoch 112/120\n",
      "30/30 [==============================] - 0s 1ms/step - loss: 2246.7542 - mae: 2246.7542\n",
      "Epoch 113/120\n",
      "30/30 [==============================] - 0s 1ms/step - loss: 2356.2726 - mae: 2356.2726\n",
      "Epoch 114/120\n",
      "30/30 [==============================] - 0s 1ms/step - loss: 2187.0087 - mae: 2187.0087\n",
      "Epoch 115/120\n",
      "30/30 [==============================] - 0s 1ms/step - loss: 2230.8024 - mae: 2230.8024\n",
      "Epoch 116/120\n",
      "30/30 [==============================] - 0s 1ms/step - loss: 2221.9047 - mae: 2221.9047\n",
      "Epoch 117/120\n",
      "30/30 [==============================] - 0s 1ms/step - loss: 1907.9587 - mae: 1907.9587\n",
      "Epoch 118/120\n",
      "30/30 [==============================] - 0s 1ms/step - loss: 2094.0439 - mae: 2094.0439\n",
      "Epoch 119/120\n",
      "30/30 [==============================] - 0s 1ms/step - loss: 2396.6709 - mae: 2396.6709\n",
      "Epoch 120/120\n",
      "30/30 [==============================] - 0s 1ms/step - loss: 1945.4435 - mae: 1945.4435\n"
     ]
    }
   ],
   "source": [
    "model_3= keras.Sequential([\n",
    "    keras.layers.Dense(8, input_shape=(11,),  activation=\"relu\"),\n",
    "    keras.layers.Dense(16, activation=\"relu\"),\n",
    "    keras.layers.Dense(16, activation=\"relu\"),\n",
    "    keras.layers.Dense(8, activation=\"relu\"),\n",
    "    keras.layers.Dense(1)\n",
    "], name=\"model-3\")\n",
    "\n",
    "model_3.compile(loss= \"mae\",\n",
    "              optimizer= tf.keras.optimizers.Adam(lr=0.01),\n",
    "              metrics=[\"mae\"]\n",
    "             )\n",
    "\n",
    "model_3_history= model_3.fit(x_train, y_train, epochs=120)"
   ]
  },
  {
   "cell_type": "code",
   "execution_count": 34,
   "id": "impressed-subscriber",
   "metadata": {
    "execution": {
     "iopub.execute_input": "2021-06-20T14:02:46.877660Z",
     "iopub.status.busy": "2021-06-20T14:02:46.868387Z",
     "iopub.status.idle": "2021-06-20T14:02:47.045163Z",
     "shell.execute_reply": "2021-06-20T14:02:47.044502Z",
     "shell.execute_reply.started": "2021-06-20T13:13:55.427315Z"
    },
    "papermill": {
     "duration": 0.454987,
     "end_time": "2021-06-20T14:02:47.045338",
     "exception": false,
     "start_time": "2021-06-20T14:02:46.590351",
     "status": "completed"
    },
    "tags": []
   },
   "outputs": [
    {
     "data": {
      "text/plain": [
       "<AxesSubplot:>"
      ]
     },
     "execution_count": 34,
     "metadata": {},
     "output_type": "execute_result"
    },
    {
     "data": {
      "image/png": "[encoded data removed]",
      "text/plain": [
       "<Figure size 432x288 with 1 Axes>"
      ]
     },
     "metadata": {
      "needs_background": "light"
     },
     "output_type": "display_data"
    }
   ],
   "source": [
    "pd.DataFrame(model_3_history.history).plot()"
   ]
  },
  {
   "cell_type": "code",
   "execution_count": 35,
   "id": "taken-publicity",
   "metadata": {
    "execution": {
     "iopub.execute_input": "2021-06-20T14:02:47.580046Z",
     "iopub.status.busy": "2021-06-20T14:02:47.579395Z",
     "iopub.status.idle": "2021-06-20T14:02:47.742434Z",
     "shell.execute_reply": "2021-06-20T14:02:47.741768Z",
     "shell.execute_reply.started": "2021-06-20T13:14:05.257065Z"
    },
    "papermill": {
     "duration": 0.431009,
     "end_time": "2021-06-20T14:02:47.742579",
     "exception": false,
     "start_time": "2021-06-20T14:02:47.311570",
     "status": "completed"
    },
    "tags": []
   },
   "outputs": [
    {
     "name": "stdout",
     "output_type": "stream",
     "text": [
      "13/13 [==============================] - 0s 1ms/step - loss: 1741.7760 - mae: 1741.7760\n"
     ]
    },
    {
     "data": {
      "text/plain": [
       "[1741.7760009765625, 1741.7760009765625]"
      ]
     },
     "execution_count": 35,
     "metadata": {},
     "output_type": "execute_result"
    }
   ],
   "source": [
    "model_3.evaluate(x_test, y_tes)"
   ]
  },
  {
   "cell_type": "code",
   "execution_count": 36,
   "id": "respected-cleaner",
   "metadata": {
    "execution": {
     "iopub.execute_input": "2021-06-20T14:02:48.288135Z",
     "iopub.status.busy": "2021-06-20T14:02:48.287141Z",
     "iopub.status.idle": "2021-06-20T14:02:48.374888Z",
     "shell.execute_reply": "2021-06-20T14:02:48.375403Z",
     "shell.execute_reply.started": "2021-06-20T13:32:38.651504Z"
    },
    "papermill": {
     "duration": 0.365062,
     "end_time": "2021-06-20T14:02:48.375574",
     "exception": false,
     "start_time": "2021-06-20T14:02:48.010512",
     "status": "completed"
    },
    "tags": []
   },
   "outputs": [
    {
     "data": {
      "text/plain": [
       "1741.776"
      ]
     },
     "execution_count": 36,
     "metadata": {},
     "output_type": "execute_result"
    }
   ],
   "source": [
    "y_pred= model_3.predict(x_test)\n",
    "loss_3= mean_absolute_error(y_tes, tf.squeeze(y_pred)).numpy()\n",
    "loss_3"
   ]
  },
  {
   "cell_type": "markdown",
   "id": "copyrighted-sigma",
   "metadata": {
    "papermill": {
     "duration": 0.269262,
     "end_time": "2021-06-20T14:02:48.912730",
     "exception": false,
     "start_time": "2021-06-20T14:02:48.643468",
     "status": "completed"
    },
    "tags": []
   },
   "source": [
    "> Model 3: Training : 1951, Testing : 1755\n",
    "\n",
    "#### Same Model : Higher EPOCH"
   ]
  },
  {
   "cell_type": "code",
   "execution_count": 37,
   "id": "blocked-great",
   "metadata": {
    "execution": {
     "iopub.execute_input": "2021-06-20T14:02:49.462927Z",
     "iopub.status.busy": "2021-06-20T14:02:49.462211Z",
     "iopub.status.idle": "2021-06-20T14:02:56.556651Z",
     "shell.execute_reply": "2021-06-20T14:02:56.558039Z",
     "shell.execute_reply.started": "2021-06-20T13:16:04.385651Z"
    },
    "papermill": {
     "duration": 7.368205,
     "end_time": "2021-06-20T14:02:56.558260",
     "exception": false,
     "start_time": "2021-06-20T14:02:49.190055",
     "status": "completed"
    },
    "tags": []
   },
   "outputs": [
    {
     "name": "stdout",
     "output_type": "stream",
     "text": [
      "Epoch 1/150\n",
      "30/30 [==============================] - 0s 1ms/step - loss: 13345.6436 - mae: 13345.6436\n",
      "Epoch 2/150\n",
      "30/30 [==============================] - 0s 1ms/step - loss: 13235.6647 - mae: 13235.6647\n",
      "Epoch 3/150\n",
      "30/30 [==============================] - 0s 1ms/step - loss: 8309.1775 - mae: 8309.1775\n",
      "Epoch 4/150\n",
      "30/30 [==============================] - 0s 1ms/step - loss: 7676.5690 - mae: 7676.5690\n",
      "Epoch 5/150\n",
      "30/30 [==============================] - 0s 1ms/step - loss: 6861.4026 - mae: 6861.4026\n",
      "Epoch 6/150\n",
      "30/30 [==============================] - 0s 1ms/step - loss: 6136.2232 - mae: 6136.2232\n",
      "Epoch 7/150\n",
      "30/30 [==============================] - 0s 1ms/step - loss: 4610.4542 - mae: 4610.4542\n",
      "Epoch 8/150\n",
      "30/30 [==============================] - 0s 1ms/step - loss: 3504.6400 - mae: 3504.6400\n",
      "Epoch 9/150\n",
      "30/30 [==============================] - 0s 1ms/step - loss: 3648.9666 - mae: 3648.9666\n",
      "Epoch 10/150\n",
      "30/30 [==============================] - 0s 1ms/step - loss: 3215.5802 - mae: 3215.5802\n",
      "Epoch 11/150\n",
      "30/30 [==============================] - 0s 1ms/step - loss: 3528.7018 - mae: 3528.7018\n",
      "Epoch 12/150\n",
      "30/30 [==============================] - 0s 1ms/step - loss: 3264.6917 - mae: 3264.6917\n",
      "Epoch 13/150\n",
      "30/30 [==============================] - 0s 1ms/step - loss: 3151.2281 - mae: 3151.2281\n",
      "Epoch 14/150\n",
      "30/30 [==============================] - 0s 1ms/step - loss: 3203.9029 - mae: 3203.9029\n",
      "Epoch 15/150\n",
      "30/30 [==============================] - 0s 1ms/step - loss: 3374.8689 - mae: 3374.8689\n",
      "Epoch 16/150\n",
      "30/30 [==============================] - 0s 1ms/step - loss: 3227.0019 - mae: 3227.0019\n",
      "Epoch 17/150\n",
      "30/30 [==============================] - 0s 1ms/step - loss: 3407.2977 - mae: 3407.2977\n",
      "Epoch 18/150\n",
      "30/30 [==============================] - 0s 2ms/step - loss: 3303.1457 - mae: 3303.1457\n",
      "Epoch 19/150\n",
      "30/30 [==============================] - 0s 2ms/step - loss: 3277.3616 - mae: 3277.3616\n",
      "Epoch 20/150\n",
      "30/30 [==============================] - 0s 2ms/step - loss: 3070.7563 - mae: 3070.7563\n",
      "Epoch 21/150\n",
      "30/30 [==============================] - 0s 2ms/step - loss: 3305.0859 - mae: 3305.0859\n",
      "Epoch 22/150\n",
      "30/30 [==============================] - 0s 1ms/step - loss: 3577.9025 - mae: 3577.9025\n",
      "Epoch 23/150\n",
      "30/30 [==============================] - 0s 1ms/step - loss: 3055.1944 - mae: 3055.1944\n",
      "Epoch 24/150\n",
      "30/30 [==============================] - 0s 1ms/step - loss: 3421.3931 - mae: 3421.3931\n",
      "Epoch 25/150\n",
      "30/30 [==============================] - 0s 1ms/step - loss: 3236.0397 - mae: 3236.0397\n",
      "Epoch 26/150\n",
      "30/30 [==============================] - 0s 1ms/step - loss: 2889.5556 - mae: 2889.5556\n",
      "Epoch 27/150\n",
      "30/30 [==============================] - 0s 1ms/step - loss: 3222.4400 - mae: 3222.4400\n",
      "Epoch 28/150\n",
      "30/30 [==============================] - 0s 1ms/step - loss: 3389.2843 - mae: 3389.2843\n",
      "Epoch 29/150\n",
      "30/30 [==============================] - 0s 1ms/step - loss: 3037.4214 - mae: 3037.4214\n",
      "Epoch 30/150\n",
      "30/30 [==============================] - 0s 1ms/step - loss: 3222.4319 - mae: 3222.4319\n",
      "Epoch 31/150\n",
      "30/30 [==============================] - 0s 1ms/step - loss: 3301.0788 - mae: 3301.0788\n",
      "Epoch 32/150\n",
      "30/30 [==============================] - 0s 1ms/step - loss: 3346.4584 - mae: 3346.4584\n",
      "Epoch 33/150\n",
      "30/30 [==============================] - 0s 1ms/step - loss: 3294.8843 - mae: 3294.8843\n",
      "Epoch 34/150\n",
      "30/30 [==============================] - 0s 1ms/step - loss: 3312.0695 - mae: 3312.0695\n",
      "Epoch 35/150\n",
      "30/30 [==============================] - 0s 1ms/step - loss: 3267.0461 - mae: 3267.0461\n",
      "Epoch 36/150\n",
      "30/30 [==============================] - 0s 1ms/step - loss: 3366.7917 - mae: 3366.7917\n",
      "Epoch 37/150\n",
      "30/30 [==============================] - 0s 1ms/step - loss: 3132.2966 - mae: 3132.2966\n",
      "Epoch 38/150\n",
      "30/30 [==============================] - 0s 1ms/step - loss: 3264.7547 - mae: 3264.7547\n",
      "Epoch 39/150\n",
      "30/30 [==============================] - 0s 1ms/step - loss: 3459.8422 - mae: 3459.8422\n",
      "Epoch 40/150\n",
      "30/30 [==============================] - 0s 1ms/step - loss: 3300.2847 - mae: 3300.2847\n",
      "Epoch 41/150\n",
      "30/30 [==============================] - 0s 1ms/step - loss: 3286.3312 - mae: 3286.3312\n",
      "Epoch 42/150\n",
      "30/30 [==============================] - 0s 1ms/step - loss: 3022.1458 - mae: 3022.1458\n",
      "Epoch 43/150\n",
      "30/30 [==============================] - 0s 1ms/step - loss: 3707.1806 - mae: 3707.1806\n",
      "Epoch 44/150\n",
      "30/30 [==============================] - 0s 1ms/step - loss: 3374.4149 - mae: 3374.4149\n",
      "Epoch 45/150\n",
      "30/30 [==============================] - 0s 1ms/step - loss: 3351.7927 - mae: 3351.7927\n",
      "Epoch 46/150\n",
      "30/30 [==============================] - 0s 1ms/step - loss: 3201.9214 - mae: 3201.9214\n",
      "Epoch 47/150\n",
      "30/30 [==============================] - 0s 1ms/step - loss: 3279.8366 - mae: 3279.8366\n",
      "Epoch 48/150\n",
      "30/30 [==============================] - 0s 1ms/step - loss: 3115.3101 - mae: 3115.3101\n",
      "Epoch 49/150\n",
      "30/30 [==============================] - 0s 1ms/step - loss: 3531.4141 - mae: 3531.4141\n",
      "Epoch 50/150\n",
      "30/30 [==============================] - 0s 1ms/step - loss: 3085.1450 - mae: 3085.1450\n",
      "Epoch 51/150\n",
      "30/30 [==============================] - 0s 1ms/step - loss: 3070.2011 - mae: 3070.2011\n",
      "Epoch 52/150\n",
      "30/30 [==============================] - 0s 1ms/step - loss: 3378.8525 - mae: 3378.8525\n",
      "Epoch 53/150\n",
      "30/30 [==============================] - 0s 1ms/step - loss: 3537.6900 - mae: 3537.6900\n",
      "Epoch 54/150\n",
      "30/30 [==============================] - 0s 1ms/step - loss: 3175.9735 - mae: 3175.9735\n",
      "Epoch 55/150\n",
      "30/30 [==============================] - 0s 1ms/step - loss: 3131.7037 - mae: 3131.7037\n",
      "Epoch 56/150\n",
      "30/30 [==============================] - 0s 1ms/step - loss: 2999.7916 - mae: 2999.7916\n",
      "Epoch 57/150\n",
      "30/30 [==============================] - 0s 1ms/step - loss: 3260.4142 - mae: 3260.4142\n",
      "Epoch 58/150\n",
      "30/30 [==============================] - 0s 1ms/step - loss: 3222.5093 - mae: 3222.5093\n",
      "Epoch 59/150\n",
      "30/30 [==============================] - 0s 1ms/step - loss: 3247.4606 - mae: 3247.4606\n",
      "Epoch 60/150\n",
      "30/30 [==============================] - 0s 1ms/step - loss: 3315.4835 - mae: 3315.4835\n",
      "Epoch 61/150\n",
      "30/30 [==============================] - 0s 1ms/step - loss: 3302.6631 - mae: 3302.6631\n",
      "Epoch 62/150\n",
      "30/30 [==============================] - 0s 1ms/step - loss: 3537.9510 - mae: 3537.9510\n",
      "Epoch 63/150\n",
      "30/30 [==============================] - 0s 1ms/step - loss: 3117.3333 - mae: 3117.3333\n",
      "Epoch 64/150\n",
      "30/30 [==============================] - 0s 1ms/step - loss: 3313.3443 - mae: 3313.3443\n",
      "Epoch 65/150\n",
      "30/30 [==============================] - 0s 1ms/step - loss: 3447.9020 - mae: 3447.9020\n",
      "Epoch 66/150\n",
      "30/30 [==============================] - 0s 1ms/step - loss: 3376.8541 - mae: 3376.8541\n",
      "Epoch 67/150\n",
      "30/30 [==============================] - 0s 1ms/step - loss: 3188.6736 - mae: 3188.6736\n",
      "Epoch 68/150\n",
      "30/30 [==============================] - 0s 1ms/step - loss: 3197.1117 - mae: 3197.1117\n",
      "Epoch 69/150\n",
      "30/30 [==============================] - 0s 1ms/step - loss: 3404.3832 - mae: 3404.3832\n",
      "Epoch 70/150\n",
      "30/30 [==============================] - 0s 1ms/step - loss: 3202.7290 - mae: 3202.7290\n",
      "Epoch 71/150\n",
      "30/30 [==============================] - 0s 1ms/step - loss: 3067.8767 - mae: 3067.8767\n",
      "Epoch 72/150\n",
      "30/30 [==============================] - 0s 1ms/step - loss: 3153.8515 - mae: 3153.8515\n",
      "Epoch 73/150\n",
      "30/30 [==============================] - 0s 1ms/step - loss: 2953.7177 - mae: 2953.7177\n",
      "Epoch 74/150\n",
      "30/30 [==============================] - 0s 1ms/step - loss: 3037.8525 - mae: 3037.8525\n",
      "Epoch 75/150\n",
      "30/30 [==============================] - 0s 1ms/step - loss: 3092.0297 - mae: 3092.0297\n",
      "Epoch 76/150\n",
      "30/30 [==============================] - 0s 1ms/step - loss: 3104.5220 - mae: 3104.5220\n",
      "Epoch 77/150\n",
      "30/30 [==============================] - 0s 1ms/step - loss: 2910.3502 - mae: 2910.3502\n",
      "Epoch 78/150\n",
      "30/30 [==============================] - 0s 1ms/step - loss: 2627.0413 - mae: 2627.0413\n",
      "Epoch 79/150\n",
      "30/30 [==============================] - 0s 1ms/step - loss: 3007.4888 - mae: 3007.4888\n",
      "Epoch 80/150\n",
      "30/30 [==============================] - 0s 1ms/step - loss: 2893.6276 - mae: 2893.6276\n",
      "Epoch 81/150\n",
      "30/30 [==============================] - 0s 1ms/step - loss: 2712.0215 - mae: 2712.0215\n",
      "Epoch 82/150\n",
      "30/30 [==============================] - 0s 1ms/step - loss: 2875.6679 - mae: 2875.6679\n",
      "Epoch 83/150\n",
      "30/30 [==============================] - 0s 1ms/step - loss: 2970.8845 - mae: 2970.8845\n",
      "Epoch 84/150\n",
      "30/30 [==============================] - 0s 1ms/step - loss: 2845.3466 - mae: 2845.3466\n",
      "Epoch 85/150\n",
      "30/30 [==============================] - 0s 1ms/step - loss: 2931.8182 - mae: 2931.8182\n",
      "Epoch 86/150\n",
      "30/30 [==============================] - 0s 1ms/step - loss: 2546.2718 - mae: 2546.2718\n",
      "Epoch 87/150\n",
      "30/30 [==============================] - 0s 1ms/step - loss: 2509.7773 - mae: 2509.7773\n",
      "Epoch 88/150\n",
      "30/30 [==============================] - 0s 1ms/step - loss: 2707.5213 - mae: 2707.5213\n",
      "Epoch 89/150\n",
      "30/30 [==============================] - 0s 1ms/step - loss: 2514.7918 - mae: 2514.7918\n",
      "Epoch 90/150\n",
      "30/30 [==============================] - 0s 1ms/step - loss: 2488.4844 - mae: 2488.4844\n",
      "Epoch 91/150\n",
      "30/30 [==============================] - 0s 1ms/step - loss: 2471.1173 - mae: 2471.1173\n",
      "Epoch 92/150\n",
      "30/30 [==============================] - 0s 1ms/step - loss: 2463.2694 - mae: 2463.2694\n",
      "Epoch 93/150\n",
      "30/30 [==============================] - 0s 1ms/step - loss: 2505.6464 - mae: 2505.6464\n",
      "Epoch 94/150\n",
      "30/30 [==============================] - 0s 1ms/step - loss: 2475.0139 - mae: 2475.0139\n",
      "Epoch 95/150\n",
      "30/30 [==============================] - 0s 1ms/step - loss: 2451.9787 - mae: 2451.9787\n",
      "Epoch 96/150\n",
      "30/30 [==============================] - 0s 1ms/step - loss: 2396.0095 - mae: 2396.0095\n",
      "Epoch 97/150\n",
      "30/30 [==============================] - 0s 1ms/step - loss: 2350.0869 - mae: 2350.0869\n",
      "Epoch 98/150\n",
      "30/30 [==============================] - 0s 1ms/step - loss: 2240.7681 - mae: 2240.7681\n",
      "Epoch 99/150\n",
      "30/30 [==============================] - 0s 1ms/step - loss: 2370.3339 - mae: 2370.3339\n",
      "Epoch 100/150\n",
      "30/30 [==============================] - 0s 1ms/step - loss: 2479.6658 - mae: 2479.6658\n",
      "Epoch 101/150\n",
      "30/30 [==============================] - 0s 1ms/step - loss: 2189.3296 - mae: 2189.3296\n",
      "Epoch 102/150\n",
      "30/30 [==============================] - 0s 1ms/step - loss: 2023.2381 - mae: 2023.2381\n",
      "Epoch 103/150\n",
      "30/30 [==============================] - 0s 1ms/step - loss: 2214.3306 - mae: 2214.3306\n",
      "Epoch 104/150\n",
      "30/30 [==============================] - 0s 1ms/step - loss: 2277.7060 - mae: 2277.7060\n",
      "Epoch 105/150\n",
      "30/30 [==============================] - 0s 1ms/step - loss: 2191.2378 - mae: 2191.2378\n",
      "Epoch 106/150\n",
      "30/30 [==============================] - 0s 1ms/step - loss: 2142.4873 - mae: 2142.4873\n",
      "Epoch 107/150\n",
      "30/30 [==============================] - 0s 1ms/step - loss: 2247.7128 - mae: 2247.7128\n",
      "Epoch 108/150\n",
      "30/30 [==============================] - 0s 1ms/step - loss: 2059.0896 - mae: 2059.0896\n",
      "Epoch 109/150\n",
      "30/30 [==============================] - 0s 1ms/step - loss: 2108.2159 - mae: 2108.2159\n",
      "Epoch 110/150\n",
      "30/30 [==============================] - 0s 1ms/step - loss: 2201.1763 - mae: 2201.1763\n",
      "Epoch 111/150\n",
      "30/30 [==============================] - 0s 1ms/step - loss: 2107.3779 - mae: 2107.3779\n",
      "Epoch 112/150\n",
      "30/30 [==============================] - 0s 1ms/step - loss: 2275.2780 - mae: 2275.2780\n",
      "Epoch 113/150\n",
      "30/30 [==============================] - 0s 1ms/step - loss: 2361.8983 - mae: 2361.8983\n",
      "Epoch 114/150\n",
      "30/30 [==============================] - 0s 1ms/step - loss: 2189.6394 - mae: 2189.6394\n",
      "Epoch 115/150\n",
      "30/30 [==============================] - 0s 1ms/step - loss: 2246.2808 - mae: 2246.2808\n",
      "Epoch 116/150\n",
      "30/30 [==============================] - 0s 1ms/step - loss: 2265.0213 - mae: 2265.0213\n",
      "Epoch 117/150\n",
      "30/30 [==============================] - 0s 1ms/step - loss: 1927.6484 - mae: 1927.6484\n",
      "Epoch 118/150\n",
      "30/30 [==============================] - 0s 1ms/step - loss: 2088.7211 - mae: 2088.7211\n",
      "Epoch 119/150\n",
      "30/30 [==============================] - 0s 1ms/step - loss: 2446.8998 - mae: 2446.8998\n",
      "Epoch 120/150\n",
      "30/30 [==============================] - 0s 1ms/step - loss: 1949.6718 - mae: 1949.6718\n",
      "Epoch 121/150\n",
      "30/30 [==============================] - 0s 1ms/step - loss: 2322.7309 - mae: 2322.7309\n",
      "Epoch 122/150\n",
      "30/30 [==============================] - 0s 1ms/step - loss: 2274.7179 - mae: 2274.7179\n",
      "Epoch 123/150\n",
      "30/30 [==============================] - 0s 1ms/step - loss: 2236.4883 - mae: 2236.4883\n",
      "Epoch 124/150\n",
      "30/30 [==============================] - 0s 1ms/step - loss: 2048.9830 - mae: 2048.9830\n",
      "Epoch 125/150\n",
      "30/30 [==============================] - 0s 1ms/step - loss: 2169.4758 - mae: 2169.4758\n",
      "Epoch 126/150\n",
      "30/30 [==============================] - 0s 1ms/step - loss: 2063.6470 - mae: 2063.6470\n",
      "Epoch 127/150\n",
      "30/30 [==============================] - 0s 1ms/step - loss: 1952.5984 - mae: 1952.5984\n",
      "Epoch 128/150\n",
      "30/30 [==============================] - 0s 1ms/step - loss: 2173.7557 - mae: 2173.7557\n",
      "Epoch 129/150\n",
      "30/30 [==============================] - 0s 1ms/step - loss: 2023.8277 - mae: 2023.8277\n",
      "Epoch 130/150\n",
      "30/30 [==============================] - 0s 1ms/step - loss: 2276.5169 - mae: 2276.5169\n",
      "Epoch 131/150\n",
      "30/30 [==============================] - 0s 1ms/step - loss: 2147.7783 - mae: 2147.7783\n",
      "Epoch 132/150\n",
      "30/30 [==============================] - 0s 1ms/step - loss: 2018.5359 - mae: 2018.5359\n",
      "Epoch 133/150\n",
      "30/30 [==============================] - 0s 1ms/step - loss: 2134.6292 - mae: 2134.6292\n",
      "Epoch 134/150\n",
      "30/30 [==============================] - 0s 1ms/step - loss: 2156.4442 - mae: 2156.4442\n",
      "Epoch 135/150\n",
      "30/30 [==============================] - 0s 1ms/step - loss: 2030.9448 - mae: 2030.9448\n",
      "Epoch 136/150\n",
      "30/30 [==============================] - 0s 1ms/step - loss: 2441.0689 - mae: 2441.0689\n",
      "Epoch 137/150\n",
      "30/30 [==============================] - 0s 1ms/step - loss: 2156.8139 - mae: 2156.8139\n",
      "Epoch 138/150\n",
      "30/30 [==============================] - 0s 1ms/step - loss: 2309.0724 - mae: 2309.0724\n",
      "Epoch 139/150\n",
      "30/30 [==============================] - 0s 1ms/step - loss: 1972.3612 - mae: 1972.3612\n",
      "Epoch 140/150\n",
      "30/30 [==============================] - 0s 1ms/step - loss: 1997.1219 - mae: 1997.1219\n",
      "Epoch 141/150\n",
      "30/30 [==============================] - 0s 1ms/step - loss: 2494.6025 - mae: 2494.6025\n",
      "Epoch 142/150\n",
      "30/30 [==============================] - 0s 1ms/step - loss: 1777.5220 - mae: 1777.5220\n",
      "Epoch 143/150\n",
      "30/30 [==============================] - 0s 1ms/step - loss: 2114.2980 - mae: 2114.2980\n",
      "Epoch 144/150\n",
      "30/30 [==============================] - 0s 1ms/step - loss: 2204.6938 - mae: 2204.6938\n",
      "Epoch 145/150\n",
      "30/30 [==============================] - 0s 1ms/step - loss: 2294.4622 - mae: 2294.4622\n",
      "Epoch 146/150\n",
      "30/30 [==============================] - 0s 1ms/step - loss: 2084.0272 - mae: 2084.0272\n",
      "Epoch 147/150\n",
      "30/30 [==============================] - 0s 1ms/step - loss: 2045.1561 - mae: 2045.1561\n",
      "Epoch 148/150\n",
      "30/30 [==============================] - 0s 1ms/step - loss: 2166.2741 - mae: 2166.2741\n",
      "Epoch 149/150\n",
      "30/30 [==============================] - 0s 1ms/step - loss: 2007.5871 - mae: 2007.5871\n",
      "Epoch 150/150\n",
      "30/30 [==============================] - 0s 1ms/step - loss: 1948.3604 - mae: 1948.3604\n"
     ]
    }
   ],
   "source": [
    "model_4= keras.Sequential([\n",
    "    keras.layers.Dense(8, input_shape=(11,),  activation=\"relu\"),\n",
    "    keras.layers.Dense(16, activation=\"relu\"),\n",
    "    keras.layers.Dense(32, activation=\"relu\"),\n",
    "    keras.layers.Dense(8, activation=\"relu\"),\n",
    "    keras.layers.Dense(1)\n",
    "], name=\"model-4\")\n",
    "\n",
    "model_4.compile(loss= \"mae\",\n",
    "              optimizer= tf.keras.optimizers.Adam(lr=0.01),\n",
    "              metrics=[\"mae\"]\n",
    "             )\n",
    "\n",
    "model_4_history= model_4.fit(x_train, y_train, epochs=150)"
   ]
  },
  {
   "cell_type": "code",
   "execution_count": 38,
   "id": "strange-coupon",
   "metadata": {
    "execution": {
     "iopub.execute_input": "2021-06-20T14:02:57.318076Z",
     "iopub.status.busy": "2021-06-20T14:02:57.316805Z",
     "iopub.status.idle": "2021-06-20T14:02:57.478990Z",
     "shell.execute_reply": "2021-06-20T14:02:57.478296Z",
     "shell.execute_reply.started": "2021-06-20T13:16:33.502660Z"
    },
    "papermill": {
     "duration": 0.553344,
     "end_time": "2021-06-20T14:02:57.479133",
     "exception": false,
     "start_time": "2021-06-20T14:02:56.925789",
     "status": "completed"
    },
    "tags": []
   },
   "outputs": [
    {
     "data": {
      "text/plain": [
       "<AxesSubplot:>"
      ]
     },
     "execution_count": 38,
     "metadata": {},
     "output_type": "execute_result"
    },
    {
     "data": {
      "image/png": "[encoded data removed]",
      "text/plain": [
       "<Figure size 432x288 with 1 Axes>"
      ]
     },
     "metadata": {
      "needs_background": "light"
     },
     "output_type": "display_data"
    }
   ],
   "source": [
    "pd.DataFrame(model_4_history.history).plot()"
   ]
  },
  {
   "cell_type": "code",
   "execution_count": 39,
   "id": "native-advertising",
   "metadata": {
    "execution": {
     "iopub.execute_input": "2021-06-20T14:02:58.210296Z",
     "iopub.status.busy": "2021-06-20T14:02:58.209285Z",
     "iopub.status.idle": "2021-06-20T14:02:58.370403Z",
     "shell.execute_reply": "2021-06-20T14:02:58.371496Z",
     "shell.execute_reply.started": "2021-06-20T13:16:50.957244Z"
    },
    "papermill": {
     "duration": 0.528252,
     "end_time": "2021-06-20T14:02:58.371691",
     "exception": false,
     "start_time": "2021-06-20T14:02:57.843439",
     "status": "completed"
    },
    "tags": []
   },
   "outputs": [
    {
     "name": "stdout",
     "output_type": "stream",
     "text": [
      "13/13 [==============================] - 0s 981us/step - loss: 1769.3016 - mae: 1769.3016\n"
     ]
    },
    {
     "data": {
      "text/plain": [
       "[1769.3016357421875, 1769.3016357421875]"
      ]
     },
     "execution_count": 39,
     "metadata": {},
     "output_type": "execute_result"
    }
   ],
   "source": [
    "model_4.evaluate(x_test, y_tes)"
   ]
  },
  {
   "cell_type": "code",
   "execution_count": 40,
   "id": "according-nigeria",
   "metadata": {
    "execution": {
     "iopub.execute_input": "2021-06-20T14:02:59.098018Z",
     "iopub.status.busy": "2021-06-20T14:02:59.097338Z",
     "iopub.status.idle": "2021-06-20T14:02:59.193056Z",
     "shell.execute_reply": "2021-06-20T14:02:59.192503Z",
     "shell.execute_reply.started": "2021-06-20T13:33:05.837228Z"
    },
    "papermill": {
     "duration": 0.461087,
     "end_time": "2021-06-20T14:02:59.193210",
     "exception": false,
     "start_time": "2021-06-20T14:02:58.732123",
     "status": "completed"
    },
    "tags": []
   },
   "outputs": [
    {
     "data": {
      "text/plain": [
       "1769.3018"
      ]
     },
     "execution_count": 40,
     "metadata": {},
     "output_type": "execute_result"
    }
   ],
   "source": [
    "y_pred= model_4.predict(x_test)\n",
    "loss_4= mean_absolute_error(y_tes, tf.squeeze(y_pred)).numpy()\n",
    "loss_4"
   ]
  },
  {
   "cell_type": "code",
   "execution_count": 41,
   "id": "toxic-developer",
   "metadata": {
    "execution": {
     "iopub.execute_input": "2021-06-20T14:02:59.962004Z",
     "iopub.status.busy": "2021-06-20T14:02:59.961282Z",
     "iopub.status.idle": "2021-06-20T14:03:00.098218Z",
     "shell.execute_reply": "2021-06-20T14:03:00.097596Z",
     "shell.execute_reply.started": "2021-06-20T13:45:45.975565Z"
    },
    "papermill": {
     "duration": 0.545416,
     "end_time": "2021-06-20T14:03:00.098365",
     "exception": false,
     "start_time": "2021-06-20T14:02:59.552949",
     "status": "completed"
    },
    "tags": []
   },
   "outputs": [
    {
     "data": {
      "text/plain": [
       "<AxesSubplot:xlabel='models', ylabel='Losses'>"
      ]
     },
     "execution_count": 41,
     "metadata": {},
     "output_type": "execute_result"
    },
    {
     "data": {
      "image/png": "[encoded data removed]",
      "text/plain": [
       "<Figure size 432x288 with 1 Axes>"
      ]
     },
     "metadata": {
      "needs_background": "light"
     },
     "output_type": "display_data"
    }
   ],
   "source": [
    "# Comparing all Models\n",
    "\n",
    "res= [(\"model_1\" , loss_1),\n",
    "      (\"model_2\" , loss_2),\n",
    "      (\"model_3\" , loss_3),\n",
    "      (\"model_4\" , loss_4)\n",
    "     ]\n",
    "pd.DataFrame(res).set_index(0).plot(kind=\"bar\", xlabel=\"models\", ylabel=\"Losses\")"
   ]
  },
  {
   "cell_type": "code",
   "execution_count": 42,
   "id": "headed-seating",
   "metadata": {
    "execution": {
     "iopub.execute_input": "2021-06-20T14:03:00.837559Z",
     "iopub.status.busy": "2021-06-20T14:03:00.836625Z",
     "iopub.status.idle": "2021-06-20T14:03:01.412869Z",
     "shell.execute_reply": "2021-06-20T14:03:01.412181Z",
     "shell.execute_reply.started": "2021-06-20T13:47:29.853237Z"
    },
    "papermill": {
     "duration": 0.953012,
     "end_time": "2021-06-20T14:03:01.413016",
     "exception": false,
     "start_time": "2021-06-20T14:03:00.460004",
     "status": "completed"
    },
    "tags": []
   },
   "outputs": [
    {
     "data": {
      "image/png": "[encoded data removed]",
      "text/plain": [
       "<IPython.core.display.Image object>"
      ]
     },
     "execution_count": 42,
     "metadata": {},
     "output_type": "execute_result"
    }
   ],
   "source": [
    "from tensorflow.keras.utils import plot_model\n",
    "\n",
    "plot_model(model_4, show_shapes = True)"
   ]
  },
  {
   "cell_type": "markdown",
   "id": "inclusive-squad",
   "metadata": {
    "papermill": {
     "duration": 0.390952,
     "end_time": "2021-06-20T14:03:02.171559",
     "exception": false,
     "start_time": "2021-06-20T14:03:01.780607",
     "status": "completed"
    },
    "tags": []
   },
   "source": [
    "### saving the Model"
   ]
  },
  {
   "cell_type": "code",
   "execution_count": 43,
   "id": "missing-angle",
   "metadata": {
    "execution": {
     "iopub.execute_input": "2021-06-20T14:03:02.911439Z",
     "iopub.status.busy": "2021-06-20T14:03:02.909922Z",
     "iopub.status.idle": "2021-06-20T14:03:02.939127Z",
     "shell.execute_reply": "2021-06-20T14:03:02.938453Z",
     "shell.execute_reply.started": "2021-06-20T14:00:04.035832Z"
    },
    "papermill": {
     "duration": 0.40334,
     "end_time": "2021-06-20T14:03:02.939294",
     "exception": false,
     "start_time": "2021-06-20T14:03:02.535954",
     "status": "completed"
    },
    "tags": []
   },
   "outputs": [],
   "source": [
    "model_4.save(\"medical_model_4.h5\")"
   ]
  },
  {
   "cell_type": "markdown",
   "id": "requested-conducting",
   "metadata": {
    "papermill": {
     "duration": 0.365078,
     "end_time": "2021-06-20T14:03:03.715773",
     "exception": false,
     "start_time": "2021-06-20T14:03:03.350695",
     "status": "completed"
    },
    "tags": []
   },
   "source": [
    "## Thanks for reading.... If u like this notebook, Please upvote it...\n"
   ]
  },
  {
   "cell_type": "code",
   "execution_count": null,
   "id": "cheap-costs",
   "metadata": {
    "papermill": {
     "duration": 0.361167,
     "end_time": "2021-06-20T14:03:04.437775",
     "exception": false,
     "start_time": "2021-06-20T14:03:04.076608",
     "status": "completed"
    },
    "tags": []
   },
   "outputs": [],
   "source": []
  }
 ],
 "metadata": {
  "kernelspec": {
   "display_name": "Python 3",
   "language": "python",
   "name": "python3"
  },
  "language_info": {
   "codemirror_mode": {
    "name": "ipython",
    "version": 3
   },
   "file_extension": ".py",
   "mimetype": "text/x-python",
   "name": "python",
   "nbconvert_exporter": "python",
   "pygments_lexer": "ipython3",
   "version": "3.7.9"
  },
  "papermill": {
   "default_parameters": {},
   "duration": 58.137439,
   "end_time": "2021-06-20T14:03:06.213453",
   "environment_variables": {},
   "exception": null,
   "input_path": "__notebook__.ipynb",
   "output_path": "__notebook__.ipynb",
   "parameters": {},
   "start_time": "2021-06-20T14:02:08.076014",
   "version": "2.3.2"
  }
 },
 "nbformat": 4,
 "nbformat_minor": 5
}
