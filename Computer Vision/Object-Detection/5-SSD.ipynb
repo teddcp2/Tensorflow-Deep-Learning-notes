{
 "cells": [
  {
   "cell_type": "markdown",
   "id": "6836792f-1a0b-4c2f-9384-b87ac5ab322d",
   "metadata": {},
   "source": [
    "# Single Shot Detector\n",
    "\n",
    "- Type of `One Shot detector`\n"
   ]
  },
  {
   "cell_type": "code",
   "execution_count": null,
   "id": "d8b6254d-b3c4-4947-a75f-14ae268866d8",
   "metadata": {},
   "outputs": [],
   "source": []
  }
 ],
 "metadata": {
  "kernelspec": {
   "display_name": "Python 3",
   "language": "python",
   "name": "python3"
  },
  "language_info": {
   "codemirror_mode": {
    "name": "ipython",
    "version": 3
   },
   "file_extension": ".py",
   "mimetype": "text/x-python",
   "name": "python",
   "nbconvert_exporter": "python",
   "pygments_lexer": "ipython3",
   "version": "3.7.10"
  }
 },
 "nbformat": 4,
 "nbformat_minor": 5
}
