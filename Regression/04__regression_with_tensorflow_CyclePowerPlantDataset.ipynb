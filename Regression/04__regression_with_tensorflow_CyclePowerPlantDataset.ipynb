{
 "cells": [
  {
   "cell_type": "markdown",
   "metadata": {},
   "source": [
    "# Regression with PowerPlant Dataset - Tensorflow\r\n",
    "\r\n",
    "- [link to dataset](https://archive.ics.uci.edu/ml/datasets/Combined+Cycle+Power+Plant)\r\n"
   ]
  },
  {
   "cell_type": "code",
   "execution_count": 2,
   "metadata": {},
   "outputs": [],
   "source": [
    "import numpy as np\r\n",
    "import pandas as pd \r\n",
    "import matplotlib.pyplot as plt \r\n",
    "import seaborn as sns \r\n",
    "\r\n",
    "import tensorflow as tf"
   ]
  },
  {
   "cell_type": "code",
   "execution_count": 3,
   "metadata": {},
   "outputs": [
    {
     "data": {
      "text/html": [
       "<div>\n",
       "<style scoped>\n",
       "    .dataframe tbody tr th:only-of-type {\n",
       "        vertical-align: middle;\n",
       "    }\n",
       "\n",
       "    .dataframe tbody tr th {\n",
       "        vertical-align: top;\n",
       "    }\n",
       "\n",
       "    .dataframe thead th {\n",
       "        text-align: right;\n",
       "    }\n",
       "</style>\n",
       "<table border=\"1\" class=\"dataframe\">\n",
       "  <thead>\n",
       "    <tr style=\"text-align: right;\">\n",
       "      <th></th>\n",
       "      <th>AT</th>\n",
       "      <th>V</th>\n",
       "      <th>AP</th>\n",
       "      <th>RH</th>\n",
       "      <th>PE</th>\n",
       "    </tr>\n",
       "  </thead>\n",
       "  <tbody>\n",
       "    <tr>\n",
       "      <th>0</th>\n",
       "      <td>14.96</td>\n",
       "      <td>41.76</td>\n",
       "      <td>1024.07</td>\n",
       "      <td>73.17</td>\n",
       "      <td>463.26</td>\n",
       "    </tr>\n",
       "    <tr>\n",
       "      <th>1</th>\n",
       "      <td>25.18</td>\n",
       "      <td>62.96</td>\n",
       "      <td>1020.04</td>\n",
       "      <td>59.08</td>\n",
       "      <td>444.37</td>\n",
       "    </tr>\n",
       "    <tr>\n",
       "      <th>2</th>\n",
       "      <td>5.11</td>\n",
       "      <td>39.40</td>\n",
       "      <td>1012.16</td>\n",
       "      <td>92.14</td>\n",
       "      <td>488.56</td>\n",
       "    </tr>\n",
       "    <tr>\n",
       "      <th>3</th>\n",
       "      <td>20.86</td>\n",
       "      <td>57.32</td>\n",
       "      <td>1010.24</td>\n",
       "      <td>76.64</td>\n",
       "      <td>446.48</td>\n",
       "    </tr>\n",
       "    <tr>\n",
       "      <th>4</th>\n",
       "      <td>10.82</td>\n",
       "      <td>37.50</td>\n",
       "      <td>1009.23</td>\n",
       "      <td>96.62</td>\n",
       "      <td>473.90</td>\n",
       "    </tr>\n",
       "  </tbody>\n",
       "</table>\n",
       "</div>"
      ],
      "text/plain": [
       "      AT      V       AP     RH      PE\n",
       "0  14.96  41.76  1024.07  73.17  463.26\n",
       "1  25.18  62.96  1020.04  59.08  444.37\n",
       "2   5.11  39.40  1012.16  92.14  488.56\n",
       "3  20.86  57.32  1010.24  76.64  446.48\n",
       "4  10.82  37.50  1009.23  96.62  473.90"
      ]
     },
     "execution_count": 3,
     "metadata": {},
     "output_type": "execute_result"
    }
   ],
   "source": [
    "data= pd.read_excel(\"../DATA/Folds5x2_pp.xlsx\")\r\n",
    "data.head()"
   ]
  },
  {
   "cell_type": "code",
   "execution_count": 5,
   "metadata": {},
   "outputs": [
    {
     "data": {
      "text/plain": [
       "((9568, 4), (9568,))"
      ]
     },
     "execution_count": 5,
     "metadata": {},
     "output_type": "execute_result"
    }
   ],
   "source": [
    "x= data.iloc[:, :-1]\r\n",
    "y= data.iloc[:,-1]\r\n",
    "x.shape, y.shape"
   ]
  },
  {
   "cell_type": "code",
   "execution_count": 8,
   "metadata": {},
   "outputs": [
    {
     "data": {
      "text/plain": [
       "<Figure size 576x432 with 0 Axes>"
      ]
     },
     "metadata": {},
     "output_type": "display_data"
    },
    {
     "data": {
      "image/png": "[encoded data removed]",
      "text/plain": [
       "<Figure size 432x288 with 6 Axes>"
      ]
     },
     "metadata": {
      "needs_background": "light"
     },
     "output_type": "display_data"
    }
   ],
   "source": [
    "plt.figure(figsize=(8,6))\r\n",
    "data.hist()\r\n",
    "plt.tight_layout()"
   ]
  },
  {
   "cell_type": "code",
   "execution_count": 10,
   "metadata": {},
   "outputs": [],
   "source": [
    "from sklearn.model_selection import train_test_split\r\n",
    "X_train, X_test, y_train, y_test = train_test_split(x, y, test_size = 0.3, random_state = 42)"
   ]
  },
  {
   "cell_type": "code",
   "execution_count": 52,
   "metadata": {},
   "outputs": [],
   "source": [
    "# Creating model 1\r\n",
    "ann = tf.keras.models.Sequential(name=\"model1\")\r\n",
    "ann.add(tf.keras.Input((4,),dtype=\"float32\"))\r\n",
    "ann.add(tf.keras.layers.Dense(units=6, activation='relu',))\r\n",
    "ann.add(tf.keras.layers.Dense(units=3, activation='relu'))\r\n",
    "ann.add(tf.keras.layers.Dense(units=1))\r\n",
    "\r\n",
    "early_stop = tf.keras.callbacks.EarlyStopping(monitor='val_loss', mode='min', verbose=1, patience=25)\r\n",
    "\r\n",
    "ann.compile(optimizer = tf.keras.optimizers.Adam(learning_rate=0.001,), loss = 'mean_squared_error')"
   ]
  },
  {
   "cell_type": "code",
   "execution_count": 53,
   "metadata": {},
   "outputs": [
    {
     "name": "stdout",
     "output_type": "stream",
     "text": [
      "Epoch 1/100\n",
      "162/162 [==============================] - 0s 3ms/step - loss: 1121.4135 - val_loss: 178.4719\n",
      "Epoch 2/100\n",
      "162/162 [==============================] - 0s 2ms/step - loss: 169.6126 - val_loss: 130.5594\n",
      "Epoch 3/100\n",
      "162/162 [==============================] - 0s 2ms/step - loss: 96.4478 - val_loss: 74.6939\n",
      "Epoch 4/100\n",
      "162/162 [==============================] - 0s 2ms/step - loss: 65.2291 - val_loss: 63.0828\n",
      "Epoch 5/100\n",
      "162/162 [==============================] - 0s 2ms/step - loss: 55.1857 - val_loss: 52.9065\n",
      "Epoch 6/100\n",
      "162/162 [==============================] - 0s 2ms/step - loss: 50.3074 - val_loss: 49.9321\n",
      "Epoch 7/100\n",
      "162/162 [==============================] - 0s 2ms/step - loss: 47.0416 - val_loss: 45.9979\n",
      "Epoch 8/100\n",
      "162/162 [==============================] - 0s 2ms/step - loss: 44.5165 - val_loss: 45.2395\n",
      "Epoch 9/100\n",
      "162/162 [==============================] - 0s 3ms/step - loss: 42.4081 - val_loss: 41.8217\n",
      "Epoch 10/100\n",
      "162/162 [==============================] - 0s 2ms/step - loss: 40.6429 - val_loss: 40.3221\n",
      "Epoch 11/100\n",
      "162/162 [==============================] - 0s 2ms/step - loss: 39.4789 - val_loss: 40.7966\n",
      "Epoch 12/100\n",
      "162/162 [==============================] - 0s 2ms/step - loss: 38.3562 - val_loss: 38.9970\n",
      "Epoch 13/100\n",
      "162/162 [==============================] - 0s 2ms/step - loss: 37.7464 - val_loss: 36.4597\n",
      "Epoch 14/100\n",
      "162/162 [==============================] - 0s 2ms/step - loss: 36.2304 - val_loss: 35.3472\n",
      "Epoch 15/100\n",
      "162/162 [==============================] - 0s 2ms/step - loss: 35.2964 - val_loss: 35.2234\n",
      "Epoch 16/100\n",
      "162/162 [==============================] - 0s 2ms/step - loss: 34.3485 - val_loss: 34.4621\n",
      "Epoch 17/100\n",
      "162/162 [==============================] - 0s 2ms/step - loss: 33.8030 - val_loss: 32.9207\n",
      "Epoch 18/100\n",
      "162/162 [==============================] - 0s 2ms/step - loss: 32.8523 - val_loss: 32.2179\n",
      "Epoch 19/100\n",
      "162/162 [==============================] - 0s 2ms/step - loss: 32.5090 - val_loss: 32.3453\n",
      "Epoch 20/100\n",
      "162/162 [==============================] - 0s 2ms/step - loss: 31.8341 - val_loss: 30.9706\n",
      "Epoch 21/100\n",
      "162/162 [==============================] - 0s 2ms/step - loss: 30.9616 - val_loss: 30.7871\n",
      "Epoch 22/100\n",
      "162/162 [==============================] - 0s 2ms/step - loss: 30.8626 - val_loss: 31.0159\n",
      "Epoch 23/100\n",
      "162/162 [==============================] - 0s 2ms/step - loss: 30.0855 - val_loss: 29.5019\n",
      "Epoch 24/100\n",
      "162/162 [==============================] - 0s 2ms/step - loss: 29.7958 - val_loss: 29.3270\n",
      "Epoch 25/100\n",
      "162/162 [==============================] - 0s 2ms/step - loss: 29.0708 - val_loss: 31.6514\n",
      "Epoch 26/100\n",
      "162/162 [==============================] - 0s 2ms/step - loss: 28.8642 - val_loss: 28.2996\n",
      "Epoch 27/100\n",
      "162/162 [==============================] - 0s 2ms/step - loss: 28.3860 - val_loss: 27.9404\n",
      "Epoch 28/100\n",
      "162/162 [==============================] - 0s 2ms/step - loss: 28.1965 - val_loss: 31.2555\n",
      "Epoch 29/100\n",
      "162/162 [==============================] - 0s 2ms/step - loss: 28.5963 - val_loss: 27.6277\n",
      "Epoch 30/100\n",
      "162/162 [==============================] - 0s 2ms/step - loss: 27.6881 - val_loss: 27.3719\n",
      "Epoch 31/100\n",
      "162/162 [==============================] - 0s 2ms/step - loss: 27.5150 - val_loss: 27.2932\n",
      "Epoch 32/100\n",
      "162/162 [==============================] - 0s 2ms/step - loss: 27.5766 - val_loss: 28.8725\n",
      "Epoch 33/100\n",
      "162/162 [==============================] - 0s 2ms/step - loss: 27.2043 - val_loss: 26.6713\n",
      "Epoch 34/100\n",
      "162/162 [==============================] - 0s 2ms/step - loss: 26.9115 - val_loss: 27.0512\n",
      "Epoch 35/100\n",
      "162/162 [==============================] - 0s 2ms/step - loss: 27.1444 - val_loss: 26.9485\n",
      "Epoch 36/100\n",
      "162/162 [==============================] - 0s 2ms/step - loss: 27.1338 - val_loss: 27.1263\n",
      "Epoch 37/100\n",
      "162/162 [==============================] - 0s 3ms/step - loss: 27.7543 - val_loss: 26.9700\n",
      "Epoch 38/100\n",
      "162/162 [==============================] - 1s 3ms/step - loss: 27.0048 - val_loss: 31.3537\n",
      "Epoch 39/100\n",
      "162/162 [==============================] - 1s 4ms/step - loss: 26.9637 - val_loss: 29.5009\n",
      "Epoch 40/100\n",
      "162/162 [==============================] - 1s 4ms/step - loss: 26.5962 - val_loss: 27.8615\n",
      "Epoch 41/100\n",
      "162/162 [==============================] - 0s 3ms/step - loss: 27.1571 - val_loss: 26.3610\n",
      "Epoch 42/100\n",
      "162/162 [==============================] - 0s 2ms/step - loss: 26.5079 - val_loss: 26.7108\n",
      "Epoch 43/100\n",
      "162/162 [==============================] - 0s 2ms/step - loss: 26.4993 - val_loss: 26.3770\n",
      "Epoch 44/100\n",
      "162/162 [==============================] - 0s 2ms/step - loss: 26.3561 - val_loss: 26.1258\n",
      "Epoch 45/100\n",
      "162/162 [==============================] - 0s 2ms/step - loss: 26.3641 - val_loss: 26.1550\n",
      "Epoch 46/100\n",
      "162/162 [==============================] - 0s 2ms/step - loss: 26.9345 - val_loss: 26.4481\n",
      "Epoch 47/100\n",
      "162/162 [==============================] - 0s 2ms/step - loss: 26.2953 - val_loss: 27.6400\n",
      "Epoch 48/100\n",
      "162/162 [==============================] - 0s 2ms/step - loss: 26.7464 - val_loss: 28.6666\n",
      "Epoch 49/100\n",
      "162/162 [==============================] - 0s 2ms/step - loss: 26.5310 - val_loss: 26.1021\n",
      "Epoch 50/100\n",
      "162/162 [==============================] - 0s 2ms/step - loss: 27.0871 - val_loss: 26.2537\n",
      "Epoch 51/100\n",
      "162/162 [==============================] - 0s 2ms/step - loss: 26.4673 - val_loss: 26.0293\n",
      "Epoch 52/100\n",
      "162/162 [==============================] - 0s 2ms/step - loss: 26.1261 - val_loss: 26.5264\n",
      "Epoch 53/100\n",
      "162/162 [==============================] - 0s 2ms/step - loss: 26.5737 - val_loss: 25.9419\n",
      "Epoch 54/100\n",
      "162/162 [==============================] - 0s 2ms/step - loss: 26.5224 - val_loss: 26.2264\n",
      "Epoch 55/100\n",
      "162/162 [==============================] - 0s 3ms/step - loss: 25.8962 - val_loss: 26.5198\n",
      "Epoch 56/100\n",
      "162/162 [==============================] - 0s 2ms/step - loss: 26.3129 - val_loss: 30.6937\n",
      "Epoch 57/100\n",
      "162/162 [==============================] - 0s 2ms/step - loss: 26.2442 - val_loss: 33.6578\n",
      "Epoch 58/100\n",
      "162/162 [==============================] - 0s 2ms/step - loss: 26.9610 - val_loss: 26.6491\n",
      "Epoch 59/100\n",
      "162/162 [==============================] - 0s 3ms/step - loss: 26.6756 - val_loss: 27.7576\n",
      "Epoch 60/100\n",
      "162/162 [==============================] - 0s 3ms/step - loss: 26.1491 - val_loss: 25.9412\n",
      "Epoch 61/100\n",
      "162/162 [==============================] - 0s 2ms/step - loss: 26.9907 - val_loss: 25.9294\n",
      "Epoch 62/100\n",
      "162/162 [==============================] - 0s 2ms/step - loss: 27.3036 - val_loss: 30.9961\n",
      "Epoch 63/100\n",
      "162/162 [==============================] - 0s 2ms/step - loss: 26.6030 - val_loss: 26.4144\n",
      "Epoch 64/100\n",
      "162/162 [==============================] - 0s 2ms/step - loss: 26.4323 - val_loss: 26.1396\n",
      "Epoch 65/100\n",
      "162/162 [==============================] - 0s 3ms/step - loss: 26.5413 - val_loss: 26.1938\n",
      "Epoch 66/100\n",
      "162/162 [==============================] - 1s 4ms/step - loss: 27.1153 - val_loss: 28.2490\n",
      "Epoch 67/100\n",
      "162/162 [==============================] - 1s 5ms/step - loss: 26.1497 - val_loss: 26.9733\n",
      "Epoch 68/100\n",
      "162/162 [==============================] - 1s 4ms/step - loss: 26.1213 - val_loss: 26.6441\n",
      "Epoch 69/100\n",
      "162/162 [==============================] - 0s 3ms/step - loss: 26.8275 - val_loss: 30.0146\n",
      "Epoch 70/100\n",
      "162/162 [==============================] - 0s 3ms/step - loss: 26.7412 - val_loss: 26.3054\n",
      "Epoch 71/100\n",
      "162/162 [==============================] - 0s 3ms/step - loss: 26.7159 - val_loss: 26.4468\n",
      "Epoch 72/100\n",
      "162/162 [==============================] - 0s 3ms/step - loss: 26.5655 - val_loss: 26.7939\n",
      "Epoch 73/100\n",
      "162/162 [==============================] - 1s 4ms/step - loss: 26.5845 - val_loss: 26.1713\n",
      "Epoch 74/100\n",
      "162/162 [==============================] - 0s 3ms/step - loss: 27.1289 - val_loss: 26.2750\n",
      "Epoch 75/100\n",
      "162/162 [==============================] - 0s 2ms/step - loss: 26.1769 - val_loss: 26.0163\n",
      "Epoch 76/100\n",
      "162/162 [==============================] - 0s 2ms/step - loss: 26.6844 - val_loss: 27.4206\n",
      "Epoch 77/100\n",
      "162/162 [==============================] - 0s 2ms/step - loss: 26.1348 - val_loss: 25.9468\n",
      "Epoch 78/100\n",
      "162/162 [==============================] - 0s 2ms/step - loss: 26.3277 - val_loss: 26.5603\n",
      "Epoch 79/100\n",
      "162/162 [==============================] - 0s 2ms/step - loss: 26.3207 - val_loss: 26.0328\n",
      "Epoch 80/100\n",
      "162/162 [==============================] - 0s 3ms/step - loss: 26.2624 - val_loss: 25.9433\n",
      "Epoch 81/100\n",
      "162/162 [==============================] - 0s 3ms/step - loss: 26.8836 - val_loss: 26.4262\n",
      "Epoch 82/100\n",
      "162/162 [==============================] - 0s 3ms/step - loss: 26.3099 - val_loss: 25.9311\n",
      "Epoch 83/100\n",
      "162/162 [==============================] - 0s 3ms/step - loss: 26.1249 - val_loss: 26.0564\n",
      "Epoch 84/100\n",
      "162/162 [==============================] - 0s 3ms/step - loss: 26.8437 - val_loss: 26.0572\n",
      "Epoch 85/100\n",
      "162/162 [==============================] - 0s 3ms/step - loss: 27.2495 - val_loss: 27.3793\n",
      "Epoch 86/100\n",
      "162/162 [==============================] - 0s 2ms/step - loss: 26.2627 - val_loss: 25.9448\n",
      "Epoch 00086: early stopping\n"
     ]
    }
   ],
   "source": [
    "hist1=ann.fit(X_train, y_train, batch_size = 32, epochs = 100, validation_split=0.23, callbacks=[early_stop])"
   ]
  },
  {
   "cell_type": "code",
   "execution_count": 54,
   "metadata": {},
   "outputs": [
    {
     "data": {
      "text/plain": [
       "<AxesSubplot:>"
      ]
     },
     "execution_count": 54,
     "metadata": {},
     "output_type": "execute_result"
    },
    {
     "data": {
      "image/png": "[encoded data removed]",
      "text/plain": [
       "<Figure size 432x288 with 1 Axes>"
      ]
     },
     "metadata": {
      "needs_background": "light"
     },
     "output_type": "display_data"
    }
   ],
   "source": [
    "losses = pd.DataFrame(hist1.history)\r\n",
    "\r\n",
    "losses[['loss','val_loss']].plot()"
   ]
  },
  {
   "cell_type": "code",
   "execution_count": 55,
   "metadata": {},
   "outputs": [],
   "source": [
    "preds= ann.predict(X_test)"
   ]
  },
  {
   "cell_type": "code",
   "execution_count": 56,
   "metadata": {},
   "outputs": [
    {
     "name": "stdout",
     "output_type": "stream",
     "text": [
      "90/90 [==============================] - 0s 2ms/step - loss: 25.0735\n"
     ]
    },
    {
     "data": {
      "text/plain": [
       "25.07354736328125"
      ]
     },
     "execution_count": 56,
     "metadata": {},
     "output_type": "execute_result"
    }
   ],
   "source": [
    "ann.evaluate(X_test, y_test)"
   ]
  },
  {
   "cell_type": "code",
   "execution_count": 59,
   "metadata": {},
   "outputs": [
    {
     "data": {
      "text/plain": [
       "(0.9144713503237847, 25.073548410311627)"
      ]
     },
     "execution_count": 59,
     "metadata": {},
     "output_type": "execute_result"
    }
   ],
   "source": [
    "from sklearn.metrics import mean_squared_error as mse, r2_score\r\n",
    "r2_score(y_test, preds), mse(y_test, preds)"
   ]
  },
  {
   "cell_type": "code",
   "execution_count": 60,
   "metadata": {},
   "outputs": [
    {
     "data": {
      "image/png": "[encoded data removed]",
      "text/plain": [
       "<IPython.core.display.Image object>"
      ]
     },
     "execution_count": 60,
     "metadata": {},
     "output_type": "execute_result"
    }
   ],
   "source": [
    "tf.keras.utils.plot_model(ann, show_shapes=True, show_layer_names=True)"
   ]
  },
  {
   "cell_type": "markdown",
   "metadata": {},
   "source": [
    "# Thanks"
   ]
  }
 ],
 "metadata": {
  "interpreter": {
   "hash": "a07d8b953171f7309cc72dc31c4fe3a1dbcb6a8d9395b85270bed1ed2e7b0073"
  },
  "kernelspec": {
   "display_name": "Python 3.7.10 64-bit ('base': conda)",
   "name": "python3"
  },
  "language_info": {
   "codemirror_mode": {
    "name": "ipython",
    "version": 3
   },
   "file_extension": ".py",
   "mimetype": "text/x-python",
   "name": "python",
   "nbconvert_exporter": "python",
   "pygments_lexer": "ipython3",
   "version": "3.7.10"
  },
  "orig_nbformat": 4
 },
 "nbformat": 4,
 "nbformat_minor": 2
}