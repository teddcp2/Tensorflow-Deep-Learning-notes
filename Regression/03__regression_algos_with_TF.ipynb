{
 "cells": [
  {
   "cell_type": "markdown",
   "metadata": {},
   "source": [
    "# Linear Regression with Tensorflow\r\n",
    "\r\n",
    "- Here we will try to implement Linear Regression using Tensorflow and will implement different methoda to get the optimized solution\r\n",
    "\r\n",
    "    1. by matrix inverse method\r\n",
    "    2. by decomposition method\r\n",
    "    3. Tensorflow way\r\n",
    "    4. Getting loss functions \r\n",
    "    5. Deming Regression\r\n",
    "    6. Lasso and Ridge regression\r\n",
    "    7. Elastic net regression\r\n",
    "\r\n",
    "- [different ols solution](https://stats.stackexchange.com/a/1882/279934)\r\n",
    "- Few others are \r\n",
    "  - [SVD](https://programmathically.com/singular-value-decomposition/) and [link2](https://machinelearningmastery.com/singular-value-decomposition-for-machine-learning/) and [calculation example](https://web.mit.edu/be.400/www/SVD/Singular_Value_Decomposition.htm) and [libraries](https://www.askpython.com/python/examples/singular-value-decomposition)\r\n",
    "  \r\n",
    "  - [QR Decomposition](https://towardsdatascience.com/qr-matrix-factorization-15bae43a6b2)\r\n",
    "\r\n",
    "\r\n",
    "## 1. Using Matrix inverse method (Normal Equations)\r\n",
    "\r\n",
    "Equation : \r\n",
    "    $Ax = b$  where A and b are the inputs and outputs respectively\r\n",
    "\r\n",
    "solution : \r\n",
    "    $x= (A^T *A)^{-1}* (A^T * B)$\r\n",
    "\r\n",
    "- extras\r\n",
    "  - [link 1](https://online.stat.psu.edu/stat462/node/132/)\r\n",
    "  - [link 2](https://machinelearningmastery.com/solve-linear-regression-using-linear-algebra/)\r\n",
    "  - [problem with inverse method](https://stats.stackexchange.com/a/69537/279934)\r\n"
   ]
  },
  {
   "cell_type": "code",
   "execution_count": 73,
   "metadata": {},
   "outputs": [],
   "source": [
    "import numpy as np \r\n",
    "import pandas as pd\r\n",
    "import matplotlib.pyplot as plt \r\n",
    "import tensorflow as tf"
   ]
  },
  {
   "cell_type": "code",
   "execution_count": 74,
   "metadata": {},
   "outputs": [],
   "source": [
    "# Preparing x and y\r\n",
    "x= np.linspace(10,100,50)\r\n",
    "y= 10 * (x + np.random.normal(0,1,50))\r\n"
   ]
  },
  {
   "cell_type": "code",
   "execution_count": 75,
   "metadata": {},
   "outputs": [
    {
     "data": {
      "text/plain": [
       "((50, 2), (50, 1))"
      ]
     },
     "execution_count": 75,
     "metadata": {},
     "output_type": "execute_result"
    }
   ],
   "source": [
    "# Creating Matrix A and B\r\n",
    "\r\n",
    "x_vals= np.transpose(np.matrix(x))\r\n",
    "ones= np.transpose(np.matrix(np.ones(50)))  # np.repeat(1,50)\r\n",
    "\r\n",
    "A_mat = np.concatenate((x_vals, ones), axis=1)  # np.column_stack((x,ones))\r\n",
    "b_mat= np.matrix(y).T \r\n",
    "\r\n",
    "A_mat.shape, b_mat.shape"
   ]
  },
  {
   "cell_type": "code",
   "execution_count": 76,
   "metadata": {},
   "outputs": [],
   "source": [
    "# Creating tensors\r\n",
    "\r\n",
    "A_tensor= tf.constant(A_mat)\r\n",
    "B_tensor= tf.constant(b_mat)"
   ]
  },
  {
   "cell_type": "code",
   "execution_count": 77,
   "metadata": {},
   "outputs": [
    {
     "data": {
      "text/plain": [
       "array([[9.93763328],\n",
       "       [3.50092532]])"
      ]
     },
     "execution_count": 77,
     "metadata": {},
     "output_type": "execute_result"
    }
   ],
   "source": [
    "# using matrix inverse method\r\n",
    "\r\n",
    "mul = tf.matmul(A_tensor, A_tensor, transpose_a=True)\r\n",
    "mul_inv= tf.linalg.inv(mul)  # (A.T * A ) ^-1\r\n",
    "\r\n",
    "sol= tf.matmul( mul_inv, tf.matmul(A_tensor, B_tensor, transpose_a=True))\r\n",
    "sol.numpy()"
   ]
  },
  {
   "cell_type": "code",
   "execution_count": 78,
   "metadata": {},
   "outputs": [
    {
     "data": {
      "text/plain": [
       "(<tf.Tensor: shape=(), dtype=float64, numpy=9.93763328076058>,\n",
       " <tf.Tensor: shape=(), dtype=float64, numpy=3.5009253231214643>)"
      ]
     },
     "execution_count": 78,
     "metadata": {},
     "output_type": "execute_result"
    }
   ],
   "source": [
    "slope= sol[0][0]\r\n",
    "intercept= sol[1][0]\r\n",
    "\r\n",
    "slope, intercept"
   ]
  },
  {
   "cell_type": "code",
   "execution_count": 79,
   "metadata": {},
   "outputs": [
    {
     "data": {
      "text/plain": [
       "TensorShape([50])"
      ]
     },
     "execution_count": 79,
     "metadata": {},
     "output_type": "execute_result"
    }
   ],
   "source": [
    "preds= (slope * x + intercept)\r\n",
    "preds.shape"
   ]
  },
  {
   "cell_type": "code",
   "execution_count": 80,
   "metadata": {},
   "outputs": [
    {
     "data": {
      "text/plain": [
       "(0.9979520863092396, 9.558590307787883)"
      ]
     },
     "execution_count": 80,
     "metadata": {},
     "output_type": "execute_result"
    }
   ],
   "source": [
    "# r-squared and mean-absolute-error\r\n",
    "from sklearn.metrics import mean_absolute_error, r2_score \r\n",
    "\r\n",
    "r2_score(y, preds), mean_absolute_error(y, preds)"
   ]
  },
  {
   "cell_type": "code",
   "execution_count": 81,
   "metadata": {},
   "outputs": [
    {
     "data": {
      "image/png": "[encoded data removed]",
      "text/plain": [
       "<Figure size 720x504 with 1 Axes>"
      ]
     },
     "metadata": {
      "needs_background": "light"
     },
     "output_type": "display_data"
    }
   ],
   "source": [
    "plt.figure(figsize=(10,7))\r\n",
    "plt.scatter(x,y, label=\"data\")\r\n",
    "plt.plot(x,preds , \"r-\", label=\"best fit\")\r\n",
    "plt.legend()\r\n",
    "plt.show()"
   ]
  },
  {
   "cell_type": "markdown",
   "metadata": {},
   "source": [
    "## 2.  Using Cholesky decomposition method\r\n",
    "\r\n",
    "- Compute the Cholesky decomposition of $A$, where $A \\cdot A^{T} = L^{T} \\cdot L$.  ( [link](https://en.wikipedia.org/wiki/Cholesky_decomposition) and [link2](https://numpy.org/doc/stable/reference/generated/numpy.linalg.cholesky.html) )\r\n",
    "- Solve ($L^{T} \\cdot z = A^{T} \\cdot y$) for $z$.\r\n",
    "- Finally, solve ($L \\cdot x = z$) for $x$.\r\n",
    "\r\n",
    "Note - Normally decomposition works when $A$ is square. Of course, with an over determined system, $A$ is not square. So we factor the product $A^{T} \\cdot A$ instead"
   ]
  },
  {
   "cell_type": "code",
   "execution_count": 82,
   "metadata": {},
   "outputs": [
    {
     "data": {
      "text/plain": [
       "(TensorShape([50, 2]), TensorShape([50, 1]))"
      ]
     },
     "execution_count": 82,
     "metadata": {},
     "output_type": "execute_result"
    }
   ],
   "source": [
    "# we have already our previous tensors \r\n",
    "A_tensor.shape, B_tensor.shape"
   ]
  },
  {
   "cell_type": "code",
   "execution_count": 83,
   "metadata": {},
   "outputs": [
    {
     "data": {
      "text/plain": [
       "<tf.Tensor: shape=(2, 2), dtype=float64, numpy=\n",
       "array([[431.71466389,   0.        ],\n",
       "       [  6.36994809,   3.06981454]])>"
      ]
     },
     "execution_count": 83,
     "metadata": {},
     "output_type": "execute_result"
    }
   ],
   "source": [
    "# Find the Cholesky Decomposition\r\n",
    "tA_A = tf.matmul(tf.transpose(A_tensor), A_tensor)\r\n",
    "L = tf.linalg.cholesky(tA_A)\r\n",
    "L"
   ]
  },
  {
   "cell_type": "code",
   "execution_count": 84,
   "metadata": {},
   "outputs": [
    {
     "data": {
      "text/plain": [
       "<tf.Tensor: shape=(2, 1), dtype=float64, numpy=\n",
       "array([[4312.52272428],\n",
       "       [  10.74719145]])>"
      ]
     },
     "execution_count": 84,
     "metadata": {},
     "output_type": "execute_result"
    }
   ],
   "source": [
    "# doing step-2 L * y= T(A) * B\r\n",
    "prod= tf.matmul(tf.transpose(A_tensor), B_tensor)\r\n",
    "\r\n",
    "y_sol = tf.linalg.solve(L, prod)\r\n",
    "y_sol "
   ]
  },
  {
   "cell_type": "code",
   "execution_count": 88,
   "metadata": {},
   "outputs": [
    {
     "data": {
      "text/plain": [
       "<tf.Tensor: shape=(2, 1), dtype=float64, numpy=\n",
       "array([[9.93763328],\n",
       "       [3.50092532]])>"
      ]
     },
     "execution_count": 88,
     "metadata": {},
     "output_type": "execute_result"
    }
   ],
   "source": [
    "# Solve L' * x = y\r\n",
    "x_sol = tf.linalg.solve(tf.transpose(L), y_sol)\r\n",
    "x_sol"
   ]
  },
  {
   "cell_type": "code",
   "execution_count": null,
   "metadata": {},
   "outputs": [
    {
     "data": {
      "text/plain": [
       "<tf.Tensor: shape=(50,), dtype=float64, numpy=\n",
       "array([  99.77645225,  118.16343458,  136.55041691,  154.93739924,\n",
       "        173.32438157,  191.7113639 ,  210.09834623,  228.48532856,\n",
       "        246.87231089,  265.25929322,  283.64627555,  302.03325788,\n",
       "        320.42024021,  338.80722255,  357.19420488,  375.58118721,\n",
       "        393.96816954,  412.35515187,  430.7421342 ,  449.12911653,\n",
       "        467.51609886,  485.90308119,  504.29006352,  522.67704585,\n",
       "        541.06402818,  559.45101051,  577.83799284,  596.22497518,\n",
       "        614.61195751,  632.99893984,  651.38592217,  669.7729045 ,\n",
       "        688.15988683,  706.54686916,  724.93385149,  743.32083382,\n",
       "        761.70781615,  780.09479848,  798.48178081,  816.86876314,\n",
       "        835.25574547,  853.64272781,  872.02971014,  890.41669247,\n",
       "        908.8036748 ,  927.19065713,  945.57763946,  963.96462179,\n",
       "        982.35160412, 1000.73858645])>"
      ]
     },
     "execution_count": 70,
     "metadata": {},
     "output_type": "execute_result"
    }
   ],
   "source": [
    "# Extract coefficients\r\n",
    "slope = x_sol[0][0]\r\n",
    "y_intercept = x_sol[1][0]\r\n",
    "\r\n",
    "preds= slope * x + intercept\r\n",
    "preds "
   ]
  },
  {
   "cell_type": "code",
   "execution_count": 86,
   "metadata": {},
   "outputs": [
    {
     "data": {
      "image/png": "[encoded data removed]",
      "text/plain": [
       "<Figure size 720x504 with 1 Axes>"
      ]
     },
     "metadata": {
      "needs_background": "light"
     },
     "output_type": "display_data"
    }
   ],
   "source": [
    "plt.figure(figsize=(10,7))\r\n",
    "plt.scatter(x,y, label=\"data\")\r\n",
    "plt.plot(x,preds , \"r-\", label=\"best fit\")\r\n",
    "plt.legend()\r\n",
    "plt.show()"
   ]
  },
  {
   "cell_type": "code",
   "execution_count": 87,
   "metadata": {},
   "outputs": [
    {
     "data": {
      "text/plain": [
       "(0.9979520863092396, 9.558590307787883)"
      ]
     },
     "execution_count": 87,
     "metadata": {},
     "output_type": "execute_result"
    }
   ],
   "source": [
    "# r-squared and mean-absolute-error\r\n",
    "from sklearn.metrics import mean_absolute_error, r2_score \r\n",
    "\r\n",
    "r2_score(y, preds), mean_absolute_error(y, preds)"
   ]
  },
  {
   "cell_type": "markdown",
   "metadata": {},
   "source": [
    "## Using Tensorflow : IRIS Dataset\r\n",
    "\r\n",
    "- With the Sepal length (y) and Petal width (x) of the Iris data.\r\n",
    "\r\n"
   ]
  },
  {
   "cell_type": "code",
   "execution_count": 90,
   "metadata": {},
   "outputs": [],
   "source": [
    "from sklearn.datasets import load_iris\r\n",
    "\r\n",
    "iris= load_iris()\r\n",
    "x_valss = np.array([x[3] for x in iris.data])\r\n",
    "y_valss = np.array([y[0] for y in iris.data])\r\n"
   ]
  },
  {
   "cell_type": "code",
   "execution_count": 91,
   "metadata": {},
   "outputs": [],
   "source": [
    "# Declare batch size\r\n",
    "batch_size = 25"
   ]
  },
  {
   "cell_type": "code",
   "execution_count": 92,
   "metadata": {},
   "outputs": [
    {
     "name": "stdout",
     "output_type": "stream",
     "text": [
      "Epoch 1/50\n",
      "5/5 [==============================] - 0s 51ms/step - loss: 10.1513 - val_loss: 1.5926\n",
      "Epoch 2/50\n",
      "5/5 [==============================] - 0s 8ms/step - loss: 4.7054 - val_loss: 4.1202\n",
      "Epoch 3/50\n",
      "5/5 [==============================] - 0s 7ms/step - loss: 3.7143 - val_loss: 2.9923\n",
      "Epoch 4/50\n",
      "5/5 [==============================] - 0s 7ms/step - loss: 3.1719 - val_loss: 4.4577\n",
      "Epoch 5/50\n",
      "5/5 [==============================] - 0s 7ms/step - loss: 2.6878 - val_loss: 3.7155\n",
      "Epoch 6/50\n",
      "5/5 [==============================] - 0s 7ms/step - loss: 2.3375 - val_loss: 2.9167\n",
      "Epoch 7/50\n",
      "5/5 [==============================] - 0s 7ms/step - loss: 2.0474 - val_loss: 3.6605\n",
      "Epoch 8/50\n",
      "5/5 [==============================] - 0s 7ms/step - loss: 1.8124 - val_loss: 3.2951\n",
      "Epoch 9/50\n",
      "5/5 [==============================] - 0s 7ms/step - loss: 1.5937 - val_loss: 2.4517\n",
      "Epoch 10/50\n",
      "5/5 [==============================] - 0s 7ms/step - loss: 1.4023 - val_loss: 1.9406\n",
      "Epoch 11/50\n",
      "5/5 [==============================] - 0s 6ms/step - loss: 1.2559 - val_loss: 1.8244\n",
      "Epoch 12/50\n",
      "5/5 [==============================] - 0s 8ms/step - loss: 1.1393 - val_loss: 1.4538\n",
      "Epoch 13/50\n",
      "5/5 [==============================] - 0s 7ms/step - loss: 1.0376 - val_loss: 1.4042\n",
      "Epoch 14/50\n",
      "5/5 [==============================] - 0s 7ms/step - loss: 0.9217 - val_loss: 1.3835\n",
      "Epoch 15/50\n",
      "5/5 [==============================] - 0s 7ms/step - loss: 0.8294 - val_loss: 1.5999\n",
      "Epoch 16/50\n",
      "5/5 [==============================] - 0s 7ms/step - loss: 0.7530 - val_loss: 1.2852\n",
      "Epoch 17/50\n",
      "5/5 [==============================] - 0s 7ms/step - loss: 0.6790 - val_loss: 1.0877\n",
      "Epoch 18/50\n",
      "5/5 [==============================] - 0s 7ms/step - loss: 0.6184 - val_loss: 1.1675\n",
      "Epoch 19/50\n",
      "5/5 [==============================] - 0s 7ms/step - loss: 0.5679 - val_loss: 1.3322\n",
      "Epoch 20/50\n",
      "5/5 [==============================] - 0s 7ms/step - loss: 0.5201 - val_loss: 0.9231\n",
      "Epoch 21/50\n",
      "5/5 [==============================] - 0s 7ms/step - loss: 0.4762 - val_loss: 0.9429\n",
      "Epoch 22/50\n",
      "5/5 [==============================] - 0s 8ms/step - loss: 0.4458 - val_loss: 0.9734\n",
      "Epoch 23/50\n",
      "5/5 [==============================] - 0s 6ms/step - loss: 0.4091 - val_loss: 0.8211\n",
      "Epoch 24/50\n",
      "5/5 [==============================] - 0s 8ms/step - loss: 0.3795 - val_loss: 0.6746\n",
      "Epoch 25/50\n",
      "5/5 [==============================] - 0s 7ms/step - loss: 0.3531 - val_loss: 0.6804\n",
      "Epoch 26/50\n",
      "5/5 [==============================] - 0s 9ms/step - loss: 0.3317 - val_loss: 0.6774\n",
      "Epoch 27/50\n",
      "5/5 [==============================] - 0s 7ms/step - loss: 0.3153 - val_loss: 0.6070\n",
      "Epoch 28/50\n",
      "5/5 [==============================] - 0s 7ms/step - loss: 0.2959 - val_loss: 0.5690\n",
      "Epoch 29/50\n",
      "5/5 [==============================] - 0s 7ms/step - loss: 0.2820 - val_loss: 0.5154\n",
      "Epoch 30/50\n",
      "5/5 [==============================] - 0s 7ms/step - loss: 0.2688 - val_loss: 0.4737\n",
      "Epoch 31/50\n",
      "5/5 [==============================] - 0s 7ms/step - loss: 0.2588 - val_loss: 0.5107\n",
      "Epoch 32/50\n",
      "5/5 [==============================] - 0s 7ms/step - loss: 0.2486 - val_loss: 0.5229\n",
      "Epoch 33/50\n",
      "5/5 [==============================] - 0s 7ms/step - loss: 0.2402 - val_loss: 0.4914\n",
      "Epoch 34/50\n",
      "5/5 [==============================] - 0s 7ms/step - loss: 0.2310 - val_loss: 0.4560\n",
      "Epoch 35/50\n",
      "5/5 [==============================] - 0s 8ms/step - loss: 0.2279 - val_loss: 0.4428\n",
      "Epoch 36/50\n",
      "5/5 [==============================] - 0s 7ms/step - loss: 0.2192 - val_loss: 0.4163\n",
      "Epoch 37/50\n",
      "5/5 [==============================] - 0s 7ms/step - loss: 0.2139 - val_loss: 0.4609\n",
      "Epoch 38/50\n",
      "5/5 [==============================] - 0s 8ms/step - loss: 0.2129 - val_loss: 0.4197\n",
      "Epoch 39/50\n",
      "5/5 [==============================] - 0s 7ms/step - loss: 0.2060 - val_loss: 0.4079\n",
      "Epoch 40/50\n",
      "5/5 [==============================] - 0s 8ms/step - loss: 0.2051 - val_loss: 0.4051\n",
      "Epoch 41/50\n",
      "5/5 [==============================] - 0s 7ms/step - loss: 0.2004 - val_loss: 0.3894\n",
      "Epoch 42/50\n",
      "5/5 [==============================] - 0s 7ms/step - loss: 0.1982 - val_loss: 0.3906\n",
      "Epoch 43/50\n",
      "5/5 [==============================] - 0s 8ms/step - loss: 0.1955 - val_loss: 0.3696\n",
      "Epoch 44/50\n",
      "5/5 [==============================] - 0s 7ms/step - loss: 0.1952 - val_loss: 0.3889\n",
      "Epoch 45/50\n",
      "5/5 [==============================] - 0s 8ms/step - loss: 0.1923 - val_loss: 0.3750\n",
      "Epoch 46/50\n",
      "5/5 [==============================] - 0s 8ms/step - loss: 0.1913 - val_loss: 0.3682\n",
      "Epoch 47/50\n",
      "5/5 [==============================] - 0s 8ms/step - loss: 0.1900 - val_loss: 0.3706\n",
      "Epoch 48/50\n",
      "5/5 [==============================] - 0s 7ms/step - loss: 0.1894 - val_loss: 0.3622\n",
      "Epoch 49/50\n",
      "5/5 [==============================] - 0s 6ms/step - loss: 0.1883 - val_loss: 0.3758\n",
      "Epoch 50/50\n",
      "5/5 [==============================] - 0s 8ms/step - loss: 0.1880 - val_loss: 0.3669\n"
     ]
    },
    {
     "data": {
      "text/plain": [
       "<tensorflow.python.keras.callbacks.History at 0x17b3c06f408>"
      ]
     },
     "execution_count": 92,
     "metadata": {},
     "output_type": "execute_result"
    }
   ],
   "source": [
    "from tensorflow import keras\r\n",
    "\r\n",
    "model= keras.Sequential([\r\n",
    "    keras.layers.Dense(2),\r\n",
    "    keras.layers.Dense(1)\r\n",
    "])\r\n",
    "\r\n",
    "model.compile(optimizer=\"SGD\", loss=\"mse\")\r\n",
    "\r\n",
    "model.fit(x_valss, y_valss, batch_size, epochs=50, validation_split=0.25)"
   ]
  },
  {
   "cell_type": "code",
   "execution_count": 93,
   "metadata": {},
   "outputs": [
    {
     "data": {
      "text/plain": [
       "0.6591560048840688"
      ]
     },
     "execution_count": 93,
     "metadata": {},
     "output_type": "execute_result"
    }
   ],
   "source": [
    "preds= model.predict(x_valss)\r\n",
    "\r\n",
    "r2_score(y_valss, preds)"
   ]
  },
  {
   "cell_type": "code",
   "execution_count": null,
   "metadata": {},
   "outputs": [],
   "source": []
  }
 ],
 "metadata": {
  "interpreter": {
   "hash": "a07d8b953171f7309cc72dc31c4fe3a1dbcb6a8d9395b85270bed1ed2e7b0073"
  },
  "kernelspec": {
   "display_name": "Python 3.7.10 64-bit ('base': conda)",
   "name": "python3"
  },
  "language_info": {
   "codemirror_mode": {
    "name": "ipython",
    "version": 3
   },
   "file_extension": ".py",
   "mimetype": "text/x-python",
   "name": "python",
   "nbconvert_exporter": "python",
   "pygments_lexer": "ipython3",
   "version": "3.7.10"
  },
  "orig_nbformat": 4
 },
 "nbformat": 4,
 "nbformat_minor": 2
}