{
 "cells": [
  {
   "cell_type": "markdown",
   "id": "e50c6854-1c88-40c5-81b2-bdefcf4a3f68",
   "metadata": {},
   "source": [
    "# FOOD 101 - CNN Classification - TF\n",
    "\n",
    "- [FOOD 101 Dataset](https://www.kaggle.com/dansbecker/food-101#)\n",
    "\n",
    "## Process\n",
    "\n",
    "- Preprocessing\n",
    "- Batching\n",
    "- setting up mixed-precision training\n",
    "- Feature extraction and fine-tuning model = Transfer Learning\n",
    "- Viewing results on Tensorboard\n",
    "\n",
    "## Things to study\n",
    "\n",
    "- Mixed Precision training\n",
    "- USING GPU with TF\n",
    "- Pre-fething"
   ]
  },
  {
   "cell_type": "code",
   "execution_count": 1,
   "id": "afdafd87-142a-4692-b14d-2b7f6a2f7cfc",
   "metadata": {},
   "outputs": [
    {
     "data": {
      "text/plain": [
       "'2.4.1'"
      ]
     },
     "execution_count": 1,
     "metadata": {},
     "output_type": "execute_result"
    }
   ],
   "source": [
    "import tensorflow as tf\n",
    "tf.__version__"
   ]
  },
  {
   "cell_type": "code",
   "execution_count": 2,
   "id": "6ef75126-1d33-4fd5-ae07-4c3768d31837",
   "metadata": {},
   "outputs": [
    {
     "name": "stdout",
     "output_type": "stream",
     "text": [
      "[PhysicalDevice(name='/physical_device:GPU:0', device_type='GPU')]\n",
      "WARNING:tensorflow:From <ipython-input-2-5bba0ad76af3>:6: is_gpu_available (from tensorflow.python.framework.test_util) is deprecated and will be removed in a future version.\n",
      "Instructions for updating:\n",
      "Use `tf.config.list_physical_devices('GPU')` instead.\n",
      "True\n"
     ]
    }
   ],
   "source": [
    "# Checking the Local GPU connection with TF\n",
    "# https://www.tensorflow.org/guide/gpu\n",
    "# https://stackoverflow.com/a/38019608/12210002\n",
    "\n",
    "print(tf.config.list_physical_devices('GPU'))\n",
    "print(tf.test.is_gpu_available(cuda_only=False, min_cuda_compute_capability=None))"
   ]
  },
  {
   "cell_type": "markdown",
   "id": "017e9579-8f0d-47d6-a109-ee3d1927add7",
   "metadata": {},
   "source": [
    "## Importing Tensorflow dataset and loading our data"
   ]
  },
  {
   "cell_type": "code",
   "execution_count": 3,
   "id": "19b13733-24da-4a02-9749-9789da21fd47",
   "metadata": {},
   "outputs": [],
   "source": [
    "import tensorflow_datasets as tfds"
   ]
  },
  {
   "cell_type": "code",
   "execution_count": null,
   "id": "e0b5ccaa-84cc-4df6-a23f-914f250a1258",
   "metadata": {},
   "outputs": [
    {
     "name": "stdout",
     "output_type": "stream",
     "text": [
      "\u001b[1mDownloading and preparing dataset Unknown size (download: Unknown size, generated: Unknown size, total: Unknown size) to ./tf-data\\food101\\2.0.0...\u001b[0m\n"
     ]
    },
    {
     "data": {
      "application/vnd.jupyter.widget-view+json": {
       "model_id": "515b850cf1ae4b2fb75c6b03e7e39c70",
       "version_major": 2,
       "version_minor": 0
      },
      "text/plain": [
       "Dl Completed...: 0 url [00:00, ? url/s]"
      ]
     },
     "metadata": {},
     "output_type": "display_data"
    },
    {
     "data": {
      "application/vnd.jupyter.widget-view+json": {
       "model_id": "64ac12ce29cc4529961b1d6ef040d76d",
       "version_major": 2,
       "version_minor": 0
      },
      "text/plain": [
       "Dl Size...: 0 MiB [00:00, ? MiB/s]"
      ]
     },
     "metadata": {},
     "output_type": "display_data"
    },
    {
     "data": {
      "application/vnd.jupyter.widget-view+json": {
       "model_id": "b558a5f8050945149fbdd306bf85c4f6",
       "version_major": 2,
       "version_minor": 0
      },
      "text/plain": [
       "Extraction completed...: 0 file [00:00, ? file/s]"
      ]
     },
     "metadata": {},
     "output_type": "display_data"
    }
   ],
   "source": [
    "# https://www.tensorflow.org/datasets/api_docs/python/tfds/load\n",
    "(train_data, test_data), ds_info= tfds.load(\"food101\", \n",
    "                split=[\"train\", \"test\"], \n",
    "                shuffle_files=True, \n",
    "                data_dir=\"./tf-data\",\n",
    "                as_supervised=True,\n",
    "                with_info=True)\n",
    "train_data"
   ]
  },
  {
   "cell_type": "code",
   "execution_count": null,
   "id": "5e75adbf-1b9d-46b9-805d-968386f817ed",
   "metadata": {},
   "outputs": [],
   "source": []
  }
 ],
 "metadata": {
  "kernelspec": {
   "display_name": "Python 3",
   "language": "python",
   "name": "python3"
  },
  "language_info": {
   "codemirror_mode": {
    "name": "ipython",
    "version": 3
   },
   "file_extension": ".py",
   "mimetype": "text/x-python",
   "name": "python",
   "nbconvert_exporter": "python",
   "pygments_lexer": "ipython3",
   "version": "3.8.0"
  }
 },
 "nbformat": 4,
 "nbformat_minor": 5
}
