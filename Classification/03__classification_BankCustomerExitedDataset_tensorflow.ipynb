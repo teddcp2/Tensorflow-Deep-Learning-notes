{
 "cells": [
  {
   "cell_type": "markdown",
   "metadata": {},
   "source": [
    "# Classification with Bank customer exited or not dataset -tensorflow\r\n"
   ]
  },
  {
   "cell_type": "code",
   "execution_count": 54,
   "metadata": {},
   "outputs": [],
   "source": [
    "import numpy as np \r\n",
    "import pandas as pd \r\n",
    "import matplotlib.pyplot as plt \r\n",
    "import seaborn as sns \r\n",
    "import tensorflow as tf \r\n",
    "from tensorflow import keras "
   ]
  },
  {
   "cell_type": "code",
   "execution_count": 55,
   "metadata": {},
   "outputs": [
    {
     "data": {
      "text/html": [
       "<div>\n",
       "<style scoped>\n",
       "    .dataframe tbody tr th:only-of-type {\n",
       "        vertical-align: middle;\n",
       "    }\n",
       "\n",
       "    .dataframe tbody tr th {\n",
       "        vertical-align: top;\n",
       "    }\n",
       "\n",
       "    .dataframe thead th {\n",
       "        text-align: right;\n",
       "    }\n",
       "</style>\n",
       "<table border=\"1\" class=\"dataframe\">\n",
       "  <thead>\n",
       "    <tr style=\"text-align: right;\">\n",
       "      <th></th>\n",
       "      <th>RowNumber</th>\n",
       "      <th>CustomerId</th>\n",
       "      <th>Surname</th>\n",
       "      <th>CreditScore</th>\n",
       "      <th>Geography</th>\n",
       "      <th>Gender</th>\n",
       "      <th>Age</th>\n",
       "      <th>Tenure</th>\n",
       "      <th>Balance</th>\n",
       "      <th>NumOfProducts</th>\n",
       "      <th>HasCrCard</th>\n",
       "      <th>IsActiveMember</th>\n",
       "      <th>EstimatedSalary</th>\n",
       "      <th>Exited</th>\n",
       "    </tr>\n",
       "  </thead>\n",
       "  <tbody>\n",
       "    <tr>\n",
       "      <th>0</th>\n",
       "      <td>1</td>\n",
       "      <td>15634602</td>\n",
       "      <td>Hargrave</td>\n",
       "      <td>619</td>\n",
       "      <td>France</td>\n",
       "      <td>Female</td>\n",
       "      <td>42</td>\n",
       "      <td>2</td>\n",
       "      <td>0.00</td>\n",
       "      <td>1</td>\n",
       "      <td>1</td>\n",
       "      <td>1</td>\n",
       "      <td>101348.88</td>\n",
       "      <td>1</td>\n",
       "    </tr>\n",
       "    <tr>\n",
       "      <th>1</th>\n",
       "      <td>2</td>\n",
       "      <td>15647311</td>\n",
       "      <td>Hill</td>\n",
       "      <td>608</td>\n",
       "      <td>Spain</td>\n",
       "      <td>Female</td>\n",
       "      <td>41</td>\n",
       "      <td>1</td>\n",
       "      <td>83807.86</td>\n",
       "      <td>1</td>\n",
       "      <td>0</td>\n",
       "      <td>1</td>\n",
       "      <td>112542.58</td>\n",
       "      <td>0</td>\n",
       "    </tr>\n",
       "    <tr>\n",
       "      <th>2</th>\n",
       "      <td>3</td>\n",
       "      <td>15619304</td>\n",
       "      <td>Onio</td>\n",
       "      <td>502</td>\n",
       "      <td>France</td>\n",
       "      <td>Female</td>\n",
       "      <td>42</td>\n",
       "      <td>8</td>\n",
       "      <td>159660.80</td>\n",
       "      <td>3</td>\n",
       "      <td>1</td>\n",
       "      <td>0</td>\n",
       "      <td>113931.57</td>\n",
       "      <td>1</td>\n",
       "    </tr>\n",
       "    <tr>\n",
       "      <th>3</th>\n",
       "      <td>4</td>\n",
       "      <td>15701354</td>\n",
       "      <td>Boni</td>\n",
       "      <td>699</td>\n",
       "      <td>France</td>\n",
       "      <td>Female</td>\n",
       "      <td>39</td>\n",
       "      <td>1</td>\n",
       "      <td>0.00</td>\n",
       "      <td>2</td>\n",
       "      <td>0</td>\n",
       "      <td>0</td>\n",
       "      <td>93826.63</td>\n",
       "      <td>0</td>\n",
       "    </tr>\n",
       "    <tr>\n",
       "      <th>4</th>\n",
       "      <td>5</td>\n",
       "      <td>15737888</td>\n",
       "      <td>Mitchell</td>\n",
       "      <td>850</td>\n",
       "      <td>Spain</td>\n",
       "      <td>Female</td>\n",
       "      <td>43</td>\n",
       "      <td>2</td>\n",
       "      <td>125510.82</td>\n",
       "      <td>1</td>\n",
       "      <td>1</td>\n",
       "      <td>1</td>\n",
       "      <td>79084.10</td>\n",
       "      <td>0</td>\n",
       "    </tr>\n",
       "  </tbody>\n",
       "</table>\n",
       "</div>"
      ],
      "text/plain": [
       "   RowNumber  CustomerId   Surname  CreditScore Geography  Gender  Age  \\\n",
       "0          1    15634602  Hargrave          619    France  Female   42   \n",
       "1          2    15647311      Hill          608     Spain  Female   41   \n",
       "2          3    15619304      Onio          502    France  Female   42   \n",
       "3          4    15701354      Boni          699    France  Female   39   \n",
       "4          5    15737888  Mitchell          850     Spain  Female   43   \n",
       "\n",
       "   Tenure    Balance  NumOfProducts  HasCrCard  IsActiveMember  \\\n",
       "0       2       0.00              1          1               1   \n",
       "1       1   83807.86              1          0               1   \n",
       "2       8  159660.80              3          1               0   \n",
       "3       1       0.00              2          0               0   \n",
       "4       2  125510.82              1          1               1   \n",
       "\n",
       "   EstimatedSalary  Exited  \n",
       "0        101348.88       1  \n",
       "1        112542.58       0  \n",
       "2        113931.57       1  \n",
       "3         93826.63       0  \n",
       "4         79084.10       0  "
      ]
     },
     "execution_count": 55,
     "metadata": {},
     "output_type": "execute_result"
    }
   ],
   "source": [
    "data= pd.read_csv('../DATA/Churn_Modelling.csv')\r\n",
    "data.head()"
   ]
  },
  {
   "cell_type": "code",
   "execution_count": 56,
   "metadata": {},
   "outputs": [
    {
     "data": {
      "text/html": [
       "<div>\n",
       "<style scoped>\n",
       "    .dataframe tbody tr th:only-of-type {\n",
       "        vertical-align: middle;\n",
       "    }\n",
       "\n",
       "    .dataframe tbody tr th {\n",
       "        vertical-align: top;\n",
       "    }\n",
       "\n",
       "    .dataframe thead th {\n",
       "        text-align: right;\n",
       "    }\n",
       "</style>\n",
       "<table border=\"1\" class=\"dataframe\">\n",
       "  <thead>\n",
       "    <tr style=\"text-align: right;\">\n",
       "      <th></th>\n",
       "      <th>CreditScore</th>\n",
       "      <th>Geography</th>\n",
       "      <th>Gender</th>\n",
       "      <th>Age</th>\n",
       "      <th>Tenure</th>\n",
       "      <th>Balance</th>\n",
       "      <th>NumOfProducts</th>\n",
       "      <th>HasCrCard</th>\n",
       "      <th>IsActiveMember</th>\n",
       "      <th>EstimatedSalary</th>\n",
       "      <th>Exited</th>\n",
       "    </tr>\n",
       "  </thead>\n",
       "  <tbody>\n",
       "    <tr>\n",
       "      <th>0</th>\n",
       "      <td>619</td>\n",
       "      <td>France</td>\n",
       "      <td>Female</td>\n",
       "      <td>42</td>\n",
       "      <td>2</td>\n",
       "      <td>0.00</td>\n",
       "      <td>1</td>\n",
       "      <td>1</td>\n",
       "      <td>1</td>\n",
       "      <td>101348.88</td>\n",
       "      <td>1</td>\n",
       "    </tr>\n",
       "    <tr>\n",
       "      <th>1</th>\n",
       "      <td>608</td>\n",
       "      <td>Spain</td>\n",
       "      <td>Female</td>\n",
       "      <td>41</td>\n",
       "      <td>1</td>\n",
       "      <td>83807.86</td>\n",
       "      <td>1</td>\n",
       "      <td>0</td>\n",
       "      <td>1</td>\n",
       "      <td>112542.58</td>\n",
       "      <td>0</td>\n",
       "    </tr>\n",
       "    <tr>\n",
       "      <th>2</th>\n",
       "      <td>502</td>\n",
       "      <td>France</td>\n",
       "      <td>Female</td>\n",
       "      <td>42</td>\n",
       "      <td>8</td>\n",
       "      <td>159660.80</td>\n",
       "      <td>3</td>\n",
       "      <td>1</td>\n",
       "      <td>0</td>\n",
       "      <td>113931.57</td>\n",
       "      <td>1</td>\n",
       "    </tr>\n",
       "    <tr>\n",
       "      <th>3</th>\n",
       "      <td>699</td>\n",
       "      <td>France</td>\n",
       "      <td>Female</td>\n",
       "      <td>39</td>\n",
       "      <td>1</td>\n",
       "      <td>0.00</td>\n",
       "      <td>2</td>\n",
       "      <td>0</td>\n",
       "      <td>0</td>\n",
       "      <td>93826.63</td>\n",
       "      <td>0</td>\n",
       "    </tr>\n",
       "    <tr>\n",
       "      <th>4</th>\n",
       "      <td>850</td>\n",
       "      <td>Spain</td>\n",
       "      <td>Female</td>\n",
       "      <td>43</td>\n",
       "      <td>2</td>\n",
       "      <td>125510.82</td>\n",
       "      <td>1</td>\n",
       "      <td>1</td>\n",
       "      <td>1</td>\n",
       "      <td>79084.10</td>\n",
       "      <td>0</td>\n",
       "    </tr>\n",
       "  </tbody>\n",
       "</table>\n",
       "</div>"
      ],
      "text/plain": [
       "   CreditScore Geography  Gender  Age  Tenure    Balance  NumOfProducts  \\\n",
       "0          619    France  Female   42       2       0.00              1   \n",
       "1          608     Spain  Female   41       1   83807.86              1   \n",
       "2          502    France  Female   42       8  159660.80              3   \n",
       "3          699    France  Female   39       1       0.00              2   \n",
       "4          850     Spain  Female   43       2  125510.82              1   \n",
       "\n",
       "   HasCrCard  IsActiveMember  EstimatedSalary  Exited  \n",
       "0          1               1        101348.88       1  \n",
       "1          0               1        112542.58       0  \n",
       "2          1               0        113931.57       1  \n",
       "3          0               0         93826.63       0  \n",
       "4          1               1         79084.10       0  "
      ]
     },
     "execution_count": 56,
     "metadata": {},
     "output_type": "execute_result"
    }
   ],
   "source": [
    "sub_data= data.iloc[:, 3:].copy()\r\n",
    "sub_data.head()"
   ]
  },
  {
   "cell_type": "code",
   "execution_count": 57,
   "metadata": {},
   "outputs": [
    {
     "name": "stdout",
     "output_type": "stream",
     "text": [
      "<class 'pandas.core.frame.DataFrame'>\n",
      "RangeIndex: 10000 entries, 0 to 9999\n",
      "Data columns (total 11 columns):\n",
      " #   Column           Non-Null Count  Dtype  \n",
      "---  ------           --------------  -----  \n",
      " 0   CreditScore      10000 non-null  int64  \n",
      " 1   Geography        10000 non-null  object \n",
      " 2   Gender           10000 non-null  object \n",
      " 3   Age              10000 non-null  int64  \n",
      " 4   Tenure           10000 non-null  int64  \n",
      " 5   Balance          10000 non-null  float64\n",
      " 6   NumOfProducts    10000 non-null  int64  \n",
      " 7   HasCrCard        10000 non-null  int64  \n",
      " 8   IsActiveMember   10000 non-null  int64  \n",
      " 9   EstimatedSalary  10000 non-null  float64\n",
      " 10  Exited           10000 non-null  int64  \n",
      "dtypes: float64(2), int64(7), object(2)\n",
      "memory usage: 859.5+ KB\n"
     ]
    }
   ],
   "source": [
    "sub_data.info()"
   ]
  },
  {
   "cell_type": "code",
   "execution_count": 58,
   "metadata": {},
   "outputs": [
    {
     "data": {
      "text/html": [
       "<div>\n",
       "<style scoped>\n",
       "    .dataframe tbody tr th:only-of-type {\n",
       "        vertical-align: middle;\n",
       "    }\n",
       "\n",
       "    .dataframe tbody tr th {\n",
       "        vertical-align: top;\n",
       "    }\n",
       "\n",
       "    .dataframe thead th {\n",
       "        text-align: right;\n",
       "    }\n",
       "</style>\n",
       "<table border=\"1\" class=\"dataframe\">\n",
       "  <thead>\n",
       "    <tr style=\"text-align: right;\">\n",
       "      <th></th>\n",
       "      <th>CreditScore</th>\n",
       "      <th>Age</th>\n",
       "      <th>Tenure</th>\n",
       "      <th>Balance</th>\n",
       "      <th>NumOfProducts</th>\n",
       "      <th>HasCrCard</th>\n",
       "      <th>IsActiveMember</th>\n",
       "      <th>EstimatedSalary</th>\n",
       "      <th>Exited</th>\n",
       "    </tr>\n",
       "  </thead>\n",
       "  <tbody>\n",
       "    <tr>\n",
       "      <th>count</th>\n",
       "      <td>10000.000000</td>\n",
       "      <td>10000.000000</td>\n",
       "      <td>10000.000000</td>\n",
       "      <td>10000.000000</td>\n",
       "      <td>10000.000000</td>\n",
       "      <td>10000.00000</td>\n",
       "      <td>10000.000000</td>\n",
       "      <td>10000.000000</td>\n",
       "      <td>10000.000000</td>\n",
       "    </tr>\n",
       "    <tr>\n",
       "      <th>mean</th>\n",
       "      <td>650.528800</td>\n",
       "      <td>38.921800</td>\n",
       "      <td>5.012800</td>\n",
       "      <td>76485.889288</td>\n",
       "      <td>1.530200</td>\n",
       "      <td>0.70550</td>\n",
       "      <td>0.515100</td>\n",
       "      <td>100090.239881</td>\n",
       "      <td>0.203700</td>\n",
       "    </tr>\n",
       "    <tr>\n",
       "      <th>std</th>\n",
       "      <td>96.653299</td>\n",
       "      <td>10.487806</td>\n",
       "      <td>2.892174</td>\n",
       "      <td>62397.405202</td>\n",
       "      <td>0.581654</td>\n",
       "      <td>0.45584</td>\n",
       "      <td>0.499797</td>\n",
       "      <td>57510.492818</td>\n",
       "      <td>0.402769</td>\n",
       "    </tr>\n",
       "    <tr>\n",
       "      <th>min</th>\n",
       "      <td>350.000000</td>\n",
       "      <td>18.000000</td>\n",
       "      <td>0.000000</td>\n",
       "      <td>0.000000</td>\n",
       "      <td>1.000000</td>\n",
       "      <td>0.00000</td>\n",
       "      <td>0.000000</td>\n",
       "      <td>11.580000</td>\n",
       "      <td>0.000000</td>\n",
       "    </tr>\n",
       "    <tr>\n",
       "      <th>25%</th>\n",
       "      <td>584.000000</td>\n",
       "      <td>32.000000</td>\n",
       "      <td>3.000000</td>\n",
       "      <td>0.000000</td>\n",
       "      <td>1.000000</td>\n",
       "      <td>0.00000</td>\n",
       "      <td>0.000000</td>\n",
       "      <td>51002.110000</td>\n",
       "      <td>0.000000</td>\n",
       "    </tr>\n",
       "    <tr>\n",
       "      <th>50%</th>\n",
       "      <td>652.000000</td>\n",
       "      <td>37.000000</td>\n",
       "      <td>5.000000</td>\n",
       "      <td>97198.540000</td>\n",
       "      <td>1.000000</td>\n",
       "      <td>1.00000</td>\n",
       "      <td>1.000000</td>\n",
       "      <td>100193.915000</td>\n",
       "      <td>0.000000</td>\n",
       "    </tr>\n",
       "    <tr>\n",
       "      <th>75%</th>\n",
       "      <td>718.000000</td>\n",
       "      <td>44.000000</td>\n",
       "      <td>7.000000</td>\n",
       "      <td>127644.240000</td>\n",
       "      <td>2.000000</td>\n",
       "      <td>1.00000</td>\n",
       "      <td>1.000000</td>\n",
       "      <td>149388.247500</td>\n",
       "      <td>0.000000</td>\n",
       "    </tr>\n",
       "    <tr>\n",
       "      <th>max</th>\n",
       "      <td>850.000000</td>\n",
       "      <td>92.000000</td>\n",
       "      <td>10.000000</td>\n",
       "      <td>250898.090000</td>\n",
       "      <td>4.000000</td>\n",
       "      <td>1.00000</td>\n",
       "      <td>1.000000</td>\n",
       "      <td>199992.480000</td>\n",
       "      <td>1.000000</td>\n",
       "    </tr>\n",
       "  </tbody>\n",
       "</table>\n",
       "</div>"
      ],
      "text/plain": [
       "        CreditScore           Age        Tenure        Balance  NumOfProducts  \\\n",
       "count  10000.000000  10000.000000  10000.000000   10000.000000   10000.000000   \n",
       "mean     650.528800     38.921800      5.012800   76485.889288       1.530200   \n",
       "std       96.653299     10.487806      2.892174   62397.405202       0.581654   \n",
       "min      350.000000     18.000000      0.000000       0.000000       1.000000   \n",
       "25%      584.000000     32.000000      3.000000       0.000000       1.000000   \n",
       "50%      652.000000     37.000000      5.000000   97198.540000       1.000000   \n",
       "75%      718.000000     44.000000      7.000000  127644.240000       2.000000   \n",
       "max      850.000000     92.000000     10.000000  250898.090000       4.000000   \n",
       "\n",
       "         HasCrCard  IsActiveMember  EstimatedSalary        Exited  \n",
       "count  10000.00000    10000.000000     10000.000000  10000.000000  \n",
       "mean       0.70550        0.515100    100090.239881      0.203700  \n",
       "std        0.45584        0.499797     57510.492818      0.402769  \n",
       "min        0.00000        0.000000        11.580000      0.000000  \n",
       "25%        0.00000        0.000000     51002.110000      0.000000  \n",
       "50%        1.00000        1.000000    100193.915000      0.000000  \n",
       "75%        1.00000        1.000000    149388.247500      0.000000  \n",
       "max        1.00000        1.000000    199992.480000      1.000000  "
      ]
     },
     "execution_count": 58,
     "metadata": {},
     "output_type": "execute_result"
    }
   ],
   "source": [
    "sub_data.describe()"
   ]
  },
  {
   "cell_type": "code",
   "execution_count": 59,
   "metadata": {},
   "outputs": [
    {
     "data": {
      "text/plain": [
       "((10000, 10), (10000,))"
      ]
     },
     "execution_count": 59,
     "metadata": {},
     "output_type": "execute_result"
    }
   ],
   "source": [
    "x= sub_data.iloc[:,:-1]\r\n",
    "y= data[\"Exited\"]\r\n",
    "x.shape, y.shape"
   ]
  },
  {
   "cell_type": "code",
   "execution_count": 60,
   "metadata": {},
   "outputs": [],
   "source": [
    "from sklearn.model_selection import train_test_split\r\n",
    "\r\n",
    "x_train, x_test, y_train,y_test= train_test_split(x,y,random_state=42, test_size=0.3)\r\n"
   ]
  },
  {
   "cell_type": "code",
   "execution_count": 61,
   "metadata": {},
   "outputs": [
    {
     "data": {
      "text/plain": [
       "(Index(['CreditScore', 'Age', 'Tenure', 'Balance', 'NumOfProducts', 'HasCrCard',\n",
       "        'IsActiveMember', 'EstimatedSalary'],\n",
       "       dtype='object'),\n",
       " Index(['Geography', 'Gender'], dtype='object'))"
      ]
     },
     "execution_count": 61,
     "metadata": {},
     "output_type": "execute_result"
    }
   ],
   "source": [
    "cat_cols= sub_data.select_dtypes(include=[\"O\"]).columns\r\n",
    "num_cols= sub_data.select_dtypes(include=[\"number\"],).drop(labels=\"Exited\", axis=1).columns\r\n",
    "num_cols, cat_cols"
   ]
  },
  {
   "cell_type": "markdown",
   "metadata": {},
   "source": [
    "## pipeline example with ColumnTransformer\r\n",
    "- [Pipeline example 1](https://scikit-learn.org/stable/auto_examples/compose/plot_column_transformer_mixed_types.html)\r\n",
    "- [pipeline example 2](http://onnx.ai/sklearn-onnx/auto_examples/plot_complex_pipeline.html)\r\n",
    "- [pipeline with gridSearch](https://jorisvandenbossche.github.io/blog/2018/05/28/scikit-learn-columntransformer/)\r\n"
   ]
  },
  {
   "cell_type": "code",
   "execution_count": 62,
   "metadata": {},
   "outputs": [],
   "source": [
    "from sklearn.pipeline import make_pipeline\r\n",
    "from sklearn.compose import ColumnTransformer\r\n",
    "from sklearn.preprocessing import OneHotEncoder,Normalizer, MinMaxScaler\r\n",
    "\r\n",
    "cat_transformer= OneHotEncoder(drop=\"first\")\r\n",
    "num_transformer= MinMaxScaler() #Normalizer(norm=\"l2\")\r\n",
    "\r\n",
    "preprocessor= ColumnTransformer(transformers=[(\"cat\",cat_transformer, cat_cols), (\"num\", num_transformer, num_cols)], \r\n",
    "                                remainder=\"passthrough\"\r\n",
    "                               )\r\n",
    "\r\n",
    "pipeline= make_pipeline(preprocessor,)\r\n",
    "\r\n",
    "x_train= pipeline.fit_transform(x_train)\r\n",
    "x_test= pipeline.transform(x_test)\r\n"
   ]
  },
  {
   "cell_type": "code",
   "execution_count": 63,
   "metadata": {},
   "outputs": [
    {
     "data": {
      "text/plain": [
       "((7000, 11), (7000,))"
      ]
     },
     "execution_count": 63,
     "metadata": {},
     "output_type": "execute_result"
    }
   ],
   "source": [
    "x_train.shape,y_train.shape"
   ]
  },
  {
   "cell_type": "code",
   "execution_count": 64,
   "metadata": {},
   "outputs": [
    {
     "name": "stdout",
     "output_type": "stream",
     "text": [
      "Epoch 1/100\n",
      "165/165 [==============================] - 0s 3ms/step - loss: 0.5076 - accuracy: 0.7910 - val_loss: 0.4907 - val_accuracy: 0.7966\n",
      "Epoch 2/100\n",
      "165/165 [==============================] - 0s 1ms/step - loss: 0.4990 - accuracy: 0.7910 - val_loss: 0.4845 - val_accuracy: 0.7966\n",
      "Epoch 3/100\n",
      "165/165 [==============================] - 0s 1ms/step - loss: 0.4933 - accuracy: 0.7910 - val_loss: 0.4786 - val_accuracy: 0.7966\n",
      "Epoch 4/100\n",
      "165/165 [==============================] - 0s 1ms/step - loss: 0.4881 - accuracy: 0.7910 - val_loss: 0.4732 - val_accuracy: 0.7966\n",
      "Epoch 5/100\n",
      "165/165 [==============================] - 0s 1ms/step - loss: 0.4833 - accuracy: 0.7910 - val_loss: 0.4690 - val_accuracy: 0.7966\n",
      "Epoch 6/100\n",
      "165/165 [==============================] - 0s 1ms/step - loss: 0.4792 - accuracy: 0.7910 - val_loss: 0.4640 - val_accuracy: 0.7966\n",
      "Epoch 7/100\n",
      "165/165 [==============================] - 0s 2ms/step - loss: 0.4742 - accuracy: 0.7910 - val_loss: 0.4579 - val_accuracy: 0.7966\n",
      "Epoch 8/100\n",
      "165/165 [==============================] - 0s 2ms/step - loss: 0.4691 - accuracy: 0.7910 - val_loss: 0.4528 - val_accuracy: 0.7966\n",
      "Epoch 9/100\n",
      "165/165 [==============================] - 0s 2ms/step - loss: 0.4648 - accuracy: 0.7910 - val_loss: 0.4486 - val_accuracy: 0.7966\n",
      "Epoch 10/100\n",
      "165/165 [==============================] - 0s 2ms/step - loss: 0.4613 - accuracy: 0.7910 - val_loss: 0.4456 - val_accuracy: 0.7966\n",
      "Epoch 11/100\n",
      "165/165 [==============================] - 0s 2ms/step - loss: 0.4586 - accuracy: 0.7910 - val_loss: 0.4441 - val_accuracy: 0.7966\n",
      "Epoch 12/100\n",
      "165/165 [==============================] - 0s 2ms/step - loss: 0.4559 - accuracy: 0.7910 - val_loss: 0.4401 - val_accuracy: 0.7966\n",
      "Epoch 13/100\n",
      "165/165 [==============================] - 0s 2ms/step - loss: 0.4535 - accuracy: 0.7910 - val_loss: 0.4379 - val_accuracy: 0.7966\n",
      "Epoch 14/100\n",
      "165/165 [==============================] - 0s 2ms/step - loss: 0.4516 - accuracy: 0.7910 - val_loss: 0.4366 - val_accuracy: 0.7966\n",
      "Epoch 15/100\n",
      "165/165 [==============================] - 0s 2ms/step - loss: 0.4495 - accuracy: 0.7910 - val_loss: 0.4339 - val_accuracy: 0.7966\n",
      "Epoch 16/100\n",
      "165/165 [==============================] - 0s 1ms/step - loss: 0.4483 - accuracy: 0.7910 - val_loss: 0.4324 - val_accuracy: 0.7966\n",
      "Epoch 17/100\n",
      "165/165 [==============================] - 0s 1ms/step - loss: 0.4466 - accuracy: 0.7910 - val_loss: 0.4309 - val_accuracy: 0.7966\n",
      "Epoch 18/100\n",
      "165/165 [==============================] - 0s 1ms/step - loss: 0.4451 - accuracy: 0.7910 - val_loss: 0.4300 - val_accuracy: 0.7966\n",
      "Epoch 19/100\n",
      "165/165 [==============================] - 0s 1ms/step - loss: 0.4441 - accuracy: 0.7910 - val_loss: 0.4288 - val_accuracy: 0.7966\n",
      "Epoch 20/100\n",
      "165/165 [==============================] - 0s 1ms/step - loss: 0.4427 - accuracy: 0.7910 - val_loss: 0.4284 - val_accuracy: 0.7966\n",
      "Epoch 21/100\n",
      "165/165 [==============================] - 0s 1ms/step - loss: 0.4420 - accuracy: 0.7910 - val_loss: 0.4274 - val_accuracy: 0.7966\n"
     ]
    }
   ],
   "source": [
    "# Initializing the ANN\r\n",
    "ann = tf.keras.models.Sequential()\r\n",
    "\r\n",
    "# Adding the input layer and the first hidden layer\r\n",
    "ann.add(tf.keras.layers.Dense(units=6, activation='relu', input_shape=(11,)))\r\n",
    "\r\n",
    "# Adding the second hidden layer\r\n",
    "ann.add(tf.keras.layers.Dense(units=3, activation='relu'))\r\n",
    "\r\n",
    "# Adding the output layer\r\n",
    "ann.add(tf.keras.layers.Dense(units=1, activation='sigmoid'))\r\n",
    "\r\n",
    "# Compiling the ANN\r\n",
    "ann.compile(optimizer = 'adam', loss = 'binary_crossentropy', metrics = ['accuracy'])\r\n",
    "\r\n",
    "# callback\r\n",
    "callback1= tf.keras.callbacks.EarlyStopping(monitor=\"accuracy\", patience=20,mode=\"max\")\r\n",
    "\r\n",
    "# Training the ANN on the Training set\r\n",
    "hist1= ann.fit(x_train, y_train, batch_size = 32, epochs = 100, callbacks=[callback1], validation_split=0.25)\r\n"
   ]
  },
  {
   "cell_type": "code",
   "execution_count": 65,
   "metadata": {},
   "outputs": [
    {
     "data": {
      "text/plain": [
       "<AxesSubplot:>"
      ]
     },
     "execution_count": 65,
     "metadata": {},
     "output_type": "execute_result"
    },
    {
     "data": {
      "image/png": "[encoded data removed]",
      "text/plain": [
       "<Figure size 432x288 with 1 Axes>"
      ]
     },
     "metadata": {
      "needs_background": "light"
     },
     "output_type": "display_data"
    }
   ],
   "source": [
    "pd.DataFrame(hist1.history).plot()"
   ]
  },
  {
   "cell_type": "code",
   "execution_count": 66,
   "metadata": {},
   "outputs": [],
   "source": [
    "preds= ann.predict(x_test)\r\n",
    "preds= tf.squeeze(tf.cast(preds >0.5,tf.int32)).numpy()"
   ]
  },
  {
   "cell_type": "code",
   "execution_count": 67,
   "metadata": {},
   "outputs": [
    {
     "name": "stdout",
     "output_type": "stream",
     "text": [
      "94/94 [==============================] - 0s 1ms/step - loss: 0.4218 - accuracy: 0.8053\n"
     ]
    },
    {
     "data": {
      "text/plain": [
       "[0.42177197337150574, 0.8053333163261414]"
      ]
     },
     "execution_count": 67,
     "metadata": {},
     "output_type": "execute_result"
    }
   ],
   "source": [
    "ann.evaluate(x_test, y_test)"
   ]
  },
  {
   "cell_type": "code",
   "execution_count": 68,
   "metadata": {},
   "outputs": [
    {
     "data": {
      "text/plain": [
       "0.8053333333333333"
      ]
     },
     "execution_count": 68,
     "metadata": {},
     "output_type": "execute_result"
    }
   ],
   "source": [
    "from sklearn.metrics import accuracy_score, confusion_matrix\r\n",
    "\r\n",
    "accuracy_score(y_test, preds)"
   ]
  },
  {
   "cell_type": "code",
   "execution_count": 69,
   "metadata": {},
   "outputs": [
    {
     "data": {
      "text/plain": [
       "<AxesSubplot:>"
      ]
     },
     "execution_count": 69,
     "metadata": {},
     "output_type": "execute_result"
    },
    {
     "data": {
      "image/png": "[encoded data removed]",
      "text/plain": [
       "<Figure size 432x288 with 2 Axes>"
      ]
     },
     "metadata": {
      "needs_background": "light"
     },
     "output_type": "display_data"
    }
   ],
   "source": [
    "sns.heatmap(confusion_matrix(y_test, preds), annot=True, fmt=\"d\")"
   ]
  },
  {
   "cell_type": "code",
   "execution_count": 87,
   "metadata": {},
   "outputs": [
    {
     "name": "stdout",
     "output_type": "stream",
     "text": [
      "Epoch 1/200\n",
      "165/165 [==============================] - 0s 3ms/step - loss: 0.4885 - accuracy: 0.7910 - val_loss: 0.4570 - val_accuracy: 0.7966\n",
      "Epoch 2/200\n",
      "165/165 [==============================] - 0s 2ms/step - loss: 0.4575 - accuracy: 0.7954 - val_loss: 0.4229 - val_accuracy: 0.8183\n",
      "Epoch 3/200\n",
      "165/165 [==============================] - 0s 2ms/step - loss: 0.4414 - accuracy: 0.8107 - val_loss: 0.4090 - val_accuracy: 0.8389\n",
      "Epoch 4/200\n",
      "165/165 [==============================] - 0s 2ms/step - loss: 0.3929 - accuracy: 0.8371 - val_loss: 0.3851 - val_accuracy: 0.8429\n",
      "Epoch 5/200\n",
      "165/165 [==============================] - 0s 2ms/step - loss: 0.3698 - accuracy: 0.8453 - val_loss: 0.3620 - val_accuracy: 0.8480\n",
      "Epoch 6/200\n",
      "165/165 [==============================] - 0s 2ms/step - loss: 0.3626 - accuracy: 0.8486 - val_loss: 0.3762 - val_accuracy: 0.8520\n",
      "Epoch 7/200\n",
      "165/165 [==============================] - 0s 2ms/step - loss: 0.3730 - accuracy: 0.8503 - val_loss: 0.3597 - val_accuracy: 0.8503\n",
      "Epoch 8/200\n",
      "165/165 [==============================] - 0s 2ms/step - loss: 0.3638 - accuracy: 0.8503 - val_loss: 0.3561 - val_accuracy: 0.8526\n",
      "Epoch 9/200\n",
      "165/165 [==============================] - 0s 2ms/step - loss: 0.3595 - accuracy: 0.8478 - val_loss: 0.3576 - val_accuracy: 0.8537\n",
      "Epoch 10/200\n",
      "165/165 [==============================] - 0s 2ms/step - loss: 0.3571 - accuracy: 0.8507 - val_loss: 0.3537 - val_accuracy: 0.8560\n",
      "Epoch 11/200\n",
      "165/165 [==============================] - 0s 2ms/step - loss: 0.3580 - accuracy: 0.8509 - val_loss: 0.3530 - val_accuracy: 0.8543\n",
      "Epoch 12/200\n",
      "165/165 [==============================] - 0s 2ms/step - loss: 0.3533 - accuracy: 0.8530 - val_loss: 0.3603 - val_accuracy: 0.8503\n",
      "Epoch 13/200\n",
      "165/165 [==============================] - 0s 2ms/step - loss: 0.3586 - accuracy: 0.8499 - val_loss: 0.3517 - val_accuracy: 0.8583\n",
      "Epoch 14/200\n",
      "165/165 [==============================] - 0s 2ms/step - loss: 0.3547 - accuracy: 0.8531 - val_loss: 0.3597 - val_accuracy: 0.8463\n",
      "Epoch 15/200\n",
      "165/165 [==============================] - 0s 2ms/step - loss: 0.3535 - accuracy: 0.8512 - val_loss: 0.3616 - val_accuracy: 0.8571\n",
      "Epoch 16/200\n",
      "165/165 [==============================] - 0s 2ms/step - loss: 0.3598 - accuracy: 0.8491 - val_loss: 0.3584 - val_accuracy: 0.8577\n",
      "Epoch 17/200\n",
      "165/165 [==============================] - 0s 2ms/step - loss: 0.3555 - accuracy: 0.8539 - val_loss: 0.3472 - val_accuracy: 0.8589\n",
      "Epoch 18/200\n",
      "165/165 [==============================] - 0s 2ms/step - loss: 0.3539 - accuracy: 0.8512 - val_loss: 0.3616 - val_accuracy: 0.8560\n",
      "Epoch 19/200\n",
      "165/165 [==============================] - 0s 2ms/step - loss: 0.3493 - accuracy: 0.8543 - val_loss: 0.3516 - val_accuracy: 0.8594\n",
      "Epoch 20/200\n",
      "165/165 [==============================] - 0s 2ms/step - loss: 0.3608 - accuracy: 0.8478 - val_loss: 0.3576 - val_accuracy: 0.8526\n",
      "Epoch 21/200\n",
      "165/165 [==============================] - 0s 2ms/step - loss: 0.3515 - accuracy: 0.8550 - val_loss: 0.3530 - val_accuracy: 0.8566\n",
      "Epoch 22/200\n",
      "165/165 [==============================] - 0s 2ms/step - loss: 0.3508 - accuracy: 0.8505 - val_loss: 0.3480 - val_accuracy: 0.8600\n",
      "Epoch 23/200\n",
      "165/165 [==============================] - 0s 1ms/step - loss: 0.3507 - accuracy: 0.8554 - val_loss: 0.3468 - val_accuracy: 0.8606\n",
      "Epoch 24/200\n",
      "165/165 [==============================] - 0s 1ms/step - loss: 0.3482 - accuracy: 0.8554 - val_loss: 0.3481 - val_accuracy: 0.8571\n",
      "Epoch 25/200\n",
      "165/165 [==============================] - 0s 1ms/step - loss: 0.3548 - accuracy: 0.8552 - val_loss: 0.3653 - val_accuracy: 0.8509\n",
      "Epoch 26/200\n",
      "165/165 [==============================] - 0s 1ms/step - loss: 0.3520 - accuracy: 0.8522 - val_loss: 0.3530 - val_accuracy: 0.8566\n",
      "Epoch 27/200\n",
      "165/165 [==============================] - 0s 1ms/step - loss: 0.3501 - accuracy: 0.8541 - val_loss: 0.3642 - val_accuracy: 0.8480\n",
      "Epoch 28/200\n",
      "165/165 [==============================] - 0s 1ms/step - loss: 0.3492 - accuracy: 0.8549 - val_loss: 0.3502 - val_accuracy: 0.8589\n",
      "Epoch 29/200\n",
      "165/165 [==============================] - 0s 1ms/step - loss: 0.3486 - accuracy: 0.8543 - val_loss: 0.3563 - val_accuracy: 0.8554\n",
      "Epoch 30/200\n",
      "165/165 [==============================] - 0s 1ms/step - loss: 0.3476 - accuracy: 0.8537 - val_loss: 0.3493 - val_accuracy: 0.8589\n",
      "Epoch 31/200\n",
      "165/165 [==============================] - 0s 1ms/step - loss: 0.3469 - accuracy: 0.8568 - val_loss: 0.3671 - val_accuracy: 0.8446\n",
      "Epoch 32/200\n",
      "165/165 [==============================] - 0s 1ms/step - loss: 0.3482 - accuracy: 0.8566 - val_loss: 0.3500 - val_accuracy: 0.8571\n",
      "Epoch 33/200\n",
      "165/165 [==============================] - 0s 1ms/step - loss: 0.3461 - accuracy: 0.8558 - val_loss: 0.3542 - val_accuracy: 0.8583\n",
      "Epoch 34/200\n",
      "165/165 [==============================] - 0s 1ms/step - loss: 0.3476 - accuracy: 0.8558 - val_loss: 0.3483 - val_accuracy: 0.8594\n",
      "Epoch 35/200\n",
      "165/165 [==============================] - 0s 1ms/step - loss: 0.3458 - accuracy: 0.8570 - val_loss: 0.3736 - val_accuracy: 0.8543\n",
      "Epoch 36/200\n",
      "165/165 [==============================] - 0s 2ms/step - loss: 0.3476 - accuracy: 0.8573 - val_loss: 0.3622 - val_accuracy: 0.8514\n",
      "Epoch 37/200\n",
      "165/165 [==============================] - 0s 2ms/step - loss: 0.3469 - accuracy: 0.8543 - val_loss: 0.3486 - val_accuracy: 0.8583\n",
      "Epoch 38/200\n",
      "165/165 [==============================] - 0s 1ms/step - loss: 0.3457 - accuracy: 0.8589 - val_loss: 0.3521 - val_accuracy: 0.8531\n",
      "Epoch 39/200\n",
      "165/165 [==============================] - 0s 1ms/step - loss: 0.3459 - accuracy: 0.8583 - val_loss: 0.3568 - val_accuracy: 0.8469\n",
      "Epoch 40/200\n",
      "165/165 [==============================] - 0s 1ms/step - loss: 0.3436 - accuracy: 0.8566 - val_loss: 0.3491 - val_accuracy: 0.8611\n",
      "Epoch 41/200\n",
      "165/165 [==============================] - 0s 1ms/step - loss: 0.3442 - accuracy: 0.8547 - val_loss: 0.3519 - val_accuracy: 0.8543\n",
      "Epoch 42/200\n",
      "165/165 [==============================] - 0s 1ms/step - loss: 0.3425 - accuracy: 0.8590 - val_loss: 0.3503 - val_accuracy: 0.8554\n",
      "Epoch 43/200\n",
      "165/165 [==============================] - 0s 1ms/step - loss: 0.3434 - accuracy: 0.8537 - val_loss: 0.3500 - val_accuracy: 0.8514\n",
      "Epoch 44/200\n",
      "165/165 [==============================] - 0s 1ms/step - loss: 0.3428 - accuracy: 0.8592 - val_loss: 0.3480 - val_accuracy: 0.8583\n",
      "Epoch 45/200\n",
      "165/165 [==============================] - 0s 1ms/step - loss: 0.3426 - accuracy: 0.8600 - val_loss: 0.3506 - val_accuracy: 0.8566\n",
      "Epoch 46/200\n",
      "165/165 [==============================] - 0s 1ms/step - loss: 0.3424 - accuracy: 0.8611 - val_loss: 0.3510 - val_accuracy: 0.8566\n",
      "Epoch 47/200\n",
      "165/165 [==============================] - 0s 2ms/step - loss: 0.3423 - accuracy: 0.8564 - val_loss: 0.3591 - val_accuracy: 0.8589\n",
      "Epoch 48/200\n",
      "165/165 [==============================] - 0s 1ms/step - loss: 0.3452 - accuracy: 0.8531 - val_loss: 0.3518 - val_accuracy: 0.8537\n",
      "Epoch 49/200\n",
      "165/165 [==============================] - 0s 1ms/step - loss: 0.3408 - accuracy: 0.8579 - val_loss: 0.3514 - val_accuracy: 0.8526\n",
      "Epoch 50/200\n",
      "165/165 [==============================] - 0s 1ms/step - loss: 0.3409 - accuracy: 0.8579 - val_loss: 0.3448 - val_accuracy: 0.8589\n",
      "Epoch 51/200\n",
      "165/165 [==============================] - 0s 1ms/step - loss: 0.3446 - accuracy: 0.8558 - val_loss: 0.3532 - val_accuracy: 0.8571\n",
      "Epoch 52/200\n",
      "165/165 [==============================] - 0s 1ms/step - loss: 0.3438 - accuracy: 0.8590 - val_loss: 0.3562 - val_accuracy: 0.8543\n",
      "Epoch 53/200\n",
      "165/165 [==============================] - 0s 2ms/step - loss: 0.3413 - accuracy: 0.8562 - val_loss: 0.3545 - val_accuracy: 0.8503\n",
      "Epoch 54/200\n",
      "165/165 [==============================] - 0s 2ms/step - loss: 0.3422 - accuracy: 0.8562 - val_loss: 0.3606 - val_accuracy: 0.8446\n",
      "Epoch 55/200\n",
      "165/165 [==============================] - 0s 2ms/step - loss: 0.3446 - accuracy: 0.8570 - val_loss: 0.3520 - val_accuracy: 0.8537\n",
      "Epoch 56/200\n",
      "165/165 [==============================] - 0s 1ms/step - loss: 0.3404 - accuracy: 0.8579 - val_loss: 0.3573 - val_accuracy: 0.8491\n",
      "Epoch 57/200\n",
      "165/165 [==============================] - 0s 1ms/step - loss: 0.3450 - accuracy: 0.8570 - val_loss: 0.3570 - val_accuracy: 0.8503\n",
      "Epoch 58/200\n",
      "165/165 [==============================] - 0s 1ms/step - loss: 0.3417 - accuracy: 0.8547 - val_loss: 0.3505 - val_accuracy: 0.8560\n",
      "Epoch 59/200\n",
      "165/165 [==============================] - 0s 1ms/step - loss: 0.3400 - accuracy: 0.8583 - val_loss: 0.3451 - val_accuracy: 0.8583\n",
      "Epoch 60/200\n",
      "165/165 [==============================] - 0s 1ms/step - loss: 0.3430 - accuracy: 0.8575 - val_loss: 0.3483 - val_accuracy: 0.8566\n",
      "Epoch 61/200\n",
      "165/165 [==============================] - 0s 1ms/step - loss: 0.3418 - accuracy: 0.8564 - val_loss: 0.3453 - val_accuracy: 0.8600\n",
      "Epoch 62/200\n",
      "165/165 [==============================] - 0s 1ms/step - loss: 0.3394 - accuracy: 0.8566 - val_loss: 0.3452 - val_accuracy: 0.8571\n",
      "Epoch 63/200\n",
      "165/165 [==============================] - 0s 1ms/step - loss: 0.3395 - accuracy: 0.8596 - val_loss: 0.3568 - val_accuracy: 0.8526\n",
      "Epoch 64/200\n",
      "165/165 [==============================] - 0s 1ms/step - loss: 0.3393 - accuracy: 0.8604 - val_loss: 0.3513 - val_accuracy: 0.8537\n",
      "Epoch 65/200\n",
      "165/165 [==============================] - 0s 1ms/step - loss: 0.3375 - accuracy: 0.8625 - val_loss: 0.3456 - val_accuracy: 0.8617\n",
      "Epoch 66/200\n",
      "165/165 [==============================] - 0s 1ms/step - loss: 0.3395 - accuracy: 0.8558 - val_loss: 0.3467 - val_accuracy: 0.8554\n",
      "Epoch 67/200\n",
      "165/165 [==============================] - 0s 2ms/step - loss: 0.3376 - accuracy: 0.8598 - val_loss: 0.3473 - val_accuracy: 0.8611\n",
      "Epoch 68/200\n",
      "165/165 [==============================] - 0s 1ms/step - loss: 0.3411 - accuracy: 0.8564 - val_loss: 0.3535 - val_accuracy: 0.8577\n",
      "Epoch 69/200\n",
      "165/165 [==============================] - 0s 1ms/step - loss: 0.3380 - accuracy: 0.8583 - val_loss: 0.3667 - val_accuracy: 0.8531\n",
      "Epoch 70/200\n",
      "165/165 [==============================] - 0s 1ms/step - loss: 0.3392 - accuracy: 0.8617 - val_loss: 0.3465 - val_accuracy: 0.8583\n",
      "Epoch 71/200\n",
      "165/165 [==============================] - 0s 1ms/step - loss: 0.3390 - accuracy: 0.8589 - val_loss: 0.3531 - val_accuracy: 0.8554\n",
      "Epoch 72/200\n",
      "165/165 [==============================] - 0s 1ms/step - loss: 0.3384 - accuracy: 0.8585 - val_loss: 0.3508 - val_accuracy: 0.8549\n",
      "Epoch 73/200\n",
      "165/165 [==============================] - 0s 1ms/step - loss: 0.3399 - accuracy: 0.8598 - val_loss: 0.3643 - val_accuracy: 0.8526\n",
      "Epoch 74/200\n",
      "165/165 [==============================] - 0s 1ms/step - loss: 0.3395 - accuracy: 0.8575 - val_loss: 0.3493 - val_accuracy: 0.8577\n",
      "Epoch 75/200\n",
      "165/165 [==============================] - 0s 2ms/step - loss: 0.3377 - accuracy: 0.8577 - val_loss: 0.3644 - val_accuracy: 0.8543\n",
      "Epoch 76/200\n",
      "165/165 [==============================] - 0s 1ms/step - loss: 0.3372 - accuracy: 0.8590 - val_loss: 0.3457 - val_accuracy: 0.8611\n",
      "Epoch 77/200\n",
      "165/165 [==============================] - 0s 1ms/step - loss: 0.3384 - accuracy: 0.8571 - val_loss: 0.3629 - val_accuracy: 0.8571\n",
      "Epoch 78/200\n",
      "165/165 [==============================] - 0s 1ms/step - loss: 0.3398 - accuracy: 0.8604 - val_loss: 0.3519 - val_accuracy: 0.8514\n",
      "Epoch 79/200\n",
      "165/165 [==============================] - 0s 1ms/step - loss: 0.3388 - accuracy: 0.8592 - val_loss: 0.3482 - val_accuracy: 0.8594\n",
      "Epoch 80/200\n",
      "165/165 [==============================] - 0s 2ms/step - loss: 0.3400 - accuracy: 0.8541 - val_loss: 0.3465 - val_accuracy: 0.8577\n",
      "Epoch 81/200\n",
      "165/165 [==============================] - 0s 2ms/step - loss: 0.3403 - accuracy: 0.8598 - val_loss: 0.3460 - val_accuracy: 0.8549\n",
      "Epoch 82/200\n",
      "165/165 [==============================] - 0s 1ms/step - loss: 0.3389 - accuracy: 0.8570 - val_loss: 0.3478 - val_accuracy: 0.8549\n",
      "Epoch 83/200\n",
      "165/165 [==============================] - 0s 1ms/step - loss: 0.3416 - accuracy: 0.8573 - val_loss: 0.3473 - val_accuracy: 0.8577\n",
      "Epoch 84/200\n",
      "165/165 [==============================] - 0s 1ms/step - loss: 0.3383 - accuracy: 0.8550 - val_loss: 0.3464 - val_accuracy: 0.8594\n",
      "Epoch 85/200\n",
      "165/165 [==============================] - 0s 1ms/step - loss: 0.3366 - accuracy: 0.8606 - val_loss: 0.3470 - val_accuracy: 0.8566\n"
     ]
    }
   ],
   "source": [
    "# Model-2\r\n",
    "\r\n",
    "tf.random.set_seed(42)\r\n",
    "\r\n",
    "# Initializing the ANN\r\n",
    "ann2 = tf.keras.models.Sequential()\r\n",
    "\r\n",
    "# Adding the input layer and the first hidden layer\r\n",
    "ann2.add(tf.keras.layers.Dense(units=6, activation='relu', input_shape=(11,)))\r\n",
    "\r\n",
    "# Adding the second hidden layer\r\n",
    "ann2.add(tf.keras.layers.Dense(units=12, activation='relu'))\r\n",
    "\r\n",
    "# Adding the third hidden layer\r\n",
    "ann2.add(tf.keras.layers.Dense(units=24, activation='relu'))\r\n",
    "\r\n",
    "# Adding the output layer\r\n",
    "ann2.add(tf.keras.layers.Dense(units=1, activation='sigmoid'))\r\n",
    "\r\n",
    "# Compiling the ANN\r\n",
    "ann2.compile(optimizer = tf.keras.optimizers.Adam(0.01), loss = 'binary_crossentropy', metrics = ['accuracy'])\r\n",
    "\r\n",
    "# callback\r\n",
    "callback2= tf.keras.callbacks.EarlyStopping(monitor=\"accuracy\", patience=20,mode=\"max\")\r\n",
    "\r\n",
    "# Training the ANN on the Training set\r\n",
    "hist2= ann2.fit(x_train, y_train, batch_size = 32, epochs = 200, callbacks=[callback1], validation_split=0.25)\r\n"
   ]
  },
  {
   "cell_type": "code",
   "execution_count": 88,
   "metadata": {},
   "outputs": [
    {
     "data": {
      "text/plain": [
       "<AxesSubplot:>"
      ]
     },
     "execution_count": 88,
     "metadata": {},
     "output_type": "execute_result"
    },
    {
     "data": {
      "image/png": "[encoded data removed]",
      "text/plain": [
       "<Figure size 432x288 with 1 Axes>"
      ]
     },
     "metadata": {
      "needs_background": "light"
     },
     "output_type": "display_data"
    }
   ],
   "source": [
    "pd.DataFrame(hist2.history).plot()"
   ]
  },
  {
   "cell_type": "code",
   "execution_count": 89,
   "metadata": {},
   "outputs": [],
   "source": [
    "preds= ann2.predict(x_test)\r\n",
    "preds= tf.squeeze(tf.cast(preds >0.5,tf.int32)).numpy()"
   ]
  },
  {
   "cell_type": "code",
   "execution_count": 90,
   "metadata": {},
   "outputs": [
    {
     "data": {
      "text/plain": [
       "0.8646666666666667"
      ]
     },
     "execution_count": 90,
     "metadata": {},
     "output_type": "execute_result"
    }
   ],
   "source": [
    "accuracy_score(y_test, preds)"
   ]
  },
  {
   "cell_type": "code",
   "execution_count": 91,
   "metadata": {},
   "outputs": [
    {
     "data": {
      "text/plain": [
       "<AxesSubplot:>"
      ]
     },
     "execution_count": 91,
     "metadata": {},
     "output_type": "execute_result"
    },
    {
     "data": {
      "image/png": "[encoded data removed]",
      "text/plain": [
       "<Figure size 432x288 with 2 Axes>"
      ]
     },
     "metadata": {
      "needs_background": "light"
     },
     "output_type": "display_data"
    }
   ],
   "source": [
    "\r\n",
    "sns.heatmap(confusion_matrix(y_test, preds), annot=True, fmt=\"d\")"
   ]
  },
  {
   "cell_type": "code",
   "execution_count": 92,
   "metadata": {},
   "outputs": [
    {
     "name": "stdout",
     "output_type": "stream",
     "text": [
      "94/94 [==============================] - 0s 1ms/step - loss: 0.3347 - accuracy: 0.8647\n"
     ]
    },
    {
     "data": {
      "text/plain": [
       "[0.33473846316337585, 0.8646666407585144]"
      ]
     },
     "execution_count": 92,
     "metadata": {},
     "output_type": "execute_result"
    }
   ],
   "source": [
    "ann2.evaluate(x_test, y_test)"
   ]
  },
  {
   "cell_type": "markdown",
   "metadata": {},
   "source": [
    "### we have achieved 86% accuracy from 80% accuracy\r\n",
    "### thanks for reading.."
   ]
  }
 ],
 "metadata": {
  "interpreter": {
   "hash": "a07d8b953171f7309cc72dc31c4fe3a1dbcb6a8d9395b85270bed1ed2e7b0073"
  },
  "kernelspec": {
   "display_name": "Python 3.7.10 64-bit ('base': conda)",
   "name": "python3"
  },
  "language_info": {
   "codemirror_mode": {
    "name": "ipython",
    "version": 3
   },
   "file_extension": ".py",
   "mimetype": "text/x-python",
   "name": "python",
   "nbconvert_exporter": "python",
   "pygments_lexer": "ipython3",
   "version": "3.7.10"
  },
  "orig_nbformat": 4
 },
 "nbformat": 4,
 "nbformat_minor": 2
}