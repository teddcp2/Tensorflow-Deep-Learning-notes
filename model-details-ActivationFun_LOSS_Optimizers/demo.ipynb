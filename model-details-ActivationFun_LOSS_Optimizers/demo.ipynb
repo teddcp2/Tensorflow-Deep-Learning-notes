{
 "cells": [
  {
   "cell_type": "code",
   "execution_count": 1,
   "source": [
    "import pandas as pd"
   ],
   "outputs": [],
   "metadata": {}
  },
  {
   "cell_type": "code",
   "execution_count": 3,
   "source": [
    "data= pd.read_csv(\"../duplicates.csv\")\r\n",
    "data= data.iloc[:,1:3].copy(deep=True)\r\n",
    "data.head()"
   ],
   "outputs": [
    {
     "output_type": "execute_result",
     "data": {
      "text/plain": [
       "     questId                                         requestIds\n",
       "0   11003790  ['VFmrUqSRyq5wTMZhtFu3V5_Q', '9DYfpjRxdoegUob5...\n",
       "1   10561171  ['RgGJFDUL3v3w4ctMG6WqEy_Q', 'ZV5wWWpgk8fNQqCu...\n",
       "2    7924535  ['bxVtWmgBQjJaYdyr9ZQiZt_M', 'oWUKo2DGG4QAoMxL...\n",
       "3  220122811  ['iCsCmpqA5XTQND6NwkkHe2_Q', 'dBTWHLwUbFC67LJt...\n",
       "4  221109474                       ['1414967_WM', '1421282_WM']"
      ],
      "text/html": [
       "<div>\n",
       "<style scoped>\n",
       "    .dataframe tbody tr th:only-of-type {\n",
       "        vertical-align: middle;\n",
       "    }\n",
       "\n",
       "    .dataframe tbody tr th {\n",
       "        vertical-align: top;\n",
       "    }\n",
       "\n",
       "    .dataframe thead th {\n",
       "        text-align: right;\n",
       "    }\n",
       "</style>\n",
       "<table border=\"1\" class=\"dataframe\">\n",
       "  <thead>\n",
       "    <tr style=\"text-align: right;\">\n",
       "      <th></th>\n",
       "      <th>questId</th>\n",
       "      <th>requestIds</th>\n",
       "    </tr>\n",
       "  </thead>\n",
       "  <tbody>\n",
       "    <tr>\n",
       "      <th>0</th>\n",
       "      <td>11003790</td>\n",
       "      <td>['VFmrUqSRyq5wTMZhtFu3V5_Q', '9DYfpjRxdoegUob5...</td>\n",
       "    </tr>\n",
       "    <tr>\n",
       "      <th>1</th>\n",
       "      <td>10561171</td>\n",
       "      <td>['RgGJFDUL3v3w4ctMG6WqEy_Q', 'ZV5wWWpgk8fNQqCu...</td>\n",
       "    </tr>\n",
       "    <tr>\n",
       "      <th>2</th>\n",
       "      <td>7924535</td>\n",
       "      <td>['bxVtWmgBQjJaYdyr9ZQiZt_M', 'oWUKo2DGG4QAoMxL...</td>\n",
       "    </tr>\n",
       "    <tr>\n",
       "      <th>3</th>\n",
       "      <td>220122811</td>\n",
       "      <td>['iCsCmpqA5XTQND6NwkkHe2_Q', 'dBTWHLwUbFC67LJt...</td>\n",
       "    </tr>\n",
       "    <tr>\n",
       "      <th>4</th>\n",
       "      <td>221109474</td>\n",
       "      <td>['1414967_WM', '1421282_WM']</td>\n",
       "    </tr>\n",
       "  </tbody>\n",
       "</table>\n",
       "</div>"
      ]
     },
     "metadata": {},
     "execution_count": 3
    }
   ],
   "metadata": {}
  },
  {
   "cell_type": "code",
   "execution_count": null,
   "source": [],
   "outputs": [],
   "metadata": {}
  }
 ],
 "metadata": {
  "orig_nbformat": 4,
  "language_info": {
   "name": "python"
  }
 },
 "nbformat": 4,
 "nbformat_minor": 2
}