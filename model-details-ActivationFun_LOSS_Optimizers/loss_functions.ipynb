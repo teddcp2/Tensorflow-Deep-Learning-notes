{
 "cells": [
  {
   "cell_type": "markdown",
   "source": [
    "# Loss/Cost Functions\r\n",
    "\r\n",
    "- [how to choose loss functions](https://machinelearningmastery.com/how-to-choose-loss-functions-when-training-deep-learning-neural-networks/)\r\n",
    "- [Loss functions](https://machinelearningmastery.com/loss-and-loss-functions-for-training-deep-learning-neural-networks/)\r\n",
    "- [COST FUNCTIONS IN CLASSIFICATION AND REGRESSION](https://machinelearningknowledge.ai/cost-functions-in-machine-learning/)\r\n",
    "- [Keras losses](https://keras.io/api/losses/)\r\n",
    "- [Loss and loss functions](https://www.machinecurve.com/index.php/2019/10/04/about-loss-and-loss-functions/)\r\n",
    "- [Tensorflow loss](https://www.analyticsvidhya.com/blog/2021/05/guide-for-loss-function-in-tensorflow/)\r\n",
    "- [explanations for keras loss functions](https://machinelearningknowledge.ai/types-of-keras-loss-functions-explained-for-beginners/)\r\n",
    "- [tensorflow loss page](https://www.tensorflow.org/api_docs/python/tf/keras/losses)\r\n",
    "- [ML cheatsheet](https://ml-cheatsheet.readthedocs.io/en/latest/loss_functions.html)\r\n",
    "- [Focal Loss](https://amaarora.github.io/2020/06/29/FocalLoss.html)\r\n",
    "- [article 1](https://www.analyticsvidhya.com/blog/2019/08/detailed-guide-7-loss-functions-machine-learning-python-code/)\r\n",
    "- [article 2](https://www.section.io/engineering-education/understanding-loss-functions-in-machine-learning/)\r\n",
    "- [article 3](https://datascience.stackexchange.com/a/9870/94070)\r\n",
    "- [article 4](https://www.analyticsvidhya.com/blog/2019/08/detailed-guide-7-loss-functions-machine-learning-python-code/)\r\n",
    "- [article 5](https://neptune.ai/blog/keras-loss-functions)\r\n",
    "\r\n",
    "\r\n",
    "\r\n",
    "## Cross Entropy\r\n",
    "\r\n",
    "- [what is croo Entropy](https://stackoverflow.com/a/41990932/12210002)\r\n",
    "- [cross entropy 1](https://datascience.stackexchange.com/a/9408/94070)\r\n",
    "- [cross entropy 2](https://stats.stackexchange.com/a/87583/279934)\r\n",
    "- [softmax with logits](https://stackoverflow.com/a/34243720/12210002)\r\n",
    "- [logit function](https://stats.stackexchange.com/a/52836/279934)\r\n",
    "- [CROSS ENTROPY LOSS ](https://datascience.stackexchange.com/a/20301/94070)\r\n",
    "- [cross entropy and kl diverence](https://rdipietro.github.io/friendly-intro-to-cross-entropy-loss/)\r\n",
    "- \r\n",
    "\r\n",
    "## HINGE LOSS \r\n",
    "\r\n",
    "- [WHAT IS HINGE LOSS](https://datascience.stackexchange.com/a/53475/94070)\r\n",
    "- [WIKIPEDIA](https://en.wikipedia.org/wiki/Hinge_loss)\r\n",
    "- $loss = maximum(1 - y_{true} * y_{pred}, 0)$\r\n",
    "- [Keras hinge loss](https://keras.io/api/losses/hinge_losses/)\r\n",
    "- [categorical hinge loss](https://www.machinecurve.com/index.php/2019/10/17/how-to-use-categorical-multiclass-hinge-with-keras/)\r\n",
    "- [Hingle and squared hinge loss](https://www.machinecurve.com/index.php/2019/10/15/how-to-use-hinge-squared-hinge-loss-with-keras/)\r\n",
    "\r\n",
    "## KL divergence\r\n",
    "\r\n",
    "- [link1](https://stats.stackexchange.com/a/111523/279934)"
   ],
   "metadata": {}
  },
  {
   "cell_type": "markdown",
   "source": [],
   "metadata": {}
  }
 ],
 "metadata": {
  "interpreter": {
   "hash": "a07d8b953171f7309cc72dc31c4fe3a1dbcb6a8d9395b85270bed1ed2e7b0073"
  },
  "kernelspec": {
   "display_name": "Python 3.7.10 64-bit ('base': conda)",
   "name": "python3"
  },
  "language_info": {
   "name": "python",
   "version": ""
  },
  "orig_nbformat": 4
 },
 "nbformat": 4,
 "nbformat_minor": 2
}